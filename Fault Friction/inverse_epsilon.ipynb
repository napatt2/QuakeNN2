{
 "cells": [
  {
   "cell_type": "markdown",
   "id": "problem-formulation",
   "metadata": {},
   "source": [
    "## Formulation of the Problem\n",
    "\n",
    "We aim to predict the solutions for the following system of ODEs (in nondimensional form):\n",
    "\n",
    "\\begin{align*}\n",
    "\\frac{d\\tilde{u}}{d\\tilde{t}} &= \\tilde{v}, \\\\\n",
    "\\frac{d\\tilde{v}}{d\\tilde{t}} &= \\kappa(v_0 \\tilde{t} - \\tilde{u}) - \\alpha\\Big( f_0 + a \\ln \\tilde{v} + b \\ln \\tilde{\\theta} \\Big), \\\\\n",
    "\\frac{d\\tilde{\\theta}}{d\\tilde{t}} &= -\\tilde{v}\\tilde{\\theta} \\ln(\\tilde{v}\\tilde{\\theta}).\n",
    "\\end{align*}\n",
    "\n",
    "The loss function in the PINN is composed of three terms:\n",
    "\n",
    "- **Residual loss ($\\text{MSE}_R$)**: Enforces that the neural network output satisfies the ODEs.\n",
    "- **Boundary loss ($\\text{MSE}_B$)**: Ensures the initial conditions are met.\n",
    "- **Measurement loss ($\\text{MSE}_m$)**: Penalizes the difference between the network output and the measured values.\n",
    "\n",
    "The overall loss is given by:\n",
    "\n",
    "\n",
    "\\begin{align*}\n",
    "\\text{MSE} &= \\text{MSE}_R + \\text{MSE}_B + \\text{MSE}_m \\\\\n",
    "\\text{MSE}_R &= \\frac{1}{N_R} \\sum_{i=1}^{N_R} \\Big( \\left| \\dot{u}(t_i, \\varphi) - v(t_i, \\varphi) \\right|^2 \n",
    "  + \\left| \\dot{v}(t_i, \\varphi) - \\kappa(v_0 t_i - u(t_i, \\varphi)) + \\alpha\\Big(f_0 + a \\ln v(t_i, \\varphi) + b \\ln \\theta(t_i, \\varphi)\\Big) \\right|^2 \n",
    "  + \\left| \\dot{\\theta}(t_i, \\varphi) + v(t_i, \\varphi) \\theta(t_i, \\varphi) \\ln\\left(v(t_i, \\varphi)\\theta(t_i, \\varphi)\\right) \\right|^2 \\Big) \\\\\n",
    "  \\text{MSE}_B &= \\frac{1}{N_B} \\sum_{i=1}^{N_B} \\Big( \\left| u(0, \\varphi) - u_0 \\right|^2 + \\left| v(0, \\varphi) - v_0 \\right|^2 \n",
    "  + \\left| \\theta(0, \\varphi) - \\theta_0 \\right|^2 \\Big) \\\\\\text{MSE}_m &= \\frac{1}{N_m} \\sum_{i=1}^{N_m} \\Big( \\left| u(t_i, \\varphi) - u^*(t_i) \\right|^2 + \\left| v(t_i, \\varphi) - v^*(t_i) \\right|^2 \n",
    "  + \\left| \\theta(t_i, \\varphi) - \\theta^*(t_i) \\right|^2 \\Big).\n",
    "\\end{align*}\n",
    "\n",
    "\n",
    "Here, $\\varphi$ denotes the trainable parameters of the neural network."
   ]
  },
  {
   "cell_type": "markdown",
   "id": "import-libraries",
   "metadata": {},
   "source": [
    "## Import Libraries\n",
    "\n",
    "We begin by importing the necessary libraries including DeepXDE, NumPy, Matplotlib, Pandas, and TensorFlow (via DeepXDE's backend)."
   ]
  },
  {
   "cell_type": "code",
   "execution_count": 1,
   "id": "import-code",
   "metadata": {},
   "outputs": [
    {
     "name": "stderr",
     "output_type": "stream",
     "text": [
      "Using backend: tensorflow.compat.v1\n",
      "\n"
     ]
    },
    {
     "name": "stdout",
     "output_type": "stream",
     "text": [
      "WARNING:tensorflow:From C:\\Users\\napat\\anaconda3\\envs\\new_env\\lib\\site-packages\\tensorflow\\python\\compat\\v2_compat.py:107: disable_resource_variables (from tensorflow.python.ops.variable_scope) is deprecated and will be removed in a future version.\n",
      "Instructions for updating:\n",
      "non-resource variables are not supported in the long term\n",
      "WARNING:tensorflow:From C:\\Users\\napat\\anaconda3\\envs\\new_env\\lib\\site-packages\\deepxde\\nn\\initializers.py:118: The name tf.keras.initializers.he_normal is deprecated. Please use tf.compat.v1.keras.initializers.he_normal instead.\n",
      "\n"
     ]
    }
   ],
   "source": [
    "import deepxde as dde\n",
    "import numpy as np\n",
    "import matplotlib.pyplot as plt\n",
    "import pandas as pd\n",
    "from scipy import integrate\n",
    "from deepxde.backend import tf"
   ]
  },
  {
   "cell_type": "markdown",
   "id": "dataset-explanation",
   "metadata": {},
   "source": [
    "## Dataset Variables Explanation\n",
    "\n",
    "The dataset (CSV file) contains the following columns:\n",
    "\n",
    "- **`Var1`**: Time (independent variable, spanning from 0 to 100 seconds).\n",
    "- **`y1_1`**: $\\tilde{u}$ (slip) – the displacement of the block in the spring-block slider model.\n",
    "- **`y1_2`**: $\\tilde{v}$ (slip rate) – the time derivative of slip (velocity).\n",
    "- **`y1_3`**: $\\theta\\$ (state variable) – a variable from the rate-and-state friction law.\n",
    "\n",
    "These measurements will be used to enforce the measurement loss in the PINN framework."
   ]
  },
  {
   "cell_type": "code",
   "execution_count": null,
   "id": "read-dataset",
   "metadata": {},
   "outputs": [],
   "source": [
    "# Read the dataset (we take the first 10,000 data points)\n",
    "raw = pd.read_csv('./../Dataset/sbm1.csv')\n",
    "raw = raw[0:10000]\n",
    "\n",
    "# Extract columns from the dataset\n",
    "observe_t = raw['Var1']\n",
    "u_ext = raw['y1_1']\n",
    "v_ext = raw['y1_2']\n",
    "theta_ext = raw['y1_3']"
   ]
  },
  {
   "cell_type": "markdown",
   "id": "interpolate-and-plot-explanation",
   "metadata": {},
   "source": [
    "## Interpolating Data and Plotting Measurements\n",
    "\n",
    "We interpolate the full dataset to obtain **25 equidistant measurement points** (from time 0 to 100 seconds). \n",
    "These sparse measurements (\\(u^*, v^*, \\theta^*\\)) will be used as observed data in our PINN training."
   ]
  },
  {
   "cell_type": "code",
   "execution_count": null,
   "id": "interpolate-and-plot",
   "metadata": {},
   "outputs": [],
   "source": [
    "t_int = np.linspace(0, 100, 25)\n",
    "\n",
    "u_int = np.interp(t_int, observe_t.values.reshape(-1), u_ext.values.reshape(-1))\n",
    "v_int = np.interp(t_int, observe_t.values.reshape(-1), v_ext.values.reshape(-1))\n",
    "theta_int = np.interp(t_int, observe_t.values.reshape(-1), theta_ext.values.reshape(-1))\n",
    "\n",
    "plt.figure(figsize=(8, 6))\n",
    "plt.plot(observe_t, u_ext, label=\"Full Slip (u)\")\n",
    "plt.plot(observe_t, v_ext, label=\"Full Slip Rate (v)\")\n",
    "plt.plot(observe_t, theta_ext, label= r\"Full State (\\(\\theta\\))\")\n",
    "\n",
    "plt.scatter(t_int, u_int, label=\"Measured Slip\", color='red')\n",
    "plt.scatter(t_int, v_int, label=\"Measured Slip Rate\", color='orange')\n",
    "plt.scatter(t_int, theta_int, label= r\"Measured State (\\(\\theta\\))\", color='green')\n",
    "\n",
    "plt.xlabel('Time')\n",
    "plt.ylabel('Values')\n",
    "plt.legend()\n",
    "plt.grid(True)\n",
    "plt.show()\n",
    "\n",
    "# Reshape the interpolated arrays for DeepXDE (each as a column vector)\n",
    "observe_t = t_int.reshape((-1, 1))\n",
    "u_ext = u_int.reshape((-1, 1))\n",
    "v_ext = v_int.reshape((-1, 1))\n",
    "theta_ext = theta_int.reshape((-1, 1))"
   ]
  },
  {
   "cell_type": "markdown",
   "id": "define-boundary-conditions-explanation",
   "metadata": {},
   "source": [
    "## Defining Measurement Boundary Conditions\n",
    "\n",
    "We define the measurement boundary conditions using DeepXDE's `PointSetBC` class. \n",
    "These boundary conditions force the neural network solution to match the measured values \n",
    "at the specified time points for each of the three components: \\(u\\), \\(v\\), and \\(\\theta\\)."
   ]
  },
  {
   "cell_type": "code",
   "execution_count": null,
   "id": "define-boundary-conditions",
   "metadata": {},
   "outputs": [],
   "source": [
    "observe_y0 = dde.icbc.PointSetBC(observe_t, u_ext, component=0)\n",
    "observe_y1 = dde.icbc.PointSetBC(observe_t, v_ext, component=1)\n",
    "observe_y2 = dde.icbc.PointSetBC(observe_t, theta_ext, component=2)"
   ]
  },
  {
   "cell_type": "code",
   "execution_count": null,
   "id": "define-parameters",
   "metadata": {},
   "outputs": [],
   "source": [
    "# Define physical parameters\n",
    "alpha = 9.81\n",
    "kappa = 0.25\n",
    "v0 = 1\n",
    "f0 = 0.2\n",
    "a = 0.2\n",
    "b = 0.3"
   ]
  },
  {
   "cell_type": "code",
   "execution_count": null,
   "id": "define-ode-system",
   "metadata": {},
   "outputs": [],
   "source": [
    "def ode_system(x, y):\n",
    "    # y is a tensor with three columns corresponding to u, v, and theta\n",
    "    u = y[:, 0:1]\n",
    "    v = y[:, 1:2]\n",
    "    theta = y[:, 2:3]\n",
    "\n",
    "    # Compute time derivatives using automatic differentiation\n",
    "    du_t = dde.grad.jacobian(y, x, i=0)\n",
    "    dv_t = dde.grad.jacobian(y, x, i=1)\n",
    "    dtheta_t = dde.grad.jacobian(y, x, i=2)\n",
    "\n",
    "    # Use tf.clip_by_value to prevent taking the logarithm of non-positive values\n",
    "    v_clip = tf.clip_by_value(v, 1e-6, 13)\n",
    "    theta_clip = tf.clip_by_value(theta, 1e-6, 11)\n",
    "\n",
    "    # Define the residuals for each ODE\n",
    "    res_u = du_t - v_clip\n",
    "    res_v = dv_t - (kappa * (v0 * x - u) - alpha * (f0 + a * tf.math.log(v_clip) + b * tf.math.log(theta_clip)))\n",
    "    res_theta = dtheta_t + v_clip * theta_clip * tf.math.log(v_clip * theta_clip)\n",
    "\n",
    "    return [res_u, res_v, res_theta]"
   ]
  },
  {
   "cell_type": "markdown",
   "id": "training-process-explanation",
   "metadata": {},
   "source": [
    "## Compile and Train the PINN Model\n",
    "\n",
    "We now set up the PINN to solve the ODE system. \n",
    "\n",
    "- **Geometry**: We define the time domain as \\([0, 100]\\).\n",
    "- **Data**: We use the defined ODE system along with the measurement boundary conditions. \n",
    "  The model uses 20,000 residual points for enforcing the physics and 25 measurement points for data loss.\n",
    "- **Neural Network Architecture**: The feed-forward network has 6 hidden layers of 64 neurons each, \n",
    "  with hyperbolic tangent (tanh) as the activation function. The network has 1 input (time) and 3 outputs \n",
    "  (\\(\\tilde{u}\\), \\(\\tilde{v}\\), and \\(\\tilde{\\theta}\\)).\n",
    "- **Output Transform**: We apply a transform to help the network better capture the behavior near the boundaries.\n",
    "- **Training**: The model is compiled with the Adam optimizer (learning rate = 0.0001) and trained for 50,000 iterations."
   ]
  },
  {
   "cell_type": "code",
   "execution_count": null,
   "id": "define-geometry",
   "metadata": {},
   "outputs": [],
   "source": [
    "geom = dde.geometry.TimeDomain(0, 100)"
   ]
  },
  {
   "cell_type": "code",
   "execution_count": null,
   "id": "define-data",
   "metadata": {},
   "outputs": [],
   "source": [
    "data = dde.data.PDE(\n",
    "    geom,\n",
    "    ode_system,\n",
    "    [observe_y0, observe_y1, observe_y2],\n",
    "    20000,\n",
    "    0,\n",
    "    num_test=3000\n",
    ")"
   ]
  },
  {
   "cell_type": "code",
   "execution_count": null,
   "id": "define-network",
   "metadata": {},
   "outputs": [],
   "source": [
    "layer_size = [1] + [64] * 6 + [3]\n",
    "activation = \"tanh\"\n",
    "initializer = \"Glorot normal\"\n",
    "net = dde.nn.FNN(layer_size, activation, initializer)"
   ]
  },
  {
   "cell_type": "code",
   "execution_count": null,
   "id": "output-transform",
   "metadata": {},
   "outputs": [],
   "source": [
    "def output_transform(t, y):\n",
    "    # Modify the raw network output to better match the expected behavior at the boundaries\n",
    "    y1 = y[:, 0:1]\n",
    "    y2 = y[:, 1:2]\n",
    "    y3 = y[:, 2:3]\n",
    "    \n",
    "    # The transform shifts the predictions to approximately match the initial conditions:\n",
    "    # u -> tanh(t)*y1 + 1, v -> tanh(t)*y2 + 0.5, theta -> tanh(t)*y3 + 1\n",
    "    return tf.concat([y1 * tf.tanh(t) + 1,\n",
    "                      y2 * tf.tanh(t) + 0.5,\n",
    "                      y3 * tf.tanh(t) + 1], axis=1)\n",
    "\n",
    "net.apply_output_transform(output_transform)"
   ]
  },
  {
   "cell_type": "code",
   "execution_count": null,
   "id": "compile-and-train",
   "metadata": {},
   "outputs": [],
   "source": [
    "model = dde.Model(data, net)\n",
    "model.compile(\n",
    "    \"adam\",\n",
    "    lr=0.0001,\n",
    "    loss_weights=[1, 1, 1, 1, 1, 1]\n",
    ")\n",
    "\n",
    "# Create output directory for saving checkpoints\n",
    "path = \"./../output/Model/model\"\n",
    "os.makedirs(path, exist_ok=True)\n",
    "checkpoint_path = os.path.join(path, \"model.ckpt\")\n",
    "checker = dde.callbacks.ModelCheckpoint(\n",
    "      checkpoint_path, save_better_only=True, period=50\n",
    "  )\n",
    "\n",
    "# Train the model for 50,000 iterations (using 'epochs' which is equivalent to iterations here)\n",
    "losshistory, train_state = model.train(epochs=50000)"
   ]
  },
  {
   "cell_type": "markdown",
   "id": "prediction-plotting-explanation",
   "metadata": {},
   "source": [
    "## Prediction and Plotting\n",
    "\n",
    "After training the PINN, we predict the solution over the time domain and plot the network predictions \n",
    "against the true values (from the dataset). This visualization helps assess how well the PINN has learned \n",
    "the underlying dynamics of the nonlinear frictional system."
   ]
  },
  {
   "cell_type": "code",
   "execution_count": null,
   "id": "prediction-and-plotting",
   "metadata": {},
   "outputs": [],
   "source": [
    "observe_t = raw['Var1']\n",
    "u_ext = raw['y1_1']\n",
    "v_ext = raw['y1_2']\n",
    "theta_ext = raw['y1_3']\n",
    "\n",
    "plt.figure(figsize=(8, 6))\n",
    "plt.xlabel(\"Time\")\n",
    "plt.ylabel(\"y\")\n",
    "\n",
    "plt.plot(observe_t, u_ext, color=\"black\", label=\"True u\")\n",
    "plt.plot(observe_t, v_ext, color=\"blue\", label=\"True v\")\n",
    "plt.plot(observe_t, theta_ext, color=\"brown\", label=r'True $\\theta$')\n",
    "\n",
    "t = np.linspace(0, 100, 10000).reshape((-1, 1))\n",
    "sol_pred = model.predict(t)\n",
    "u_pred = sol_pred[:, 0:1]\n",
    "v_pred = sol_pred[:, 1:2]\n",
    "theta_pred = sol_pred[:, 2:3]\n",
    "\n",
    "plt.plot(t, u_pred, color=\"red\", linestyle=\"dashed\", label=\"Predict u\")\n",
    "plt.plot(t, v_pred, color=\"orange\", linestyle=\"dashed\", label=\"Predict v\")\n",
    "plt.plot(t, theta_pred, color=\"green\", linestyle=\"dashed\", label=r\"Predict $\\theta$\")\n",
    "plt.legend()\n",
    "plt.grid(True)\n",
    "plt.savefig('./../output/pred.png')\n",
    "plt.show()"
   ]
  }
 ],
 "metadata": {
  "colab": {
   "name": "PINN_Inverse_10_blocks.ipynb",
   "provenance": []
  },
  "kernelspec": {
   "display_name": "Python 3 (ipykernel)",
   "language": "python",
   "name": "python3"
  },
  "language_info": {
   "codemirror_mode": {
    "name": "ipython",
    "version": 3
   },
   "file_extension": ".py",
   "mimetype": "text/x-python",
   "name": "python",
   "nbconvert_exporter": "python",
   "pygments_lexer": "ipython3",
   "version": "3.10.8"
  }
 },
 "nbformat": 4,
 "nbformat_minor": 5
}
