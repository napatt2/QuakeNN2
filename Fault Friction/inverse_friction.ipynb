{
 "cells": [
  {
   "cell_type": "markdown",
   "id": "introduction",
   "metadata": {},
   "source": [
    "# Inverse Friction Evolution Using PINNs\n",
    "\n",
    "This notebook solves the inverse friction evolution problem using Physics-Informed Neural Networks (PINNs). In this inverse problem, we aim to infer unknown friction parameters (for example, $f_0$, $a$, and $b$) in the rate-and-state friction law from measured data.\n",
    "\n",
    "The model is based on the following nondimensionalized system of ordinary differential equations (ODEs):\n",
    "\n",
    "\\begin{align*}\n",
    "\\frac{d\\tilde{u}}{d\\tilde{t}} &= \\tilde{v}, \\\\\n",
    "\\frac{d\\tilde{v}}{d\\tilde{t}} &= \\kappa\\big(v_0 \\tilde{t} - \\tilde{u}\\big) - \\alpha\\Big( f_0 + a \\ln \\tilde{v} + b \\ln \\tilde{\\theta} \\Big), \\\\\n",
    "\\frac{d\\tilde{\\theta}}{d\\tilde{t}} &= -\\tilde{v}\\tilde{\\theta}\\ln\\big(\\tilde{v}\\tilde{\\theta}\\big).\n",
    "\\end{align*}\n",
    "\n",
    "In the inverse setting the friction parameters $f_0$, $a$ and $b$ are treated as unknown and are estimated during training.\n",
    "\n",
    "The overall loss used for training is composed of:\n",
    "\n",
    "- **Residual loss ($\\text{MSE}_R$)**: Enforcing that the network output satisfies the ODE system.\n",
    "- **Boundary loss ($\\text{MSE}_B$)**: Ensuring the initial conditions are met.\n",
    "- **Measurement loss ($\\text{MSE}_m$)**: Penalizing the difference between the network output and measured data.\n",
    "\n",
    "Below, we detail each step in the workflow."
   ]
  },
  {
   "cell_type": "markdown",
   "id": "import-libraries",
   "metadata": {},
   "source": [
    "## Import Libraries\n",
    "\n",
    "We begin by importing the necessary libraries: DeepXDE (for PINNs), NumPy, Matplotlib, Pandas, and the backend (TensorFlow) from DeepXDE."
   ]
  },
  {
   "cell_type": "code",
   "execution_count": null,
   "id": "import-code",
   "metadata": {},
   "outputs": [],
   "source": [
    "import deepxde as dde\n",
    "import numpy as np\n",
    "import matplotlib.pyplot as plt\n",
    "import pandas as pd\n",
    "from scipy import integrate\n",
    "from deepxde.backend import tf"
   ]
  },
  {
   "cell_type": "markdown",
   "id": "dataset-explanation",
   "metadata": {},
   "source": [
    "## Dataset Variables Explanation\n",
    "\n",
    "The dataset (CSV file) contains the following columns:\n",
    "\n",
    "- **`Var1`**: Time (independent variable, spanning from 0 to 100 seconds).\n",
    "- **`y1_1`**: $\\tilde{u}$ (slip) – the displacement in the spring-block slider model.\n",
    "- **`y1_2`**: $\\tilde{v}$ (slip rate) – the time derivative of slip (velocity).\n",
    "- **`y1_3`**: $\\theta$ (state variable) – a variable from the rate-and-state friction law.\n",
    "\n",
    "These measured values (denoted $u^*$, $v^*$, and $\\theta^*$) will be used to enforce the measurement loss."
   ]
  },
  {
   "cell_type": "code",
   "execution_count": null,
   "id": "read-dataset",
   "metadata": {},
   "outputs": [],
   "source": [
    "# Read the dataset (taking the first 10,000 data points)\n",
    "raw = pd.read_csv('./../Dataset/sbm1.csv')\n",
    "raw = raw[0:10000]\n",
    "\n",
    "# Extract the columns\n",
    "observe_t = raw['Var1']\n",
    "u_ext = raw['y1_1']\n",
    "v_ext = raw['y1_2']\n",
    "theta_ext = raw['y1_3']"
   ]
  },
  {
   "cell_type": "markdown",
   "id": "interpolate-data",
   "metadata": {},
   "source": [
    "## Interpolating and Plotting Measurements\n",
    "\n",
    "We interpolate the full dataset to obtain **25 equidistant measurement points** from time 0 to 100. \n",
    "These sparse points will be used as the observed data in the PINN training."
   ]
  },
  {
   "cell_type": "code",
   "execution_count": null,
   "id": "interpolate-and-plot",
   "metadata": {},
   "outputs": [],
   "source": [
    "t_int = np.linspace(0, 100, 25)\n",
    "\n",
    "u_int = np.interp(t_int, observe_t.values.reshape(-1), u_ext.values.reshape(-1))\n",
    "v_int = np.interp(t_int, observe_t.values.reshape(-1), v_ext.values.reshape(-1))\n",
    "theta_int = np.interp(t_int, observe_t.values.reshape(-1), theta_ext.values.reshape(-1))\n",
    "\n",
    "plt.figure(figsize=(8,6))\n",
    "plt.plot(observe_t, u_ext, label=\"Full Slip (u)\")\n",
    "plt.plot(observe_t, v_ext, label=\"Full Slip Rate (v)\")\n",
    "plt.plot(observe_t, theta_ext, label= r\"Full State (\\(\\theta\\))\")\n",
    "\n",
    "plt.scatter(t_int, u_int, color='red', label=\"Measured u\")\n",
    "plt.scatter(t_int, v_int, color='orange', label=\"Measured v\")\n",
    "plt.scatter(t_int, theta_int, color='green', label= r\"Measured \\(\\theta\\)\")\n",
    "\n",
    "plt.xlabel('Time')\n",
    "plt.ylabel('Values')\n",
    "plt.legend()\n",
    "plt.grid(True)\n",
    "plt.show()\n",
    "\n",
    "# Reshape the interpolated data for DeepXDE (each as a column vector)\n",
    "observe_t = t_int.reshape((-1, 1))\n",
    "u_ext = u_int.reshape((-1, 1))\n",
    "v_ext = v_int.reshape((-1, 1))\n",
    "theta_ext = theta_int.reshape((-1, 1))"
   ]
  },
  {
   "cell_type": "markdown",
   "id": "define-measurement-bcs",
   "metadata": {},
   "source": [
    "## Defining Measurement Boundary Conditions\n",
    "\n",
    "We use DeepXDE's `PointSetBC` to enforce that the network solution matches the measured data at the chosen time points.\n",
    "\n",
    "Each boundary condition is defined for one of the three outputs: $\\tilde{u}$, $\\tilde{v}$, and $\\theta$."
   ]
  },
  {
   "cell_type": "code",
   "execution_count": null,
   "id": "define-bcs",
   "metadata": {},
   "outputs": [],
   "source": [
    "observe_y0 = dde.icbc.PointSetBC(observe_t, u_ext, component=0)\n",
    "observe_y1 = dde.icbc.PointSetBC(observe_t, v_ext, component=1)\n",
    "observe_y2 = dde.icbc.PointSetBC(observe_t, theta_ext, component=2)"
   ]
  },
  {
   "cell_type": "markdown",
   "id": "inverse-problem-formulation",
   "metadata": {},
   "source": [
    "## Inverse Problem Formulation\n",
    "\n",
    "In addition to solving the forward ODE system, we now treat the friction parameters $f_0$, $a$, and $b$ as unknowns that will be inferred during training.\n",
    "\n",
    "The inverse problem uses the same ODE system as before:\n",
    "\n",
    "\\begin{align*}\n",
    "\\frac{d\\tilde{u}}{d\\tilde{t}} &= \\tilde{v}, \\\\\n",
    "\\frac{d\\tilde{v}}{d\\tilde{t}} &= \\kappa\\big(v_0 \\tilde{t} - \\tilde{u}\\big) - \\alpha\\Big( f_0 + a \\ln \\tilde{v} + b \\ln \\tilde{\\theta} \\Big), \\\\\n",
    "\\frac{d\\tilde{\\theta}}{d\\tilde{t}} &= -\\tilde{v}\\tilde{\\theta}\\ln\\big(\\tilde{v}\\tilde{\\theta}\\big).\n",
    "\\end{align*}\n",
    "\n",
    "In our PINN formulation, the friction parameters are set as trainable variables (with initial guesses)."
   ]
  },
  {
   "cell_type": "code",
   "execution_count": null,
   "id": "inverse-ode-system",
   "metadata": {},
   "outputs": [],
   "source": [
    "def inverse_ode_system(x, y):\n",
    "    \"\"\"\n",
    "    Define the residuals of the ODE system for the inverse friction evolution problem.\n",
    "    In this formulation, the friction parameters f0, a, and b are treated as trainable variables.\n",
    "    \"\"\"\n",
    "    # y has three columns corresponding to u, v, and theta\n",
    "    u = y[:, 0:1]\n",
    "    v = y[:, 1:2]\n",
    "    theta = y[:, 2:3]\n",
    "\n",
    "    # Compute time derivatives using automatic differentiation\n",
    "    du_t = dde.grad.jacobian(y, x, i=0)\n",
    "    dv_t = dde.grad.jacobian(y, x, i=1)\n",
    "    dtheta_t = dde.grad.jacobian(y, x, i=2)\n",
    "\n",
    "    # Define trainable friction parameters (initial guesses)\n",
    "    f0_inv = dde.Variable(0.2)\n",
    "    a_inv  = dde.Variable(0.2)\n",
    "    b_inv  = dde.Variable(0.3)\n",
    "\n",
    "    # Clip v and theta to avoid issues with logarithms (avoid non-positive values)\n",
    "    v_clip = tf.clip_by_value(v, 1e-6, 13)\n",
    "    theta_clip = tf.clip_by_value(theta, 1e-6, 11)\n",
    "\n",
    "    # Define the residuals\n",
    "    res_u = du_t - v_clip\n",
    "    res_v = dv_t - (kappa * (v0 * x - u) - alpha * (f0_inv + a_inv * tf.math.log(v_clip) + b_inv * tf.math.log(theta_clip)))\n",
    "    res_theta = dtheta_t + v_clip * theta_clip * tf.math.log(v_clip * theta_clip)\n",
    "\n",
    "    return [res_u, res_v, res_theta]"
   ]
  },
  {
   "cell_type": "markdown",
   "id": "training-process",
   "metadata": {},
   "source": [
    "## Compile and Train the PINN Model\n",
    "\n",
    "We now set up the PINN for the inverse problem. The following steps are used:\n",
    "\n",
    "- **Geometry**: The time domain is defined as \\([0, 100]\\).\n",
    "- **Data**: The PINN is enforced to satisfy the inverse ODE system and to match the measured data\n",
    "  (using 20,000 residual points and the 25 measurement points defined earlier).\n",
    "- **Network Architecture**: A feed-forward neural network with 6 hidden layers of 64 neurons each, \n",
    "  using the hyperbolic tangent (tanh) activation function. The network has 1 input (time) and 3 outputs.\n",
    "- **Output Transform**: An output transform is applied to help the network meet the initial conditions.\n",
    "- **Training**: The model is compiled with the Adam optimizer (learning rate = 0.0001) and trained for 50,000 iterations.\n",
    "\n",
    "During training the unknown friction parameters are adjusted so that the predicted dynamics match the observed data."
   ]
  },
  {
   "cell_type": "code",
   "execution_count": null,
   "id": "define-geometry-data",
   "metadata": {},
   "outputs": [],
   "source": [
    "geom = dde.geometry.TimeDomain(0, 100)\n",
    "\n",
    "data = dde.data.PDE(\n",
    "    geom,\n",
    "    inverse_ode_system,\n",
    "    [observe_y0, observe_y1, observe_y2],\n",
    "    20000,\n",
    "    0,\n",
    "    num_test=3000\n",
    ")"
   ]
  },
  {
   "cell_type": "code",
   "execution_count": null,
   "id": "define-network",
   "metadata": {},
   "outputs": [],
   "source": [
    "layer_size = [1] + [64] * 6 + [3]\n",
    "activation = \"tanh\"\n",
    "initializer = \"Glorot normal\"\n",
    "net = dde.nn.FNN(layer_size, activation, initializer)"
   ]
  },
  {
   "cell_type": "code",
   "execution_count": null,
   "id": "output-transform",
   "metadata": {},
   "outputs": [],
   "source": [
    "def output_transform(t, y):\n",
    "    \"\"\"\n",
    "    Output transform to help the network satisfy initial conditions.\n",
    "    The network outputs are shifted to approximately match:\n",
    "    u ~ tanh(t) * y1 + 1, v ~ tanh(t) * y2 + 0.5, theta ~ tanh(t) * y3 + 1\n",
    "    \"\"\"\n",
    "    y1 = y[:, 0:1]\n",
    "    y2 = y[:, 1:2]\n",
    "    y3 = y[:, 2:3]\n",
    "    return tf.concat([\n",
    "        y1 * tf.tanh(t) + 1,\n",
    "        y2 * tf.tanh(t) + 0.5,\n",
    "        y3 * tf.tanh(t) + 1\n",
    "    ], axis=1)\n",
    "\n",
    "net.apply_output_transform(output_transform)"
   ]
  },
  {
   "cell_type": "code",
   "execution_count": null,
   "id": "compile-train-model",
   "metadata": {},
   "outputs": [],
   "source": [
    "model = dde.Model(data, net)\n",
    "model.compile(\n",
    "    \"adam\",\n",
    "    lr=0.0001,\n",
    "    loss_weights=[1, 1, 1, 1, 1, 1]\n",
    ")\n",
    "\n",
    "# Create output directory for saving checkpoints\n",
    "path = \"./../output/Model/model\"\n",
    "os.makedirs(path, exist_ok=True)\n",
    "checkpoint_path = os.path.join(path, \"model.ckpt\")\n",
    "checker = dde.callbacks.ModelCheckpoint(\n",
    "      checkpoint_path, save_better_only=True, period=50\n",
    "  )\n",
    "\n",
    "# Train the model for 50,000 iterations (epochs is deprecated; use iterations instead)\n",
    "losshistory, train_state = model.train(epochs=50000, callbacks=[checker])"
   ]
  },
  {
   "cell_type": "markdown",
   "id": "prediction-plotting",
   "metadata": {},
   "source": [
    "## Prediction and Plotting\n",
    "\n",
    "After training the PINN, we predict the solution over the time domain and compare the network predictions with the true measured data. \n",
    "\n",
    "This visualization allows us to assess how well the inverse PINN has inferred the dynamics and, indirectly, the unknown friction parameters."
   ]
  },
  {
   "cell_type": "code",
   "execution_count": null,
   "id": "predict-plot",
   "metadata": {},
   "outputs": [],
   "source": [
    "observe_t = raw['Var1']\n",
    "u_ext = raw['y1_1']\n",
    "v_ext = raw['y1_2']\n",
    "theta_ext = raw['y1_3']\n",
    "\n",
    "plt.figure(figsize=(8,6))\n",
    "plt.xlabel(\"Time\")\n",
    "plt.ylabel(\"y\")\n",
    "\n",
    "plt.plot(observe_t, u_ext, color=\"black\", label=\"True u\")\n",
    "plt.plot(observe_t, v_ext, color=\"blue\", label=\"True v\")\n",
    "plt.plot(observe_t, theta_ext, color=\"brown\", label=r'True $\\theta$')\n",
    "\n",
    "t = np.linspace(0, 100, 10000).reshape((-1, 1))\n",
    "sol_pred = model.predict(t)\n",
    "u_pred = sol_pred[:, 0:1]\n",
    "v_pred = sol_pred[:, 1:2]\n",
    "theta_pred = sol_pred[:, 2:3]\n",
    "\n",
    "plt.plot(t, u_pred, color=\"red\", linestyle=\"dashed\", label=\"Predict u\")\n",
    "plt.plot(t, v_pred, color=\"orange\", linestyle=\"dashed\", label=\"Predict v\")\n",
    "plt.plot(t, theta_pred, color=\"green\", linestyle=\"dashed\", label=r\"Predict $\\theta$\")\n",
    "plt.legend()\n",
    "plt.grid(True)\n",
    "plt.savefig('./../output/pred_inverse.png')\n",
    "plt.show()"
   ]
  }
 ],
 "metadata": {
  "colab": {
   "name": "Inverse_friction_evolution.ipynb",
   "provenance": []
  },
  "kernelspec": {
   "display_name": "Python 3 (ipykernel)",
   "language": "python",
   "name": "python3"
  },
  "language_info": {
   "codemirror_mode": {
    "name": "ipython",
    "version": 3
   },
   "file_extension": ".py",
   "mimetype": "text/x-python",
   "name": "python",
   "nbconvert_exporter": "python",
   "pygments_lexer": "ipython3",
   "version": "3.10.8"
  }
 },
 "nbformat": 4,
 "nbformat_minor": 5
}
