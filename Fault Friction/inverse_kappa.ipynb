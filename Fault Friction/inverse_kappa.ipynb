{
 "cells": [
  {
   "cell_type": "markdown",
   "id": "intro-inverse-kappa",
   "metadata": {},
   "source": [
    "# Inverse Estimation of $\\kappa$ Using PINNs\n",
    "\n",
    "This notebook uses Physics-Informed Neural Networks (PINNs) to solve an inverse problem in which the stiffness parameter $\\kappa$ in a frictional system is unknown and is estimated during training. The governing nondimensionalized ODE system is:\n",
    "\n",
    "\\begin{align*}\n",
    "\\frac{d\\tilde{u}}{d\\tilde{t}} &= \\tilde{v}, \\\\\n",
    "\\frac{d\\tilde{v}}{d\\tilde{t}} &= \\kappa\\big(v_0 \\tilde{t} - \\tilde{u}\\big) - \\alpha \\Big( f_0 + a \\ln \\tilde{v} + b \\ln \\tilde{\\theta} \\Big), \\\\\n",
    "\\frac{d\\tilde{\\theta}}{d\\tilde{t}} &= -\\tilde{v}\\tilde{\\theta}\\ln\\big(\\tilde{v}\\tilde{\\theta}\\big).\n",
    "\\end{align*}\n",
    "\n",
    "In this inverse problem, the friction parameters $f_0$, $a$, and $b$ are assumed known, while $\\kappa$ is treated as a trainable variable. The loss function combines:\n",
    "\n",
    "- **Residual loss ($\\text{MSE}_R$)**: Enforcing that the network output satisfies the ODE system.\n",
    "- **Boundary loss ($\\text{MSE}_B$)**: Ensuring the initial conditions are met.\n",
    "- **Measurement loss ($\\text{MSE}_m$)**: Penalizing the difference between the network output and measured data.\n",
    "\n",
    "Below, each step is described in detail."
   ]
  },
  {
   "cell_type": "markdown",
   "id": "import-libraries-2",
   "metadata": {},
   "source": [
    "## Import Libraries\n",
    "\n",
    "We begin by importing the required libraries: DeepXDE (for PINNs), NumPy, Matplotlib, Pandas, and the backend (TensorFlow) from DeepXDE."
   ]
  },
  {
   "cell_type": "code",
   "execution_count": null,
   "id": "import-code-2",
   "metadata": {},
   "outputs": [],
   "source": [
    "import deepxde as dde\n",
    "import numpy as np\n",
    "import matplotlib.pyplot as plt\n",
    "import pandas as pd\n",
    "from scipy import integrate\n",
    "from deepxde.backend import tf"
   ]
  },
  {
   "cell_type": "markdown",
   "id": "dataset-explanation-2",
   "metadata": {},
   "source": [
    "## Dataset Variables Explanation\n",
    "\n",
    "The dataset (stored in a CSV file) contains the following columns:\n",
    "\n",
    "- **`Var1`**: Time (in seconds, ranging from 0 to 100).\n",
    "- **`y1_1`**: $\\tilde{u}$ (slip) – the displacement in the spring-block slider model.\n",
    "- **`y1_2`**: $\\tilde{v}$ (slip rate) – the time derivative of the slip (velocity).\n",
    "- **`y1_3`**: $\\theta$ (state variable) – a variable describing the frictional state.\n",
    "\n",
    "These measured values (denoted $u^*$, $v^*$, and $\\theta^*$) will be used in the measurement loss term."
   ]
  },
  {
   "cell_type": "code",
   "execution_count": null,
   "id": "read-dataset-2",
   "metadata": {},
   "outputs": [],
   "source": [
    "# Read the dataset (using the first 10,000 data points)\n",
    "raw = pd.read_csv('../Dataset/sbm1.csv')\n",
    "raw = raw[0:10000]\n",
    "\n",
    "# Extract the columns\n",
    "observe_t = raw['Var1']\n",
    "u_ext = raw['y1_1']\n",
    "v_ext = raw['y1_2']\n",
    "theta_ext = raw['y1_3']"
   ]
  },
  {
   "cell_type": "markdown",
   "id": "interpolate-data-2",
   "metadata": {},
   "source": [
    "## Interpolate and Plot Measurements\n",
    "\n",
    "We interpolate the data to obtain **25 equidistant measurement points** between time 0 and 100. These points will be used to enforce the measurement loss."
   ]
  },
  {
   "cell_type": "code",
   "execution_count": null,
   "id": "interpolate-and-plot-2",
   "metadata": {},
   "outputs": [],
   "source": [
    "t_int = np.linspace(0, 100, 25)\n",
    "\n",
    "u_int = np.interp(t_int, observe_t.values.reshape(-1), u_ext.values.reshape(-1))\n",
    "v_int = np.interp(t_int, observe_t.values.reshape(-1), v_ext.values.reshape(-1))\n",
    "theta_int = np.interp(t_int, observe_t.values.reshape(-1), theta_ext.values.reshape(-1))\n",
    "\n",
    "plt.figure(figsize=(8,6))\n",
    "plt.plot(observe_t, u_ext, label=\"Full Slip (u)\")\n",
    "plt.plot(observe_t, v_ext, label=\"Full Slip Rate (v)\")\n",
    "plt.plot(observe_t, theta_ext, label=r\"Full State (\\(\\theta\\))\")\n",
    "\n",
    "plt.scatter(t_int, u_int, color='red', label=\"Measured u\")\n",
    "plt.scatter(t_int, v_int, color='orange', label=\"Measured v\")\n",
    "plt.scatter(t_int, theta_int, color='green', label=r\"Measured \\(\\theta\\)\")\n",
    "\n",
    "plt.xlabel('Time')\n",
    "plt.ylabel('Values')\n",
    "plt.legend()\n",
    "plt.grid(True)\n",
    "plt.show()\n",
    "\n",
    "# Reshape the data for DeepXDE\n",
    "observe_t = t_int.reshape((-1, 1))\n",
    "u_ext = u_int.reshape((-1, 1))\n",
    "v_ext = v_int.reshape((-1, 1))\n",
    "theta_ext = theta_int.reshape((-1, 1))"
   ]
  },
  {
   "cell_type": "markdown",
   "id": "define-measurement-bcs-2",
   "metadata": {},
   "source": [
    "## Define Measurement Boundary Conditions\n",
    "\n",
    "We enforce the measured data by creating boundary conditions at the 25 measurement points using DeepXDE’s `PointSetBC` for each variable."
   ]
  },
  {
   "cell_type": "code",
   "execution_count": null,
   "id": "define-bcs-2",
   "metadata": {},
   "outputs": [],
   "source": [
    "observe_y0 = dde.icbc.PointSetBC(observe_t, u_ext, component=0)\n",
    "observe_y1 = dde.icbc.PointSetBC(observe_t, v_ext, component=1)\n",
    "observe_y2 = dde.icbc.PointSetBC(observe_t, theta_ext, component=2)"
   ]
  },
  {
   "cell_type": "markdown",
   "id": "inverse-problem-formulation-2",
   "metadata": {},
   "source": [
    "## Inverse Problem Formulation: Inferring $\\kappa$\n",
    "\n",
    "In this inverse problem, the stiffness parameter $\\kappa$ is unknown. The other parameters ($\\alpha$, $v_0$, $f_0$, $a$, and $b$) are assumed known. \n",
    "\n",
    "The governing ODE system is:\n",
    "\n",
    "\\begin{align*}\n",
    "\\frac{d\\tilde{u}}{d\\tilde{t}} &= \\tilde{v}, \\\\\n",
    "\\frac{d\\tilde{v}}{d\\tilde{t}} &= \\kappa\\big(v_0 \\tilde{t} - \\tilde{u}\\big) - \\alpha \\Big( f_0 + a \\ln \\tilde{v} + b \\ln \\tilde{\\theta} \\Big), \\\\\n",
    "\\frac{d\\tilde{\\theta}}{d\\tilde{t}} &= -\\tilde{v}\\tilde{\\theta}\\ln\\big(\\tilde{v}\\tilde{\\theta}\\big).\n",
    "\\end{align*}\n",
    "\n",
    "Here, $\\kappa$ is modeled as a trainable variable (with an initial guess), and its value will be updated during training."
   ]
  },
  {
   "cell_type": "code",
   "execution_count": null,
   "id": "inverse-ode-system-kappa",
   "metadata": {},
   "outputs": [],
   "source": [
    "def inverse_ode_system_kappa(x, y):\n",
    "    \"\"\"\n",
    "    Defines the residuals of the ODE system for the inverse problem where\n",
    "    the stiffness parameter \\(\\kappa\\) is unknown and treated as a trainable variable.\n",
    "    \"\"\"\n",
    "    # Split y into its components: u, v, and theta\n",
    "    u = y[:, 0:1]\n",
    "    v = y[:, 1:2]\n",
    "    theta = y[:, 2:3]\n",
    "\n",
    "    # Compute the time derivatives using automatic differentiation\n",
    "    du_t = dde.grad.jacobian(y, x, i=0)\n",
    "    dv_t = dde.grad.jacobian(y, x, i=1)\n",
    "    dtheta_t = dde.grad.jacobian(y, x, i=2)\n",
    "\n",
    "    # Known parameters\n",
    "    alpha = 9.81\n",
    "    v0 = 1\n",
    "    f0 = 0.2\n",
    "    a = 0.2\n",
    "    b = 0.3\n",
    "\n",
    "    # Treat kappa as a trainable variable (initialize with a guess, e.g., 0.25)\n",
    "    kappa_inv = dde.Variable(0.25)\n",
    "\n",
    "    # Clip v and theta to ensure positive arguments in logarithms\n",
    "    v_clip = tf.clip_by_value(v, 1e-6, 13)\n",
    "    theta_clip = tf.clip_by_value(theta, 1e-6, 11)\n",
    "\n",
    "    # Define the residuals of the ODE system\n",
    "    res_u = du_t - v_clip\n",
    "    res_v = dv_t - (kappa_inv * (v0 * x - u) - alpha * (f0 + a * tf.math.log(v_clip) + b * tf.math.log(theta_clip)))\n",
    "    res_theta = dtheta_t + v_clip * theta_clip * tf.math.log(v_clip * theta_clip)\n",
    "\n",
    "    return [res_u, res_v, res_theta]"
   ]
  },
  {
   "cell_type": "markdown",
   "id": "training-process-2",
   "metadata": {},
   "source": [
    "## Compile and Train the PINN Model\n",
    "\n",
    "The following steps are performed:\n",
    "\n",
    "- **Geometry**: The time domain is set as \\([0, 100]\\).\n",
    "- **Data**: We enforce that the network satisfies the inverse ODE system and that its predictions match the 25 measurement points (using 20,000 residual points).\n",
    "- **Network Architecture**: A feed-forward neural network (FNN) with 6 hidden layers of 64 neurons each is used. The network takes time as input and outputs three values: \\(\\tilde{u}\\), \\(\\tilde{v}\\), and \\(\\tilde{\\theta}\\).\n",
    "- **Output Transform**: An output transform is applied to help the network meet the initial conditions.\n",
    "- **Training**: The model is compiled with the Adam optimizer (learning rate = 0.0001) and trained for 50,000 iterations.\n",
    "\n",
    "During training, the trainable variable \\(\\kappa\\) is updated along with the network parameters to minimize the total loss."
   ]
  },
  {
   "cell_type": "code",
   "execution_count": null,
   "id": "define-geometry-data-2",
   "metadata": {},
   "outputs": [],
   "source": [
    "geom = dde.geometry.TimeDomain(0, 100)\n",
    "\n",
    "data = dde.data.PDE(\n",
    "    geom,\n",
    "    inverse_ode_system_kappa,\n",
    "    [observe_y0, observe_y1, observe_y2],\n",
    "    20000,\n",
    "    0,\n",
    "    num_test=3000\n",
    ")"
   ]
  },
  {
   "cell_type": "code",
   "execution_count": null,
   "id": "define-network-2",
   "metadata": {},
   "outputs": [],
   "source": [
    "layer_size = [1] + [64] * 6 + [3]\n",
    "activation = \"tanh\"\n",
    "initializer = \"Glorot normal\"\n",
    "net = dde.nn.FNN(layer_size, activation, initializer)"
   ]
  },
  {
   "cell_type": "code",
   "execution_count": null,
   "id": "output-transform-2",
   "metadata": {},
   "outputs": [],
   "source": [
    "def output_transform(t, y):\n",
    "    \"\"\"\n",
    "    Output transform to help the network satisfy initial conditions.\n",
    "    We shift the outputs as follows:\n",
    "      - \\(u \\approx \\tanh(t)\\,y_1 + 1\\)\n",
    "      - \\(v \\approx \\tanh(t)\\,y_2 + 0.5\\)\n",
    "      - \\(\\theta \\approx \\tanh(t)\\,y_3 + 1\\)\n",
    "    \"\"\"\n",
    "    y1 = y[:, 0:1]\n",
    "    y2 = y[:, 1:2]\n",
    "    y3 = y[:, 2:3]\n",
    "    return tf.concat([\n",
    "        y1 * tf.tanh(t) + 1,\n",
    "        y2 * tf.tanh(t) + 0.5,\n",
    "        y3 * tf.tanh(t) + 1\n",
    "    ], axis=1)\n",
    "\n",
    "net.apply_output_transform(output_transform)"
   ]
  },
  {
   "cell_type": "code",
   "execution_count": null,
   "id": "compile-train-model-2",
   "metadata": {},
   "outputs": [],
   "source": [
    "model = dde.Model(data, net)\n",
    "model.compile(\n",
    "    \"adam\",\n",
    "    lr=0.0001,\n",
    "    loss_weights=[1, 1, 1, 1, 1, 1]\n",
    ")\n",
    "\n",
    "# Create output directory for saving checkpoints\n",
    "path = \"./../output/Model/model\"\n",
    "os.makedirs(path, exist_ok=True)\n",
    "checkpoint_path = os.path.join(path, \"model.ckpt\")\n",
    "checker = dde.callbacks.ModelCheckpoint(\n",
    "      checkpoint_path, save_better_only=True, period=50\n",
    "  )\n",
    "\n",
    "# Train the model for 50,000 iterations \n",
    "losshistory, train_state = model.train(epochs=50000, callbacks=[checker])"
   ]
  },
  {
   "cell_type": "markdown",
   "id": "prediction-plotting-2",
   "metadata": {},
   "source": [
    "## Prediction and Plotting\n",
    "\n",
    "After training the PINN, we predict the solution over the full time domain and compare the predicted curves with the true measured data. \n",
    "\n",
    "This visualization helps assess the accuracy of the inverse model and the inferred $\\kappa$ value."
   ]
  },
  {
   "cell_type": "code",
   "execution_count": null,
   "id": "predict-plot-2",
   "metadata": {},
   "outputs": [],
   "source": [
    "observe_t = raw['Var1']\n",
    "u_ext = raw['y1_1']\n",
    "v_ext = raw['y1_2']\n",
    "theta_ext = raw['y1_3']\n",
    "\n",
    "plt.figure(figsize=(8,6))\n",
    "plt.xlabel(\"Time\")\n",
    "plt.ylabel(\"y\")\n",
    "\n",
    "plt.plot(observe_t, u_ext, color=\"black\", label=\"True u\")\n",
    "plt.plot(observe_t, v_ext, color=\"blue\", label=\"True v\")\n",
    "plt.plot(observe_t, theta_ext, color=\"brown\", label=r'True $\\theta$')\n",
    "\n",
    "t = np.linspace(0, 100, 10000).reshape((-1, 1))\n",
    "sol_pred = model.predict(t)\n",
    "u_pred = sol_pred[:, 0:1]\n",
    "v_pred = sol_pred[:, 1:2]\n",
    "theta_pred = sol_pred[:, 2:3]\n",
    "\n",
    "plt.plot(t, u_pred, color=\"red\", linestyle=\"dashed\", label=\"Predicted u\")\n",
    "plt.plot(t, v_pred, color=\"orange\", linestyle=\"dashed\", label=\"Predicted v\")\n",
    "plt.plot(t, theta_pred, color=\"green\", linestyle=\"dashed\", label=r\"Predicted $\\theta$\")\n",
    "plt.legend()\n",
    "plt.grid(True)\n",
    "plt.savefig('./../output/pred_inverse_kappa.png')\n",
    "plt.show()"
   ]
  }
 ],
 "metadata": {
  "colab": {
   "name": "Inverse_kappa.ipynb",
   "provenance": []
  },
  "kernelspec": {
   "display_name": "Python 3 (ipykernel)",
   "language": "python",
   "name": "python3"
  },
  "language_info": {
   "codemirror_mode": {
    "name": "ipython",
    "version": 3
   },
   "file_extension": ".py",
   "mimetype": "text/x-python",
   "name": "python",
   "nbconvert_exporter": "python",
   "pygments_lexer": "ipython3",
   "version": "3.10.8"
  }
 },
 "nbformat": 4,
 "nbformat_minor": 5
}
