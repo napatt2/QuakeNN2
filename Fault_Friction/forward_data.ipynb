{
 "cells": [
  {
   "cell_type": "markdown",
   "id": "454ffca8",
   "metadata": {},
   "source": [
    "# Forward PINN for Nonlinear Frictional System\n",
    "\n",
    "This notebook demonstrates how to use Physics-Informed Neural Networks (PINNs) with measurement data to solve a nonlinear frictional system modeled by a spring-block slider. We predict the nondimensional slip ($\\tilde{u}$), slip rate ($\\tilde{v}$), and state variable ($\\tilde{\\theta}$) from a dataset, and compare our PINN predictions with the true (interpolated) measurements.\n",
    "\n",
    "The governing system of ODEs is:\n",
    "\n",
    "\\begin{align*}\n",
    "\\frac{d\\tilde{u}}{d\\tilde{t}} &= \\tilde{v}, \\\\\n",
    "\\frac{d\\tilde{v}}{d\\tilde{t}} &= \\kappa(v_0 \\tilde{t} - \\tilde{u}) - \\alpha\\left(f_0 + a \\ln \\tilde{v} + b \\ln \\tilde{\\theta}\\right), \\\\\n",
    "\\frac{d\\tilde{\\theta}}{d\\tilde{t}} &= -\\tilde{v}\\tilde{\\theta}\\ln(\\tilde{v}\\tilde{\\theta}).\n",
    "\\end{align*}\n",
    "\n",
    "The loss function is composed of a residual loss, a boundary loss, and a measurement loss. In this example, we use 25 equidistant measurement data points obtained from the dataset."
   ]
  },
  {
   "cell_type": "code",
   "execution_count": null,
   "id": "1903f6b3",
   "metadata": {},
   "outputs": [],
   "source": [
    "import deepxde as dde\n",
    "import tensorflow as tf\n",
    "import numpy as np\n",
    "import pandas as pd\n",
    "import matplotlib.pyplot as plt\n",
    "import os\n",
    "\n",
    "# Set random seeds for reproducibility\n",
    "np.random.seed(123)\n",
    "tf.random.set_seed(123)"
   ]
  },
  {
   "cell_type": "markdown",
   "id": "651ccb88",
   "metadata": {},
   "source": [
    "## Load and Process the Dataset\n",
    "\n",
    "We load the dataset from a CSV file and select the first 10,000 data points. Then, we interpolate these data to obtain 25 equidistant measurement points for each variable: slip ($u$), slip rate ($v$), and state variable ($\\theta$). Note that the measurement loss includes data of slip ($u$) and slip rate ($v$) only. This is because state variable cannot be directly measured."
   ]
  },
  {
   "cell_type": "code",
   "execution_count": null,
   "id": "a0678c8b",
   "metadata": {},
   "outputs": [],
   "source": [
    "raw = pd.read_csv('../Dataset/sbm1.csv')\n",
    "raw = raw.iloc[0:10000]  # Select the first 10,000 data points\n",
    "\n",
    "# Extract observation time and variables from the dataset\n",
    "observe_t = raw['Var1']\n",
    "u_ext = raw['y1_1']\n",
    "v_ext = raw['y1_2']\n",
    "theta_ext = raw['y1_3']\n",
    "\n",
    "# Interpolate to get 25 equidistant measurement points over the interval [0, 100]\n",
    "t_int = np.linspace(0, 100, 25)\n",
    "u_int = np.interp(t_int, observe_t.values, u_ext.values)\n",
    "v_int = np.interp(t_int, observe_t.values, v_ext.values)\n",
    "theta_int = np.interp(t_int, observe_t.values, theta_ext.values)\n",
    "\n",
    "# Plot the original data and the interpolated measurements\n",
    "plt.figure(figsize=(8, 6))\n",
    "plt.plot(observe_t, u_ext, label=\"True u\", color=\"black\")\n",
    "plt.plot(observe_t, v_ext, label=\"True v\", color=\"blue\")\n",
    "plt.plot(observe_t, theta_ext, label=r\"True $\\theta$\", color=\"brown\")\n",
    "\n",
    "plt.scatter(t_int, u_int, label=\"Measured u\", color=\"red\")\n",
    "plt.scatter(t_int, v_int, label=\"Measured v\", color=\"orange\")\n",
    "plt.scatter(t_int, theta_int, label=r\"Measured $\\theta$\", color=\"green\")\n",
    "\n",
    "plt.xlabel('Time')\n",
    "plt.ylabel('Variable values')\n",
    "plt.legend()\n",
    "plt.grid(True)\n",
    "plt.show()"
   ]
  },
  {
   "cell_type": "code",
   "execution_count": null,
   "id": "fe8daa45",
   "metadata": {},
   "outputs": [],
   "source": [
    "# Reshape the interpolated data to column vectors (DeepXDE expects 2D arrays)\n",
    "observe_t = t_int.reshape((-1, 1))\n",
    "u_ext = u_int.reshape((-1, 1))\n",
    "v_ext = v_int.reshape((-1, 1))\n",
    "theta_ext = v_int.reshape((-1, 1))"
   ]
  },
  {
   "cell_type": "code",
   "execution_count": null,
   "id": "d5db42cb",
   "metadata": {},
   "outputs": [],
   "source": [
    "# Define observation boundary conditions using DeepXDE's PointSetBC\n",
    "observe_y0 = dde.icbc.PointSetBC(observe_t, u_ext, component=0)\n",
    "observe_y1 = dde.icbc.PointSetBC(observe_t, v_ext, component=1)\n",
    "observe_y2 = dde.icbc.PointSetBC(observe_t, theta_ext, component=2)"
   ]
  },
  {
   "cell_type": "markdown",
   "id": "4556bd2c",
   "metadata": {},
   "source": [
    "## Formulation of the Problem\n",
    "\n",
    "The nondimensionalized system of ODEs that we aim to solve is:\n",
    "\n",
    "\\begin{align*}\n",
    "\\frac{d\\tilde{u}}{d\\tilde{t}} &= \\tilde{v}, \\\\\n",
    "\\frac{d\\tilde{v}}{d\\tilde{t}} &= \\kappa(v_0 \\tilde{t} - \\tilde{u}) - \\alpha\\left(f_0 + a \\ln \\tilde{v} + b \\ln \\tilde{\\theta}\\right), \\\\\n",
    "\\frac{d\\tilde{\\theta}}{d\\tilde{t}} &= -\\tilde{v}\\tilde{\\theta}\\ln(\\tilde{v}\\tilde{\\theta}).\n",
    "\\end{align*}\n",
    "\n",
    "We incorporate the measurement data as boundary conditions and train the PINN to predict $\\tilde{u}$, $\\tilde{v}$, and $\\tilde{\\theta}$."
   ]
  },
  {
   "cell_type": "code",
   "execution_count": null,
   "id": "7c0354f0",
   "metadata": {},
   "outputs": [],
   "source": [
    "# Set model parameters\n",
    "alpha = 9.81  # Constant representing the normal force\n",
    "kappa = 0.25  # Spring stiffness\n",
    "v0 = 1        # Driving plate velocity\n",
    "f0 = 0.2      # Reference friction coefficient\n",
    "a = 0.2       # Frictional parameter\n",
    "b = 0.3       # Frictional parameter"
   ]
  },
  {
   "cell_type": "code",
   "execution_count": null,
   "id": "e4ebcdc8",
   "metadata": {},
   "outputs": [],
   "source": [
    "def ode_system(x, y):\n",
    "    \"\"\"\n",
    "    Defines the modified ODE system using DeepXDE's automatic differentiation.\n",
    "    \n",
    "    Parameters:\n",
    "      x : Tensor of the independent variable (time).\n",
    "      y : Tensor with three components: [\\tilde{u}, \\tilde{v}, \\tilde{\\theta}].\n",
    "    \n",
    "    Returns:\n",
    "      A list containing the residuals of the three ODEs.\n",
    "    \"\"\"\n",
    "    \n",
    "    # Split the output tensor into individual variables\n",
    "    u = y[:, 0:1]\n",
    "    v = y[:, 1:2]\n",
    "    theta = y[:, 2:3]\n",
    "\n",
    "    # Compute time derivatives using automatic differentiation\n",
    "    du_t = dde.grad.jacobian(y, x, i=0)\n",
    "    dv_t = dde.grad.jacobian(y, x, i=1)\n",
    "    dtheta_t = dde.grad.jacobian(y, x, i=2)\n",
    "\n",
    "    # Define the residuals for each ODE\n",
    "    res_u = du_t - v\n",
    "    res_v = dv_t - kappa * (v0 * x - u) + alpha * (f0 + a * tf.math.log(v) + b * tf.math.log(theta))\n",
    "    res_theta = dtheta_t + (v * theta * tf.math.log(v * theta))\n",
    "\n",
    "    return [res_u, res_v, res_theta]"
   ]
  },
  {
   "cell_type": "markdown",
   "id": "d1afc147",
   "metadata": {},
   "source": [
    "## Compile and Train the PINN Model\n",
    "\n",
    "We now define the time domain, create the PDE data object (which includes the measurement boundary conditions), and define the neural network architecture. The network has 6 hidden layers with 64 neurons each. An output transformation is applied so that the initial conditions are satisfied:\n",
    "\n",
    "- $\\tilde{u}(0) = 1$\n",
    "- $\\tilde{v}(0) = 0.5$\n",
    "- $\\tilde{\\theta}(0) = 1$\n",
    "\n",
    "Finally, we compile and train the model for 50,000 iterations."
   ]
  },
  {
   "cell_type": "code",
   "execution_count": null,
   "id": "31bdf7ad",
   "metadata": {},
   "outputs": [],
   "source": [
    "# Define the time domain geometry\n",
    "geom = dde.geometry.TimeDomain(0, 100)\n",
    "\n",
    "# Create the PDE data object including the observation boundary conditions\n",
    "data = dde.data.PDE(geom, ode_system, [observe_y0, observe_y1], 20000, 0, num_test=3000)"
   ]
  },
  {
   "cell_type": "code",
   "execution_count": null,
   "id": "26993cc3",
   "metadata": {},
   "outputs": [],
   "source": [
    "# Define the neural network architecture: 1 input, 6 hidden layers of 64 neurons, 3 outputs\n",
    "layer_size = [1] + [64] * 6 + [3]\n",
    "activation = \"tanh\"\n",
    "initializer = \"Glorot normal\"\n",
    "net = dde.nn.FNN(layer_size, activation, initializer)"
   ]
  },
  {
   "cell_type": "code",
   "execution_count": null,
   "id": "203219ee",
   "metadata": {},
   "outputs": [],
   "source": [
    "def output_transform(t, y):\n",
    "    \"\"\"\n",
    "    Transforms the raw network output so that the initial conditions are satisfied at t = 0.\n",
    "    Since tf.tanh(0) = 0, at t = 0 the output equals the initial conditions.\n",
    "    \"\"\"\n",
    "    y1 = y[:, 0:1]\n",
    "    y2 = y[:, 1:2]\n",
    "    y3 = y[:, 2:3]\n",
    "    \n",
    "    # Set initial conditions: u(0)=1, v(0)=0.5, theta(0)=1\n",
    "    return tf.concat([y1 * tf.tanh(t) + 1, y2 * tf.tanh(t) + 0.5, y3 * tf.tanh(t) + 1], axis=1)"
   ]
  },
  {
   "cell_type": "code",
   "execution_count": null,
   "id": "a8ae5c65",
   "metadata": {},
   "outputs": [],
   "source": [
    "net.apply_output_transform(output_transform)"
   ]
  },
  {
   "cell_type": "code",
   "execution_count": null,
   "id": "501ad849",
   "metadata": {},
   "outputs": [],
   "source": [
    "# Create and compile the model\n",
    "model = dde.Model(data, net)\n",
    "model.compile(\n",
    "    \"adam\",\n",
    "    lr=0.0001,\n",
    "    loss_weights=[1, 1, 1, 1, 1]\n",
    "    )\n",
    "\n",
    "# Create output directory for saving checkpoints\n",
    "path = \"./../output/forward_data/model\"\n",
    "os.makedirs(path, exist_ok=True)\n",
    "checkpoint_path = os.path.join(path, \"model.ckpt\")\n",
    "checker = dde.callbacks.ModelCheckpoint(\n",
    "      checkpoint_path, save_better_only=True, period=50\n",
    "  )\n",
    "\n",
    "# Train the model for 50,000 iterations (using 'epochs' which is equivalent to iterations here)\n",
    "losshistory, train_state = model.train(epochs=50000, callbacks=[checker])"
   ]
  },
  {
   "cell_type": "markdown",
   "id": "d71fb300",
   "metadata": {},
   "source": [
    "## Prediction and Plotting\n",
    "\n",
    "After training the PINN, we predict the solution over the entire time domain and compare the predictions with the true data."
   ]
  },
  {
   "cell_type": "code",
   "execution_count": null,
   "id": "76e1ade3",
   "metadata": {},
   "outputs": [],
   "source": [
    "# Reassign the original observation data (for plotting)\n",
    "observe_t = raw['Var1']\n",
    "u_ext = raw['y1_1']\n",
    "v_ext = raw['y1_2']\n",
    "theta_ext = raw['y1_3']\n",
    "\n",
    "# Plot the true data\n",
    "plt.figure(figsize=(10, 6))\n",
    "plt.xlabel(\"Time\")\n",
    "plt.ylabel(\"y\")\n",
    "plt.plot(observe_t, u_ext, color=\"black\", label=\"True u\")\n",
    "plt.plot(observe_t, v_ext, color=\"blue\", label=\"True v\")\n",
    "plt.plot(observe_t, theta_ext, color=\"brown\", label=r\"True $\\theta$\")\n",
    "\n",
    "# Predict the solution using the trained model over 10,000 time points\n",
    "t = np.linspace(0, 100, 10000).reshape(-1, 1)\n",
    "sol_pred = model.predict(t)\n",
    "u_pred = sol_pred[:, 0]\n",
    "v_pred = sol_pred[:, 1]\n",
    "theta_pred = sol_pred[:, 2]\n",
    "\n",
    "# Plot the predicted solution (dashed lines)\n",
    "plt.plot(t, u_pred, color=\"red\", linestyle=\"dashed\", label=\"Predicted u\")\n",
    "plt.plot(t, v_pred, color=\"orange\", linestyle=\"dashed\", label=\"Predicted v\")\n",
    "plt.plot(t, theta_pred, color=\"green\", linestyle=\"dashed\", label=r\"Predicted $\\theta$\")\n",
    "\n",
    "plt.legend()\n",
    "plt.grid(True)\n",
    "plt.savefig('./../output/forward_data/pred.png')\n",
    "plt.show()"
   ]
  }
 ],
 "metadata": {
  "accelerator": "GPU",
  "colab": {
   "gpuType": "T4",
   "provenance": []
  },
  "kernelspec": {
   "display_name": "new_env",
   "language": "python",
   "name": "python3"
  },
  "language_info": {
   "codemirror_mode": {
    "name": "ipython",
    "version": 3
   },
   "file_extension": ".py",
   "mimetype": "text/x-python",
   "name": "python",
   "nbconvert_exporter": "python",
   "pygments_lexer": "ipython3",
   "version": "3.10.8"
  }
 },
 "nbformat": 4,
 "nbformat_minor": 5
}
