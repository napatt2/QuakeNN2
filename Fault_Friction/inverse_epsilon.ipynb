{
  "cells": [
    {
      "cell_type": "code",
      "execution_count": null,
      "metadata": {
        "colab": {
          "base_uri": "https://localhost:8080/"
        },
        "id": "j5SPOsT0j28N",
        "outputId": "37fe48c4-f2de-4715-b937-a2e584ec004d"
      },
      "outputs": [],
      "source": [
        "import deepxde as dde\n",
        "import numpy as np\n",
        "import matplotlib.pyplot as plt\n",
        "from scipy import integrate\n",
        "from deepxde.backend import tf\n",
        "import pandas as pd\n",
        "import shutil\n",
        "import os"
      ]
    },
    {
      "cell_type": "markdown",
      "metadata": {},
      "source": [
        "# Formulation of the Problem\n",
        "\n",
        "We train on a series of 10 blocks. The system of equations can be rewritten as follows:\n",
        "\n",
        "\\begin{align*}\n",
        "\\dot{\\bar{u}}_j &= \\bar{v}_j \\\\\n",
        "\\dot{\\bar{v}}_j &= \\gamma_\\mu^2 (\\bar{u}_{j-1} - 2\\bar{u}_j + \\bar{u}_{j+1}) - \\gamma_\\lambda^2 \\bar{u}_j - \\frac{\\gamma_\\mu^2}{\\xi} (\\bar{f} + \\bar{\\theta}_j + \\ln(\\bar{v}_{j+1})) \\\\\n",
        "\\dot{\\bar{\\theta}} &= -(\\bar{v}_{j+1})(\\bar{\\theta}_j + (1 + \\epsilon) \\ln(\\bar{v}_{j+1}))\n",
        "\\end{align*}\n",
        "\n",
        "where $\\bar{u}_j$ is non-dimensional relative slip to the driving plate, $\\bar{v}_j$ is the non-dimensional slip rate, and $\\bar{\\theta}_j$ is a scaled non-dimensional state variable of $j$th block. $\\gamma_\\mu$ and $\\gamma_\\lambda$ represents the stiffness of spring connecting between blocks and leaf spring, respectively. $\\xi$ is non-dimensional spring constant. $\\bar{f}$ is the scaled steady-state friction coefficient. Our goal is to predict parameter $\\epsilon$ and $\\bar{\\theta}$, given the measurements of $\\bar{u}_j$ and $\\bar{v}_j$.|"
      ]
    },
    {
      "cell_type": "markdown",
      "metadata": {},
      "source": [
        "# Import Dataset\n",
        "\n",
        "This code loads data from a CSV file (without headers) and organizes it into a dictionary. The first column is reshaped into a 2D array and stored as `t`. Then, a loop iterates 10 times, reshaping columns 1–10 into arrays stored as `u1` to `u10`, and columns 11–20 into arrays stored as `v1` to `v10`."
      ]
    },
    {
      "cell_type": "code",
      "execution_count": null,
      "metadata": {
        "id": "qrjmqKk4kE3I"
      },
      "outputs": [],
      "source": [
        "df = pd.read_csv('./../Dataset/sbm10.csv', header=None)\n",
        "\n",
        "n = 10    # number of blocks\n",
        "\n",
        "observe = {}\n",
        "observe['t'] = df[df.columns[0]].values.reshape((-1, 1))\n",
        "\n",
        "for i in range(1,11,1):\n",
        "  observe['u'+str(i)] = df[df.columns[i]].values.reshape((-1, 1))\n",
        "  observe['v'+str(i)] = df[df.columns[n+i]].values.reshape((-1, 1))"
      ]
    },
    {
      "cell_type": "markdown",
      "metadata": {},
      "source": [
        "This code creates a dictionary, observe_dde, to store measurements generated from data in the observe dictionary. For each iteration from 1 to 10:\n",
        "\n",
        "- Measurement loss for \"u\" values:\n",
        "It uses the time data (observe['t']) and the corresponding u data (observe['u'+str(i)]) to create a measurement loss via dde.icbc.PointSetBC, assigning a component index of i-1.\n",
        "\n",
        "- Measurement loss for \"v\" values:\n",
        "It uses the time data (observe['t']) and the corresponding v data (observe['v'+str(i)]) to create another measurement loss, but with a component index of n+i-1."
      ]
    },
    {
      "cell_type": "code",
      "execution_count": null,
      "metadata": {
        "id": "D-sdNcJSkWH5"
      },
      "outputs": [],
      "source": [
        "observe_dde = {}\n",
        "for i in range(1,11,1):\n",
        "  observe_dde['u'+str(i)] = dde.icbc.PointSetBC(observe['t'], observe['u'+str(i)], component=i-1)\n",
        "  observe_dde['v'+str(i)] = dde.icbc.PointSetBC(observe['t'], observe['v'+str(i)], component=n+i-1)"
      ]
    },
    {
      "cell_type": "markdown",
      "metadata": {},
      "source": [
        "# Define Parameters and System of ODEs"
      ]
    },
    {
      "cell_type": "code",
      "execution_count": null,
      "metadata": {
        "id": "6em2FuNdj_nM"
      },
      "outputs": [],
      "source": [
        "horizontal = 0.5      # gamma_mu\n",
        "vertical = 0.2**0.5   # gamma_lambda\n",
        "psi = 0.5\n",
        "f = 3.2"
      ]
    },
    {
      "cell_type": "markdown",
      "metadata": {},
      "source": [
        "This function defines an ODE system by splitting the input `y` into three parts:\n",
        "\n",
        "- `u`: first 10 columns\n",
        "- `v`: next 10 columns\n",
        "- `theta`: last 10 columns\n",
        "It then computes gradients (Jacobian) with respect to x for each component and constructs loss terms based on the system of ODEs.\n",
        "\n",
        "All loss terms are collected in the list f_loss, which the function returns as the residuals for the ODE system."
      ]
    },
    {
      "cell_type": "code",
      "execution_count": null,
      "metadata": {
        "id": "Qwu0JFAikfCM"
      },
      "outputs": [],
      "source": [
        "def ode_system(x, y):\n",
        "\n",
        "  u = y[:,0:10]\n",
        "  v = y[:,10:20]\n",
        "  theta = y[:,20:30]\n",
        "\n",
        "  du_t = {}\n",
        "  dv_t = {}\n",
        "  dt_t = {}\n",
        "\n",
        "  f_loss = []\n",
        "\n",
        "  for m in range(n):\n",
        "    du_t[str(m)] = dde.grad.jacobian(y, x, i=m)\n",
        "    dv_t[str(m)] = dde.grad.jacobian(y, x, i=n+m)\n",
        "    dt_t[str(m)] = dde.grad.jacobian(y, x, i=2*n+m)\n",
        "\n",
        "  for p in range(n):\n",
        "    loss_temp1 = du_t[str(p)] - y[:,n+p:n+p+1]\n",
        "    f_loss.append(loss_temp1)\n",
        "\n",
        "  loss_v1 = dv_t['0'] - horizontal**2*(-y[:,0:1]+y[:,1:2])+vertical**2*y[:,0:1]+(horizontal**2/psi)*tf.sign(y[:,n:n+1]+1)*(f+(y[:,2*n:2*n+1])+tf.log(tf.abs(y[:,n:n+1]+1)))\n",
        "  loss_vn = dv_t[str(n-1)] - horizontal**2*(y[:,n-2:n-1]-y[:,n-1:n])+vertical**2*y[:,n-1:n]+(horizontal**2/psi)*tf.sign(y[:,2*n-1:2*n]+1)*(f+(y[:,3*n-1:3*n])+tf.log(tf.abs(y[:,2*n-1:2*n]+1)))\n",
        "  f_loss.append(loss_v1)\n",
        "  f_loss.append(loss_vn)\n",
        "\n",
        "  for q in range(1,n-1,1):\n",
        "    loss_temp2 = dv_t[str(q)] - horizontal**2*(y[:,q-1:q]-2*y[:,q:q+1]+y[:,q+1:q+2])+vertical**2*y[:,q:q+1]+(horizontal**2/psi)*tf.sign(y[:,n+q:n+q+1]+1)*(f+(y[:,2*n+q:2*n+q+1])+tf.log(tf.abs(y[:,n+q:n+q+1]+1)))\n",
        "    f_loss.append(loss_temp2)\n",
        "\n",
        "  loss_t1 = dt_t['0'] + (tf.abs(y[:,10:11]+1))*(y[:,20:21]+(1+eps_0)*tf.log(tf.abs(y[:,10:11]+1)))\n",
        "  loss_t2 = dt_t['1'] + (tf.abs(y[:,11:12]+1))*(y[:,21:22]+(1+eps_1)*tf.log(tf.abs(y[:,11:12]+1)))\n",
        "  loss_t3 = dt_t['2'] + (tf.abs(y[:,12:13]+1))*(y[:,22:23]+(1+eps_2)*tf.log(tf.abs(y[:,12:13]+1)))\n",
        "  loss_t4 = dt_t['3'] + (tf.abs(y[:,13:14]+1))*(y[:,23:24]+(1+eps_3)*tf.log(tf.abs(y[:,13:14]+1)))\n",
        "  loss_t5 = dt_t['4'] + (tf.abs(y[:,14:15]+1))*(y[:,24:25]+(1+eps_4)*tf.log(tf.abs(y[:,14:15]+1)))\n",
        "  loss_t6 = dt_t['5'] + (tf.abs(y[:,15:16]+1))*(y[:,25:26]+(1+eps_5)*tf.log(tf.abs(y[:,15:16]+1)))\n",
        "  loss_t7 = dt_t['6'] + (tf.abs(y[:,16:17]+1))*(y[:,26:27]+(1+eps_6)*tf.log(tf.abs(y[:,16:17]+1)))\n",
        "  loss_t8 = dt_t['7'] + (tf.abs(y[:,17:18]+1))*(y[:,27:28]+(1+eps_7)*tf.log(tf.abs(y[:,17:18]+1)))\n",
        "  loss_t9 = dt_t['8'] + (tf.abs(y[:,18:19]+1))*(y[:,28:29]+(1+eps_8)*tf.log(tf.abs(y[:,18:19]+1)))\n",
        "  loss_t10 = dt_t['9'] + (tf.abs(y[:,19:20]+1))*(y[:,29:30]+(1+eps_9)*tf.log(tf.abs(y[:,19:20]+1)))\n",
        "\n",
        "  f_loss.append(loss_t1)\n",
        "  f_loss.append(loss_t2)\n",
        "  f_loss.append(loss_t3)\n",
        "  f_loss.append(loss_t4)\n",
        "  f_loss.append(loss_t5)\n",
        "  f_loss.append(loss_t6)\n",
        "  f_loss.append(loss_t7)\n",
        "  f_loss.append(loss_t8)\n",
        "  f_loss.append(loss_t9)\n",
        "  f_loss.append(loss_t10)\n",
        "\n",
        "  return f_loss\n",
        "\n"
      ]
    },
    {
      "cell_type": "markdown",
      "metadata": {
        "id": "OwhELGnGDHLf"
      },
      "source": [
        "# Compile and Train Model\n",
        "\n",
        "We define time domain from 0 to 100 in `geom`. $\\epsilon$ for all blocks is initialized as 0.2. True $\\epsilon$ is 0.5 for the first and last 3 blocks and -0.5 for the middle 4 blocks.\n",
        "Hyperparameters and Setup:\n",
        "\n",
        "- `unit` = 32: Sets the number of neurons per hidden layer.\n",
        "- `epoch` = 60000: Total number of training iterations.\n",
        "- `learning_rate` = 0.0001: Learning rate for the optimizer.\n",
        "- `layer` = 5: Number of hidden layers.\n",
        "- `num_res` = 20000: Number of residual points for the PDE."
      ]
    },
    {
      "cell_type": "code",
      "execution_count": null,
      "metadata": {
        "colab": {
          "base_uri": "https://localhost:8080/",
          "height": 1000
        },
        "id": "kBMCjyFa5NzR",
        "outputId": "b5ea1e97-8b1c-448c-9b72-8bd0bc564c47"
      },
      "outputs": [],
      "source": [
        "geom = dde.geometry.TimeDomain(0, 100)\n",
        "\n",
        "unit = 32\n",
        "epoch = 60000\n",
        "learning_rate = 0.0001\n",
        "layer = 5\n",
        "num_res = 20000\n",
        "\n",
        "eps_0 = dde.Variable(0.2)\n",
        "eps_1 = dde.Variable(0.2)\n",
        "eps_2 = dde.Variable(0.2)\n",
        "eps_3 = dde.Variable(0.2)\n",
        "eps_4 = dde.Variable(0.2)\n",
        "eps_5 = dde.Variable(0.2)\n",
        "eps_6 = dde.Variable(0.2)\n",
        "eps_7 = dde.Variable(0.2)\n",
        "eps_8 = dde.Variable(0.2)\n",
        "eps_9 = dde.Variable(0.2)\n",
        "\n",
        "resultList = list(observe_dde.values())\n",
        "\n",
        "data = dde.data.PDE(geom, ode_system, resultList, num_res, 0, num_test = 3000, anchors=observe['t'])\n",
        "layer_size = [1] + [unit] * layer + [30]\n",
        "activation = \"tanh\"\n",
        "initializer = \"Glorot normal\"\n",
        "net = dde.nn.FNN(layer_size, activation, initializer)\n",
        "# net.apply_output_transform(output_transform)\n",
        "model = dde.Model(data, net)\n",
        "model.compile(\"adam\", lr=learning_rate, external_trainable_variables=[eps_0, eps_1, eps_2, eps_3, eps_4, eps_5, eps_6, eps_7, eps_8, eps_9])\n",
        "# Create output directory for saving checkpoints\n",
        "path = \"./../output/inverse_epsilon/model\"\n",
        "os.makedirs(path, exist_ok=True)\n",
        "checkpoint_path = os.path.join(path, \"model.ckpt\")\n",
        "checker = dde.callbacks.ModelCheckpoint(\n",
        "      checkpoint_path, save_better_only=True, period=500\n",
        "  )\n",
        "variable = dde.callbacks.VariableValue(\n",
        "  [eps_0, eps_1, eps_2, eps_3, eps_4, eps_5, eps_6, eps_7, eps_8, eps_9], period=600, filename=\"./../output/inverse_epsilon/variables.dat\"\n",
        ")\n",
        "losshistory, train_state = model.train(iterations=epoch , callbacks=[variable, checker])\n",
        "\n",
        "dde.saveplot(losshistory, train_state, issave=True, isplot=True, output_dir=\"./../output/inverse_epsilon/\")"
      ]
    },
    {
      "cell_type": "markdown",
      "metadata": {
        "id": "I3SWbVRAE116"
      },
      "source": [
        "# Prediction and Plotting\n",
        "- `yhat = model.predict(observe['t'])` computes predictions using the trained model with the time data.\n",
        "\n",
        "- Plotting \"u\" (Slip) for Block 5\n",
        "- Plotting \"v\" (Slip Rate) for Block 5\n",
        "- Plotting \"θ\" (State Variable) for Block 5"
      ]
    },
    {
      "cell_type": "code",
      "execution_count": null,
      "metadata": {
        "id": "QPcJ06mZXTYJ"
      },
      "outputs": [],
      "source": [
        "t = np.linspace(0,100,1000).reshape(-1,1)\n",
        "yhat = model.predict(observe['t'])"
      ]
    },
    {
      "cell_type": "code",
      "execution_count": null,
      "metadata": {
        "colab": {
          "base_uri": "https://localhost:8080/",
          "height": 489
        },
        "id": "Y6ZOiPFwXdFO",
        "outputId": "ef4fcaa4-b5ef-4186-c7ae-fe6edc34ed7a"
      },
      "outputs": [],
      "source": [
        "plt.figure()\n",
        "plt.plot(observe['t'], observe['u'+str(5)], \"-\", label=\"u exact\")\n",
        "plt.plot(observe['t'], yhat[:, 4:5], \"--\", label=\"u PINN\")\n",
        "plt.legend()\n",
        "plt.grid()\n",
        "plt.xlabel('Time')\n",
        "plt.ylabel('u')\n",
        "plt.title('Slip of 5th block')\n",
        "plt.savefig('./../output/inverse_epsilon/pred_u.png')"
      ]
    },
    {
      "cell_type": "code",
      "execution_count": null,
      "metadata": {
        "colab": {
          "base_uri": "https://localhost:8080/",
          "height": 489
        },
        "id": "czZKuRlEX-vv",
        "outputId": "d0639c5f-c603-447f-9187-a5340a41cb50"
      },
      "outputs": [],
      "source": [
        "plt.figure()\n",
        "plt.plot(observe['t'], observe['v'+str(5)], \"-\", label=\"v exact\")\n",
        "plt.plot(observe['t'], yhat[:, 14:15], \"--\", label=\"v PINN\")\n",
        "plt.legend()\n",
        "plt.grid()\n",
        "plt.xlabel('Time')\n",
        "plt.ylabel('v')\n",
        "plt.title('Slip Rate of 5th block')\n",
        "plt.savefig('./../output/inverse_epsilon/pred_v.png')"
      ]
    },
    {
      "cell_type": "code",
      "execution_count": null,
      "metadata": {
        "colab": {
          "base_uri": "https://localhost:8080/",
          "height": 489
        },
        "id": "c1dFM4t4YR0I",
        "outputId": "1b5ca139-bdf6-421f-87f9-62c8fc470020"
      },
      "outputs": [],
      "source": [
        "for i in range(1,11,1):\n",
        "  observe['t'+str(i)] = df[df.columns[2*n+i]].values.reshape((-1, 1))\n",
        "plt.figure()\n",
        "plt.plot(observe['t'], observe['t'+str(5)], \"-\", label=r\"${\\theta\\ exact}$\")\n",
        "plt.plot(observe['t'], yhat[:, 24:25], \"--\", label=r\"${\\theta\\ PINN}$\")\n",
        "plt.legend()\n",
        "plt.grid()\n",
        "plt.xlabel('Time')\n",
        "plt.ylabel(r'$\\theta$')\n",
        "plt.title('State Variable of 5th block')\n",
        "plt.savefig('./../output/inverse_epsilon/pred_theta.png')"
      ]
    }
  ],
  "metadata": {
    "accelerator": "GPU",
    "colab": {
      "gpuType": "T4",
      "provenance": []
    },
    "kernelspec": {
      "display_name": "new_env",
      "language": "python",
      "name": "python3"
    },
    "language_info": {
      "codemirror_mode": {
        "name": "ipython",
        "version": 3
      },
      "file_extension": ".py",
      "mimetype": "text/x-python",
      "name": "python",
      "nbconvert_exporter": "python",
      "pygments_lexer": "ipython3",
      "version": "3.10.8"
    }
  },
  "nbformat": 4,
  "nbformat_minor": 0
}
