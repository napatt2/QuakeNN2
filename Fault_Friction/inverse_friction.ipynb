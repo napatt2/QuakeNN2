{
  "cells": [
    {
      "cell_type": "code",
      "execution_count": null,
      "metadata": {
        "colab": {
          "base_uri": "https://localhost:8080/"
        },
        "id": "F-mJeJRKb9Of",
        "outputId": "ad1283fb-a799-4956-c024-2db28960ca06"
      },
      "outputs": [],
      "source": [
        "import deepxde as dde\n",
        "import matplotlib.pyplot as plt\n",
        "import numpy as np\n",
        "import tensorflow as tf\n",
        "import pandas as pd\n",
        "import os"
      ]
    },
    {
      "cell_type": "markdown",
      "metadata": {
        "id": "rltFcMI74O5A"
      },
      "source": [
        "# Import the Dataset\n",
        "We use only first 1,000 data points of $u$ and $v$ spanning from time 0 to 100."
      ]
    },
    {
      "cell_type": "code",
      "execution_count": null,
      "metadata": {
        "id": "QHoPXxM8xZib"
      },
      "outputs": [],
      "source": [
        "raw = pd.read_csv('../Dataset/sbm_inv.csv')\n",
        "raw = raw[0:1000]\n",
        "observe_t = raw['t']\n",
        "u_ext = raw['u']\n",
        "v_ext = raw['v']\n",
        "theta_ext = raw['theta']"
      ]
    },
    {
      "cell_type": "markdown",
      "metadata": {
        "id": "ItRzojCm5tTx"
      },
      "source": [
        "# Formulation of the Problem\n",
        "The system of ODEs can be written as follows:\n",
        "\\begin{gather*}\n",
        "        \\frac{d\\tilde{u}}{d\\tilde{t}} = \\tilde{v} \\\\\n",
        "        \\frac{d\\tilde{v}}{d\\tilde{t}} = \\kappa(v_o \\tilde{t} - \\tilde{u}) - \\alpha(f_o + a \\log \\tilde{v} + b \\log \\tilde{\\theta}) \\\\\n",
        "        \\frac{d\\tilde{\\theta}}{d\\tilde{t}} = 1 - \\tilde{v}\\tilde{\\theta}\n",
        "    \\end{gather*}\n",
        "Here, parameters $\\kappa$ and $\\alpha$ are defined as 0.5 and 1.0, respectively. However, we do not include measurements of $\\theta$ in the training process as it is not available in-situ. Additionally, the form of the rate-and-state friction is simplified to a function of time, under the assumption that we have no prior knowledge of the friction formula. Thus, the loss functions can be written as follows:\n",
        "\\begin{align*}\n",
        "MSE &= MSE_R + MSE_m \\\\\n",
        "MSE_R &= \\frac{1}{N_R} \\sum_{i=1}^{N_R} \\left| \\left( \\frac{du}{dt} \\right) (t_i, \\varphi) - v(t_i, \\varphi) \\right|^2 \\\\\n",
        "&\\quad + \\frac{1}{N_R} \\sum_{i=1}^{N_R} \\left| \\frac{dv}{dt}(t_i, \\varphi) - \\kappa(v_0 t_i - u(t_i, \\varphi)) + \\tau(t_i) \\right|^2 \\\\\n",
        "MSE_m &= \\frac{1}{N_m} \\sum_{i=1}^{N_m} \\left| u(t_i, \\varphi) - u^*(t_i) \\right|^2 + \\frac{1}{N_m} \\sum_{i=1}^{N_m} \\left| v(t_i, \\varphi) - v^*(t_i) \\right|^2 \\\\\n",
        "\\end{align*}\n"
      ]
    },
    {
      "cell_type": "code",
      "execution_count": null,
      "metadata": {},
      "outputs": [],
      "source": [
        "alpha = 4\n",
        "kappa = 0.5\n",
        "v0 = 1\n",
        "f0 = 0.2\n",
        "a = 0.2\n",
        "b = 0.3"
      ]
    },
    {
      "cell_type": "markdown",
      "metadata": {
        "id": "cHdvor-F707o"
      },
      "source": [
        "## Define ODE system\n",
        "Three output neurons are `u`, `v`, and `tau`, respectively. We take the derivative for each of the outputs with respect to time `x`."
      ]
    },
    {
      "cell_type": "code",
      "execution_count": null,
      "metadata": {
        "id": "XZEMhoy7b_7A"
      },
      "outputs": [],
      "source": [
        "def ode_system(x, y):\n",
        "    u, v, tau = y[:, 0:1], y[:, 1:2], y[:, 2:3]\n",
        "    du_t = dde.grad.jacobian(y, x, i=0)\n",
        "    dv_t = dde.grad.jacobian(y, x, i=1)\n",
        "\n",
        "    return [du_t - v,\n",
        "            dv_t - kappa * (v0 * x - u) + tau]"
      ]
    },
    {
      "cell_type": "markdown",
      "metadata": {
        "id": "mEXeLA_3-bvq"
      },
      "source": [
        "## Define Geometry and Measurement Loss\n",
        "We specify time domain in variable `geom`. Additionally, we assign the measurements of $u$ and $v$ as data loss via variable `observe_y0` and `observe_y1`."
      ]
    },
    {
      "cell_type": "code",
      "execution_count": null,
      "metadata": {
        "id": "LPoah7u0e8d7"
      },
      "outputs": [],
      "source": [
        "geom = dde.geometry.TimeDomain(0, 100)\n",
        "\n",
        "observe_t = observe_t.values.reshape((-1, 1))\n",
        "u_ext = u_ext.values.reshape((-1, 1))\n",
        "v_ext = v_ext.values.reshape((-1, 1))\n",
        "theta_ext = theta_ext.values.reshape((-1, 1))\n",
        "\n",
        "observe_y0 = dde.icbc.PointSetBC(observe_t, u_ext, component=0)\n",
        "observe_y1 = dde.icbc.PointSetBC(observe_t, v_ext, component=1)\n"
      ]
    },
    {
      "cell_type": "markdown",
      "metadata": {
        "id": "33bdhuA4_Rk3"
      },
      "source": [
        "# Compile and Train Model\n",
        "The geometry, equations, measurements, number of collocation points in the domain and on the boundary, achors for the invese problem, and number of test data points are defined in `data`."
      ]
    },
    {
      "cell_type": "code",
      "execution_count": null,
      "metadata": {
        "id": "DTynU9neeSUD"
      },
      "outputs": [],
      "source": [
        "dde.config.set_random_seed(20)\n",
        "\n",
        "data = dde.data.PDE(\n",
        "    geom,\n",
        "    ode_system,\n",
        "    [observe_y0, observe_y1],\n",
        "    num_domain=2000,\n",
        "    num_boundary=1000,\n",
        "    anchors=observe_t,\n",
        "    num_test=1000,\n",
        ")"
      ]
    },
    {
      "cell_type": "markdown",
      "metadata": {
        "id": "XUU-6vc-_80Q"
      },
      "source": [
        "The network consists of 1 input neuron of time, 3 hidden layers of 100 neurons, and 3 output neurons of $u, v,$ and $\\tau$. The model uses TanH activation function with Glorot uniform initialization. We run for 100,000 iterations using Adam optimization"
      ]
    },
    {
      "cell_type": "code",
      "execution_count": null,
      "metadata": {
        "colab": {
          "base_uri": "https://localhost:8080/",
          "height": 1000
        },
        "id": "3vtN_Oa9etqw",
        "outputId": "0d946481-9755-443e-a399-f2f357ae8bbb"
      },
      "outputs": [],
      "source": [
        "net = dde.nn.FNN([1] + [100] * 3 + [3], \"tanh\", \"Glorot uniform\")\n",
        "\n",
        "model = dde.Model(data, net)\n",
        "model.compile(\"adam\", lr=0.001)\n",
        "\n",
        "# Create output directory for saving checkpoints\n",
        "path = \"./../output/inverse_friction/model\"\n",
        "os.makedirs(path, exist_ok=True)\n",
        "checkpoint_path = os.path.join(path, \"model.ckpt\")\n",
        "checker = dde.callbacks.ModelCheckpoint(\n",
        "      checkpoint_path, save_better_only=True, period=500\n",
        "  )\n",
        "\n",
        "losshistory, train_state = model.train(iterations=100000, callbacks=[checker])\n",
        "dde.saveplot(losshistory, train_state, issave=True, isplot=True, output_dir=\"./../output/inverse_friction\")"
      ]
    },
    {
      "cell_type": "markdown",
      "metadata": {
        "id": "t62e-jvoA8U_"
      },
      "source": [
        "# Prediction and Plotting\n",
        "\n",
        "After training the PINN, we predict the solution over the time domain and compare the network predictions with the true measured data. "
      ]
    },
    {
      "cell_type": "code",
      "execution_count": null,
      "metadata": {
        "id": "FFkdpYi6DZ30"
      },
      "outputs": [],
      "source": [
        "t = np.linspace(0,100,2000).reshape(-1,1)\n",
        "yhat = model.predict(observe_t)\n",
        "uhat, vhat, tauhat = yhat[:, 0:1], yhat[:, 1:2], yhat[:, 2:3]"
      ]
    },
    {
      "cell_type": "code",
      "execution_count": null,
      "metadata": {
        "colab": {
          "base_uri": "https://localhost:8080/",
          "height": 466
        },
        "id": "GLCIU6yqDxVK",
        "outputId": "e20377a2-57db-413e-f483-66f3f6a9bb48"
      },
      "outputs": [],
      "source": [
        "plt.figure()\n",
        "plt.plot(observe_t, u_ext, \"-\", label=\"u exact\")\n",
        "plt.plot(observe_t, uhat, \"--\", label=\"u PINN\")\n",
        "plt.legend()\n",
        "plt.grid()\n",
        "plt.xlabel('Time')\n",
        "plt.ylabel('u')\n",
        "plt.savefig('./../output/inverse_friction/pred_u.png')"
      ]
    },
    {
      "cell_type": "code",
      "execution_count": null,
      "metadata": {
        "colab": {
          "base_uri": "https://localhost:8080/",
          "height": 466
        },
        "id": "Y1ze2LRoEQsG",
        "outputId": "3f2184c7-e427-4d5f-f511-5b474e6930f5"
      },
      "outputs": [],
      "source": [
        "plt.figure()\n",
        "plt.plot(observe_t, v_ext, \"-\", label=\"v exact\")\n",
        "plt.plot(observe_t, vhat, \"--\", label=\"v PINN\")\n",
        "plt.legend(loc = 'upper left')\n",
        "plt.grid()\n",
        "plt.xlabel('Time')\n",
        "plt.ylabel('v')\n",
        "plt.savefig('./../output/inverse_friction/pred_v.png')"
      ]
    },
    {
      "cell_type": "code",
      "execution_count": null,
      "metadata": {
        "colab": {
          "base_uri": "https://localhost:8080/",
          "height": 466
        },
        "id": "9C5dRKZfFQxG",
        "outputId": "e55f0648-26dc-4026-e69b-e5abff6a313c"
      },
      "outputs": [],
      "source": [
        "tau = alpha * (f0 + a * np.log(v_ext) + b * np.log(theta_ext))\n",
        "\n",
        "plt.figure()\n",
        "plt.plot(observe_t, tau, \"-\", label=\"friction exact\")\n",
        "plt.plot(observe_t, tauhat, \"--\", label=\"friction PINN\")\n",
        "plt.legend(loc = 'upper left')\n",
        "plt.grid()\n",
        "plt.xlabel('Time')\n",
        "plt.ylabel('Friction')\n",
        "plt.savefig('./../output/inverse_friction/pred_friction.png')"
      ]
    },
    {
      "cell_type": "code",
      "execution_count": null,
      "metadata": {},
      "outputs": [],
      "source": []
    }
  ],
  "metadata": {
    "accelerator": "GPU",
    "colab": {
      "gpuType": "T4",
      "include_colab_link": true,
      "provenance": []
    },
    "kernelspec": {
      "display_name": "new_env",
      "language": "python",
      "name": "python3"
    },
    "language_info": {
      "codemirror_mode": {
        "name": "ipython",
        "version": 3
      },
      "file_extension": ".py",
      "mimetype": "text/x-python",
      "name": "python",
      "nbconvert_exporter": "python",
      "pygments_lexer": "ipython3",
      "version": "3.10.8"
    }
  },
  "nbformat": 4,
  "nbformat_minor": 0
}
