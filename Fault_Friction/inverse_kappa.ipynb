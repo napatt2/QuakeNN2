{
  "cells": [
    {
      "cell_type": "code",
      "execution_count": null,
      "metadata": {
        "colab": {
          "base_uri": "https://localhost:8080/"
        },
        "id": "nyhaU-UOU6P3",
        "outputId": "5047bd67-5c1f-41d0-eca0-636585af8677"
      },
      "outputs": [],
      "source": [
        "import deepxde as dde\n",
        "import numpy as np\n",
        "import matplotlib.pyplot as plt\n",
        "from scipy import integrate\n",
        "from deepxde.backend import tf\n",
        "import pandas as pd\n",
        "import shutil\n",
        "import os"
      ]
    },
    {
      "cell_type": "markdown",
      "metadata": {
        "id": "FqV079ZssAD7"
      },
      "source": [
        "# Import Dataset"
      ]
    },
    {
      "cell_type": "code",
      "execution_count": null,
      "metadata": {
        "id": "3-prjnzlg9CZ"
      },
      "outputs": [],
      "source": [
        "raw = pd.read_csv('../Dataset/sbm1.csv')\n",
        "raw = raw[0:10000]\n",
        "observe_t = raw['Var1']\n",
        "u_ext = raw['y1_1']\n",
        "v_ext = raw['y1_2']\n",
        "theta_ext = raw['y1_3']"
      ]
    },
    {
      "cell_type": "markdown",
      "metadata": {
        "id": "vb0IPpAusVBP"
      },
      "source": [
        "# Formulation of the Problem\n",
        "\n",
        "The system of ODE is written as follows:\n",
        "\n",
        "\\begin{gather*}\n",
        "        \\frac{d\\tilde{u}}{d\\tilde{t}} = \\tilde{v} \\\\\n",
        "        \\frac{d\\tilde{v}}{d\\tilde{t}} = \\kappa(v_o \\tilde{t} - \\tilde{u}) - \\alpha(f_o + a \\log \\tilde{v} + b \\log \\tilde{\\theta}) \\\\\n",
        "        \\frac{d\\tilde{\\theta}}{d\\tilde{t}} = -\\tilde{v}\\tilde{\\theta}\\ln(\\tilde{v}\\tilde{\\theta})\n",
        "    \\end{gather*}\n",
        "\n",
        "Given the measurements of $\\tilde{u}, \\tilde{v},$ and $\\tilde{\\theta}$, our goal is to predict parameter $\\kappa$. We initialize parameter $\\kappa$ as 0.2. True $\\kappa$ is 0.25. Thus, the loss functions can be written as follows:\n",
        "\n",
        "\\begin{align*}\n",
        "MSE &= MSE_R + MSE_m \\\\\n",
        "MSE_R &= \\frac{1}{N_R} \\sum_{i=1}^{N_R} \\left| \\left( \\frac{du(t_i, \\varphi)}{dt} \\right) - v(t_i, \\varphi) \\right|^2 \\\\\n",
        "&\\quad + \\frac{1}{N_R} \\sum_{i=1}^{N_R} \\left| \\frac{dv(t_i, \\varphi)}{dt} - \\kappa(v_0 t_i - u(t_i, \\varphi)) + \\alpha(f_o + a \\log v(t_i, \\varphi) + b \\log \\theta(t_i, \\varphi)) \\right|^2 \\\\\n",
        "&\\quad + \\frac{1}{N_R} \\sum_{i=1}^{N_R} \\left| \\frac{d\\theta (t_i, \\varphi)}{dt} + v(t_i, \\varphi)\\theta(t_i, \\varphi) \\ln(v(t_i, \\varphi)\\theta(t_i, \\varphi)) \\right|^2 \\\\\n",
        "MSE_m &= \\frac{1}{N_m} \\sum_{i=1}^{N_m} \\left| u(t_i, \\varphi) - u^*(t_i) \\right|^2 + \\frac{1}{N_m} \\sum_{i=1}^{N_m} \\left| v(t_i, \\varphi) - v^*(t_i) \\right|^2 + \\frac{1}{N_m} \\sum_{i=1}^{N_m} \\left| \\theta(t_i, \\varphi) - \\theta^*(t_i) \\right|^2 \\\\\n",
        "\\end{align*}"
      ]
    },
    {
      "cell_type": "code",
      "execution_count": null,
      "metadata": {
        "id": "puhD9VShWvqr"
      },
      "outputs": [],
      "source": [
        "alpha = 9.81\n",
        "v0 = 1\n",
        "f0 = 0.2\n",
        "a = 0.2\n",
        "b = 0.3"
      ]
    },
    {
      "cell_type": "code",
      "execution_count": null,
      "metadata": {
        "id": "tndwl6EsVT0L"
      },
      "outputs": [],
      "source": [
        "def ode_system(x, y):\n",
        "  u = tf.clip_by_value(y[:, 0:1], clip_value_min=1e-8, clip_value_max=tf.reduce_max(y[:, 0:1]))\n",
        "  v = tf.clip_by_value(y[:, 1:2], clip_value_min=1e-8, clip_value_max=tf.reduce_max(y[:, 1:2]))\n",
        "  theta = tf.clip_by_value(y[:, 2:3], clip_value_min=1e-8, clip_value_max=tf.reduce_max(y[:, 2:3]))\n",
        "\n",
        "  du_t = dde.grad.jacobian(y, x, i=0)\n",
        "  dv_t = dde.grad.jacobian(y, x, i=1)\n",
        "  dtheta_t = dde.grad.jacobian(y, x, i=2)\n",
        "\n",
        "  return     [\n",
        "      du_t - v ,\n",
        "      dv_t - C1 * (v0 * x - u) + alpha * (f0 + a * tf.math.log(v) + b * tf.math.log(theta)),\n",
        "      dtheta_t + (v * theta * tf.math.log(v * theta))]\n"
      ]
    },
    {
      "cell_type": "markdown",
      "metadata": {
        "id": "-9e05XGBySFj"
      },
      "source": [
        "# Prepare Mesurements\n",
        "\n",
        "Apply measurements of $\\tilde{u}$ and $\\tilde{v}$ to each component"
      ]
    },
    {
      "cell_type": "code",
      "execution_count": null,
      "metadata": {
        "id": "CI9f5qccg-ad"
      },
      "outputs": [],
      "source": [
        "arr = observe_t.values\n",
        "observe_t = arr.reshape((-1, 1))\n",
        "u_ext = u_ext.values.reshape((-1, 1))\n",
        "v_ext = v_ext.values.reshape((-1, 1))\n",
        "theta_ext = theta_ext.values.reshape((-1, 1))"
      ]
    },
    {
      "cell_type": "code",
      "execution_count": null,
      "metadata": {
        "id": "eeSLZZLwhAec"
      },
      "outputs": [],
      "source": [
        "observe_y0 = dde.icbc.PointSetBC(observe_t, u_ext, component=0)\n",
        "observe_y1 = dde.icbc.PointSetBC(observe_t, v_ext, component=1)\n",
        "observe_y2 = dde.icbc.PointSetBC(observe_t, theta_ext, component=2)"
      ]
    },
    {
      "cell_type": "code",
      "execution_count": null,
      "metadata": {},
      "outputs": [],
      "source": [
        "def output_transform(t, y):\n",
        "    y1 = y[:, 0:1]\n",
        "    y2 = y[:, 1:2]\n",
        "    y3 = y[:, 2:3]\n",
        "\n",
        "    return tf.concat(\n",
        "        [y1 * tf.tanh(t) + 1, y2 * tf.tanh(t) + 0.5, y3 * tf.tanh(t) + 1 ], axis=1\n",
        "    )\n",
        "     "
      ]
    },
    {
      "cell_type": "markdown",
      "metadata": {
        "id": "5ynam9Vsyxns"
      },
      "source": [
        "## Compile and Train the PINN Model\n",
        "\n",
        "The following steps are performed:\n",
        "\n",
        "- **Geometry**: The time domain is set as $[0, 100]$.\n",
        "- **Data**: We enforce that the network satisfies the inverse ODE system and that its predictions match the 25 measurement points (using 20,000 residual points).\n",
        "- **Network Architecture**: A feed-forward neural network (FNN) with 6 hidden layers of 64 neurons each is used. The network takes time as input and outputs three values: $\\tilde{u}, \\tilde{v}$, and $\\tilde{\\theta}$.\n",
        "- **Output Transform**: An output transform is applied to help the network meet the initial conditions.\n",
        "- **Training**: The model is compiled with the Adam optimizer (learning rate = 0.00005) and trained for 57,000 iterations.\n",
        "\n",
        "During training, the trainable variable $\\kappa$ is updated along with the network parameters to minimize the total loss."
      ]
    },
    {
      "cell_type": "code",
      "execution_count": null,
      "metadata": {
        "id": "X-aUOqCyVAnm"
      },
      "outputs": [],
      "source": [
        "geom = dde.geometry.TimeDomain(0, 100)"
      ]
    },
    {
      "cell_type": "code",
      "execution_count": null,
      "metadata": {
        "colab": {
          "base_uri": "https://localhost:8080/",
          "height": 1000
        },
        "id": "6IP2ltb-eDiS",
        "outputId": "f1c04a24-e0dd-4ec2-8ddf-2f1516b3a796"
      },
      "outputs": [],
      "source": [
        "C1 = dde.Variable(0.2)\n",
        "dde.config.set_random_seed(123)\n",
        "data = dde.data.PDE(geom, ode_system, [observe_y0, observe_y1, observe_y2], 20000, 0, num_test = 3000, anchors=observe_t)\n",
        "layer_size = [1] + [64] * 6 + [3]\n",
        "activation = \"tanh\"\n",
        "initializer = \"Glorot normal\"\n",
        "net = dde.nn.FNN(layer_size, activation, initializer)\n",
        "net.apply_output_transform(output_transform)\n",
        "model = dde.Model(data, net)\n",
        "path = \"./../output/inverse_kappa/model\"\n",
        "os.makedirs(path, exist_ok=True)\n",
        "external_trainable_variables = [C1]\n",
        "variable = dde.callbacks.VariableValue(\n",
        "    external_trainable_variables, period=500, filename=\"./../output/inverse_kappa/variables.dat\"\n",
        ")\n",
        "\n",
        "model.compile(\n",
        "    \"adam\", lr=0.00005, external_trainable_variables=external_trainable_variables\n",
        ")\n",
        "\n",
        "checkpoint_path = os.path.join(path, \"model.ckpt\")\n",
        "checker = dde.callbacks.ModelCheckpoint(\n",
        "      checkpoint_path, save_better_only=True, period=500\n",
        "  )\n",
        "\n",
        "losshistory, train_state = model.train(iterations=57000 , callbacks=[variable, checker])\n",
        "\n",
        "dde.saveplot(losshistory, train_state, issave=True, isplot=True, output_dir=\"./../output/inverse_kappa/\")\n"
      ]
    },
    {
      "cell_type": "markdown",
      "metadata": {
        "id": "__MVzATMzeWy"
      },
      "source": [
        "# Prediction and Plotting\n",
        "\n",
        "The predictions from output neurons are plotted below, while the prediction of $\\kappa$ can be found in file \"variables.dat\""
      ]
    },
    {
      "cell_type": "code",
      "execution_count": null,
      "metadata": {
        "colab": {
          "base_uri": "https://localhost:8080/",
          "height": 449
        },
        "id": "T0xsalC3ppAc",
        "outputId": "2ac07f16-3b16-4b2b-c7ea-d46a47b914bf"
      },
      "outputs": [],
      "source": [
        "plt.figure()\n",
        "plt.xlabel(\"time\")\n",
        "plt.ylabel(\"y\")\n",
        "\n",
        "plt.plot(observe_t, u_ext, color=\"black\", label=\"True u\")\n",
        "plt.plot(observe_t, v_ext, color=\"blue\", label=\"True v\")\n",
        "plt.plot(observe_t, theta_ext, color=\"brown\", label=r'True $\\theta$')\n",
        "\n",
        "t = np.linspace(0, 100, 10000)\n",
        "t = t.reshape(10000, 1)\n",
        "sol_pred = model.predict(t)\n",
        "u_pred = sol_pred[:, 0:1]\n",
        "v_pred = sol_pred[:, 1:2]\n",
        "theta_pred = sol_pred[:, 2:3]\n",
        "\n",
        "plt.plot(t, u_pred, color=\"red\", linestyle=\"dashed\", label=\"Predict u\")\n",
        "plt.plot(t, v_pred, color=\"orange\", linestyle=\"dashed\", label=\"Predict v\")\n",
        "plt.plot(t, theta_pred, color=\"green\", linestyle=\"dashed\", label=r\"Predict $\\theta$\")\n",
        "plt.legend()\n",
        "plt.grid()\n",
        "plt.savefig('./../output/inverse_kappa/pred.png')\n",
        "plt.show()"
      ]
    }
  ],
  "metadata": {
    "accelerator": "GPU",
    "colab": {
      "gpuType": "T4",
      "provenance": []
    },
    "kernelspec": {
      "display_name": "new_env",
      "language": "python",
      "name": "python3"
    },
    "language_info": {
      "codemirror_mode": {
        "name": "ipython",
        "version": 3
      },
      "file_extension": ".py",
      "mimetype": "text/x-python",
      "name": "python",
      "nbconvert_exporter": "python",
      "pygments_lexer": "ipython3",
      "version": "3.10.8"
    }
  },
  "nbformat": 4,
  "nbformat_minor": 0
}
