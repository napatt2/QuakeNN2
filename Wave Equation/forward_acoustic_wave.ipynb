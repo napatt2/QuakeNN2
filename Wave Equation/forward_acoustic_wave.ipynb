{
 "cells": [
  {
   "cell_type": "markdown",
   "id": "intro",
   "metadata": {},
   "source": [
    "# Forward Simulation of the Acoustic Wave Equation Using PINNs\n",
    "\n",
    "In this notebook we solve the acoustic wave equation\n",
    "\n",
    "$$\n",
    "u_{tt}(x,t) = c^2 \\; u_{xx}(x,t),\n",
    "$$\n",
    "\n",
    "where $u(x,t)$ is the acoustic pressure (or displacement) field, $c$ is the wave speed, and $u_{tt}$ and $u_{xx}$ denote the second derivatives with respect to time and space, respectively.\n",
    "\n",
    "We will solve this PDE on a rectangular domain:\n",
    "\n",
    "- Spatial domain: $x \\in [0, 1]$\n",
    "- Time domain: $t \\in [0, 1]$\n",
    "\n",
    "with the following conditions:\n",
    "\n",
    "- **Initial conditions:**\n",
    "  - $u(x, 0) = \\sin(\\pi x)$\n",
    "  - $u_t(x, 0) = 0$\n",
    "- **Boundary conditions:**\n",
    "  - $u(0, t) = 0$ and $u(1, t) = 0$\n",
    "\n",
    "The goal is to use a Physics-Informed Neural Network (PINN) to approximate the solution \\(u(x,t)\\) by minimizing a loss function that includes the residual of the PDE, the initial conditions, and the boundary conditions."
   ]
  },
  {
   "cell_type": "markdown",
   "id": "import-libraries",
   "metadata": {},
   "source": [
    "## Import Libraries\n",
    "\n",
    "We begin by importing DeepXDE, NumPy, Matplotlib, and other necessary libraries. DeepXDE uses automatic differentiation to compute derivatives needed to enforce the PDE."
   ]
  },
  {
   "cell_type": "code",
   "execution_count": null,
   "id": "import-code",
   "metadata": {},
   "outputs": [],
   "source": [
    "import deepxde as dde\n",
    "import numpy as np\n",
    "import matplotlib.pyplot as plt\n",
    "from deepxde.backend import tf"
   ]
  },
  {
   "cell_type": "markdown",
   "id": "governing-equation",
   "metadata": {},
   "source": [
    "## Governing Equation\n",
    "\n",
    "The acoustic wave equation is given by:\n",
    "\n",
    "$$\n",
    "u_{tt}(x,t) - c^2 \\; u_{xx}(x,t) = 0,\n",
    "$$\n",
    "\n",
    "where $c$ is the wave speed (we set, for example, $c=1$ for simplicity). The PINN will approximate $u(x,t)$ such that the residual of this equation is minimized over the domain."
   ]
  },
  {
   "cell_type": "markdown",
   "id": "pde-definition",
   "metadata": {},
   "source": [
    "## Define the PDE Residual Function\n",
    "\n",
    "We define a function that computes the residual of the PDE. Here, we use DeepXDE's automatic differentiation to compute $u_{tt}$ and $u_{xx}$."
   ]
  },
  {
   "cell_type": "code",
   "execution_count": null,
   "id": "define-pde",
   "metadata": {},
   "outputs": [],
   "source": [
    "def acoustic_wave_pde(x, u):\n",
    "    \"\"\"\n",
    "    Returns the residual of the acoustic wave equation:\n",
    "      u_tt - c^2 * u_xx\n",
    "    where u(x,t) is the solution.\n",
    "    \"\"\"\n",
    "    # Compute second derivative with respect to time\n",
    "    u_t = dde.grad.jacobian(u, x, i=1)  # derivative with respect to t (x[:,1])\n",
    "    u_tt = dde.grad.jacobian(u_t, x, i=1)\n",
    "\n",
    "    # Compute second derivative with respect to space\n",
    "    u_x = dde.grad.jacobian(u, x, i=0)  # derivative with respect to x (x[:,0])\n",
    "    u_xx = dde.grad.jacobian(u_x, x, i=0)\n",
    "\n",
    "    c = 1.0  # wave speed\n",
    "    return u_tt - c**2 * u_xx"
   ]
  },
  {
   "cell_type": "markdown",
   "id": "geometry-conditions",
   "metadata": {},
   "source": [
    "## Define the Domain, Initial, and Boundary Conditions\n",
    "\n",
    "We define a rectangular geometry for the domain:\n",
    "\n",
    "- Spatial variable $x \\in [0, 1]$\n",
    "- Time variable $t \\in [0, 1]$\n",
    "\n",
    "The initial conditions are set as follows:\n",
    "\n",
    "- $u(x,0) = \\sin(\\pi x)$\n",
    "- $u_t(x,0) = 0$\n",
    "\n",
    "The boundary conditions are homogeneous Dirichlet:\n",
    "\n",
    "- $u(0,t) = 0$ and $u(1,t) = 0$"
   ]
  },
  {
   "cell_type": "code",
   "execution_count": null,
   "id": "define-geometry-and-bcs",
   "metadata": {},
   "outputs": [],
   "source": [
    "# Define the geometry: a rectangle in the (x,t) space\n",
    "geom = dde.geometry.Rectangle(xmin=[0, 0], xmax=[1, 1])\n",
    "\n",
    "# Initial condition: u(x,0) = sin(pi*x)\n",
    "def func_u_init(x):\n",
    "    return np.sin(np.pi * x[:, 0:1])\n",
    "\n",
    "# Initial condition for the time derivative: u_t(x,0) = 0\n",
    "def func_ut_init(x):\n",
    "    return np.zeros((x.shape[0], 1))\n",
    "\n",
    "# Define the initial condition (IC) for u at t = 0\n",
    "ic_u = dde.icbc.IC(geom, func_u_init, lambda x, on_initial: on_initial, component=0)\n",
    "\n",
    "# Define the initial condition for the time derivative\n",
    "ic_ut = dde.icbc.IC(geom, func_ut_init, lambda x, on_initial: on_initial, component=1)\n",
    "\n",
    "# For the PDE, we need to supply the initial conditions in the data formulation.\n",
    "# Note: In this formulation, we can combine the initial and boundary conditions using the built-in DeepXDE classes.\n",
    "\n",
    "# Boundary condition: u(0,t) = 0 and u(1,t) = 0\n",
    "bc_left = dde.icbc.DirichletBC(geom, lambda x: 0, lambda x, on_boundary: np.isclose(x[0], 0))\n",
    "bc_right = dde.icbc.DirichletBC(geom, lambda x: 0, lambda x, on_boundary: np.isclose(x[0], 1))\n",
    "\n",
    "# Combine all boundary and initial conditions\n",
    "data = dde.data.TimePDE(\n",
    "    geom,\n",
    "    acoustic_wave_pde,\n",
    "    [ic_u, ic_ut, bc_left, bc_right],\n",
    "    num_domain=20000,\n",
    "    num_boundary=2000\n",
    ")"
   ]
  },
  {
   "cell_type": "markdown",
   "id": "setup-training",
   "metadata": {},
   "source": [
    "## Setup and Train the PINN Model\n",
    "\n",
    "We use a feed-forward neural network (FNN) with 4 hidden layers (50 neurons each) to approximate the solution $u(x,t)$. The network takes a two-dimensional input $[x,t]$ and outputs a single scalar ($u$). An output transform is applied to help enforce the initial condition. Finally, the model is compiled with the Adam optimizer and trained for 50,000 iterations."
   ]
  },
  {
   "cell_type": "code",
   "execution_count": null,
   "id": "network-setup",
   "metadata": {},
   "outputs": [],
   "source": [
    "layer_size = [2] + [50] * 4 + [1]  # Input: [x, t]; Output: u\n",
    "activation = \"tanh\"\n",
    "initializer = \"Glorot normal\"\n",
    "net = dde.nn.FNN(layer_size, activation, initializer)\n",
    "\n",
    "def output_transform(x, u):\n",
    "    \"\"\"\n",
    "    An output transform that enforces the initial condition u(x,0) = sin(pi*x).\n",
    "    Here we add the known initial condition and multiply the network output by t to ensure u(x,0) is satisfied.\n",
    "    \"\"\"\n",
    "    t = x[:, 1:2]\n",
    "    return u * t + np.sin(np.pi * x[:, 0:1])\n",
    "\n",
    "net.apply_output_transform(output_transform)\n",
    "\n",
    "model = dde.Model(data, net)\n",
    "model.compile(\"adam\", lr=0.001)\n",
    "\n",
    "\n",
    "# Create output directory for saving checkpoints\n",
    "path = \"./../output/Model/model\"\n",
    "os.makedirs(path, exist_ok=True)\n",
    "checkpoint_path = os.path.join(path, \"model.ckpt\")\n",
    "checker = dde.callbacks.ModelCheckpoint(\n",
    "      checkpoint_path, save_better_only=True, period=50\n",
    "  )\n",
    "\n",
    "# Train the model for 50,000 iterations (epochs)\n",
    "losshistory, train_state = model.train(epochs=50000, callbacks=[checker])"
   ]
  },
  {
   "cell_type": "markdown",
   "id": "prediction-plot",
   "metadata": {},
   "source": [
    "## Prediction and Plotting\n",
    "\n",
    "After training, we predict the solution $u(x,t)$ on a fine grid over the domain and plot the results.\n",
    "\n",
    "Here we plot both the solution at a fixed time (e.g., $t=0.5$) as a function of $x$ and a surface plot in the $(x,t)$ space."
   ]
  },
  {
   "cell_type": "code",
   "execution_count": null,
   "id": "predict-and-plot",
   "metadata": {},
   "outputs": [],
   "source": [
    "# Create a grid for prediction\n",
    "x = np.linspace(0, 1, 200)[:, None]\n",
    "t = np.linspace(0, 1, 200)[:, None]\n",
    "X, T = np.meshgrid(x, t)\n",
    "XT = np.hstack((X.flatten()[:, None], T.flatten()[:, None]))\n",
    "\n",
    "# Predict the solution\n",
    "u_pred = model.predict(XT)\n",
    "u_pred = u_pred.reshape(X.shape)\n",
    "\n",
    "# Plot the solution at a fixed time t = 0.5\n",
    "plt.figure(figsize=(8, 6))\n",
    "plt.plot(x, u_pred[100, :], 'r-', label='Predicted u(x,t=0.5)')\n",
    "plt.xlabel('x')\n",
    "plt.ylabel('u')\n",
    "plt.legend()\n",
    "plt.title('Solution at t = 0.5')\n",
    "plt.grid(True)\n",
    "plt.show()\n",
    "\n",
    "# Surface plot of u(x,t)\n",
    "from mpl_toolkits.mplot3d import Axes3D\n",
    "\n",
    "fig = plt.figure(figsize=(10, 7))\n",
    "ax = fig.add_subplot(111, projection='3d')\n",
    "ax.plot_surface(X, T, u_pred, cmap='viridis', edgecolor='none')\n",
    "ax.set_xlabel('x')\n",
    "ax.set_ylabel('t')\n",
    "ax.set_zlabel('u(x,t)')\n",
    "ax.set_title('Acoustic Wave Simulation')\n",
    "plt.show()"
   ]
  }
 ],
 "metadata": {
  "colab": {
   "name": "forward_acoustic_wave.ipynb",
   "provenance": []
  },
  "kernelspec": {
   "display_name": "Python 3 (ipykernel)",
   "language": "python",
   "name": "python3"
  },
  "language_info": {
   "codemirror_mode": {
    "name": "ipython",
    "version": 3
   },
   "file_extension": ".py",
   "mimetype": "text/x-python",
   "name": "python",
   "nbconvert_exporter": "python",
   "pygments_lexer": "ipython3",
   "version": "3.10.8"
  }
 },
 "nbformat": 4,
 "nbformat_minor": 5
}
