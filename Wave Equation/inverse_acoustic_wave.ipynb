{
 "cells": [
  {
   "cell_type": "code",
   "execution_count": 1,
   "metadata": {
    "colab": {
     "base_uri": "https://localhost:8080/"
    },
    "id": "A3Zm7T82YusD",
    "outputId": "525bc03c-c335-4460-8674-001ab1d65187"
   },
   "outputs": [
    {
     "name": "stderr",
     "output_type": "stream",
     "text": [
      "Using backend: tensorflow.compat.v1\n",
      "\n"
     ]
    },
    {
     "name": "stdout",
     "output_type": "stream",
     "text": [
      "WARNING:tensorflow:From C:\\Users\\napat\\anaconda3\\envs\\new_env\\lib\\site-packages\\tensorflow\\python\\compat\\v2_compat.py:107: disable_resource_variables (from tensorflow.python.ops.variable_scope) is deprecated and will be removed in a future version.\n",
      "Instructions for updating:\n",
      "non-resource variables are not supported in the long term\n",
      "WARNING:tensorflow:From C:\\Users\\napat\\anaconda3\\envs\\new_env\\lib\\site-packages\\deepxde\\nn\\initializers.py:118: The name tf.keras.initializers.he_normal is deprecated. Please use tf.compat.v1.keras.initializers.he_normal instead.\n",
      "\n"
     ]
    }
   ],
   "source": [
    "import deepxde as dde\n",
    "import numpy as np\n",
    "import matplotlib.pyplot as plt\n",
    "from scipy.io import loadmat\n",
    "import os"
   ]
  },
  {
   "cell_type": "markdown",
   "metadata": {
    "id": "Eq41hCmYNAhu"
   },
   "source": [
    "# Formulation of the Problem\n",
    "Our goal is to estimate parameter $c$ of the acoustic wave equation, given the dataset of $u$. The formulation can be written as follows:\n",
    "\n",
    "\\begin{align}\n",
    "\\frac{\\partial^2 u}{\\partial t^2} = c^2 \\left( \\frac{\\partial^2 u}{\\partial x^2} + \\frac{\\partial^2 u}{\\partial y^2} \\right)\n",
    "    \\end{align}\n",
    "\n",
    "The true value of $c$ is $\\sqrt{30/2.7} = 3.33$."
   ]
  },
  {
   "cell_type": "code",
   "execution_count": 2,
   "metadata": {
    "id": "yfPi1g--uu8o"
   },
   "outputs": [],
   "source": [
    "data = loadmat('./../Dataset/acoustic_c3.mat')\n",
    "u_exact = data['u_log'].transpose(1, 0, 2)\n",
    "tspan = data['t'].T"
   ]
  },
  {
   "cell_type": "code",
   "execution_count": 3,
   "metadata": {
    "id": "IYSNNDJOaw0I"
   },
   "outputs": [],
   "source": [
    "# Define spatial and temporal domain for the exact solution\n",
    "x = np.linspace(0, 1, 101)\n",
    "y = np.linspace(0, 1, 101)\n",
    "t = np.linspace(0, 0.1, 101)\n",
    "x_temp, y_temp, t_temp = np.meshgrid(x, y, t)"
   ]
  },
  {
   "cell_type": "code",
   "execution_count": 5,
   "metadata": {
    "id": "pjbaF4CMa8zQ"
   },
   "outputs": [],
   "source": [
    "# Randomly select 1000 data points in the the datasat\n",
    "idx = np.random.choice(x_temp.flatten()[:,None].shape[0], 1000, replace=False)\n",
    "ob_x = x_temp.flatten()[:,None][idx,:]\n",
    "ob_y = y_temp.flatten()[:,None][idx,:]\n",
    "ob_t = t_temp.flatten()[:,None][idx,:]\n",
    "ob_u = u_exact.flatten()[:,None][idx,:]"
   ]
  },
  {
   "cell_type": "markdown",
   "metadata": {
    "id": "aw654kCYSLZO"
   },
   "source": [
    "# Define Wave Equation"
   ]
  },
  {
   "cell_type": "code",
   "execution_count": 6,
   "metadata": {
    "id": "RVWycob6xA25"
   },
   "outputs": [],
   "source": [
    "def Wave_Equation(x, y):\n",
    "    dy_xx = dde.grad.hessian(y, x, i=0, j=0)\n",
    "    dy_yy = dde.grad.hessian(y, x, i=1, j=1)\n",
    "    dy_tt = dde.grad.hessian(y, x, i=2, j=2)\n",
    "    return dy_tt - C1**2 * (dy_xx + dy_yy)\n",
    "\n",
    "def get_initial_loss(model):\n",
    "    model.compile(\"adam\", lr=0.001)\n",
    "    losshistory, train_state = model.train(0)\n",
    "    return losshistory.loss_train[0]"
   ]
  },
  {
   "cell_type": "markdown",
   "metadata": {
    "id": "_I2WYeyUSb8F"
   },
   "source": [
    "# Setup and Train Model"
   ]
  },
  {
   "cell_type": "code",
   "execution_count": 7,
   "metadata": {
    "colab": {
     "base_uri": "https://localhost:8080/",
     "height": 1000
    },
    "id": "CpZ1w3I1YsHF",
    "outputId": "0a8a1dfc-1751-48a8-9b30-e78ea6fd5164"
   },
   "outputs": [
    {
     "name": "stdout",
     "output_type": "stream",
     "text": [
      "Compiling model...\n",
      "Building Spatio-temporal Multi-scale Fourier Feature Network...\n"
     ]
    },
    {
     "name": "stderr",
     "output_type": "stream",
     "text": [
      "/usr/local/lib/python3.10/dist-packages/deepxde/nn/tensorflow_compat_v1/fnn.py:116: UserWarning: `tf.layers.dense` is deprecated and will be removed in a future version. Please use `tf.keras.layers.Dense` instead.\n",
      "  return tf.layers.dense(\n"
     ]
    },
    {
     "name": "stdout",
     "output_type": "stream",
     "text": [
      "'compile' took 6.747602 s\n",
      "\n",
      "Training model...\n",
      "\n",
      "Step      Train loss              Test loss               Test metric\n",
      "0         [3.85e+05, 4.57e-02]    [3.85e+05, 4.57e-02]    []  \n",
      "\n",
      "Best model at step 0:\n",
      "  train loss: 3.85e+05\n",
      "  test loss: 3.85e+05\n",
      "  test metric: []\n",
      "\n",
      "'train' took 5.588927 s\n",
      "\n",
      "Compiling model...\n",
      "Warning: For the backend tensorflow.compat.v1, `external_trainable_variables` is ignored, and all trainable ``tf.Variable`` objects are automatically collected.\n",
      "'compile' took 2.265642 s\n",
      "\n",
      "Training model...\n",
      "\n",
      "Step      Train loss              Test loss               Test metric\n",
      "0         [5.81e+00, 8.66e+00]    [5.81e+00, 8.66e+00]    []  \n",
      "500       [2.52e-03, 8.21e-04]    [2.52e-03, 8.21e-04]    []  \n",
      "1000      [8.78e-04, 2.86e-04]    [8.91e-04, 2.86e-04]    []  \n",
      "1500      [4.93e-04, 1.68e-04]    [5.01e-04, 1.68e-04]    []  \n",
      "2000      [3.30e-04, 1.15e-04]    [3.44e-04, 1.15e-04]    []  \n",
      "2500      [2.50e-04, 8.74e-05]    [2.56e-04, 8.74e-05]    []  \n",
      "3000      [2.00e-04, 8.10e-05]    [2.04e-04, 8.10e-05]    []  \n",
      "3500      [1.64e-04, 6.21e-05]    [1.68e-04, 6.21e-05]    []  \n",
      "4000      [1.41e-04, 2.33e-04]    [1.45e-04, 2.33e-04]    []  \n",
      "4500      [1.19e-04, 4.81e-05]    [1.23e-04, 4.81e-05]    []  \n",
      "5000      [1.14e-04, 6.32e-04]    [1.18e-04, 6.32e-04]    []  \n",
      "5500      [9.59e-05, 4.04e-05]    [9.63e-05, 4.04e-05]    []  \n",
      "6000      [8.41e-05, 3.76e-05]    [8.72e-05, 3.76e-05]    []  \n",
      "6500      [7.85e-05, 3.54e-05]    [8.02e-05, 3.54e-05]    []  \n",
      "7000      [7.20e-05, 4.00e-05]    [7.47e-05, 4.00e-05]    []  \n",
      "7500      [6.79e-05, 3.25e-05]    [6.89e-05, 3.25e-05]    []  \n",
      "8000      [6.35e-05, 3.15e-05]    [6.52e-05, 3.15e-05]    []  \n",
      "8500      [6.04e-05, 2.96e-05]    [6.13e-05, 2.96e-05]    []  \n",
      "9000      [5.84e-05, 2.81e-05]    [5.87e-05, 2.81e-05]    []  \n",
      "9500      [5.56e-05, 2.82e-05]    [5.61e-05, 2.82e-05]    []  \n",
      "10000     [5.30e-05, 3.42e-05]    [5.42e-05, 3.42e-05]    []  \n",
      "10500     [5.01e-05, 2.59e-05]    [5.18e-05, 2.59e-05]    []  \n",
      "11000     [4.89e-05, 2.67e-05]    [5.01e-05, 2.67e-05]    []  \n",
      "11500     [4.77e-05, 7.29e-05]    [4.97e-05, 7.29e-05]    []  \n",
      "12000     [4.75e-05, 4.74e-05]    [4.88e-05, 4.74e-05]    []  \n",
      "12500     [4.54e-05, 2.41e-05]    [4.65e-05, 2.41e-05]    []  \n",
      "13000     [4.47e-05, 2.78e-05]    [4.55e-05, 2.78e-05]    []  \n",
      "13500     [4.40e-05, 2.38e-05]    [4.47e-05, 2.38e-05]    []  \n",
      "14000     [4.64e-05, 1.69e-04]    [4.65e-05, 1.69e-04]    []  \n",
      "14500     [4.14e-05, 2.20e-05]    [4.24e-05, 2.20e-05]    []  \n",
      "15000     [4.06e-05, 2.24e-05]    [4.18e-05, 2.24e-05]    []  \n",
      "15500     [4.00e-05, 2.12e-05]    [4.06e-05, 2.12e-05]    []  \n",
      "16000     [3.91e-05, 2.10e-05]    [4.00e-05, 2.10e-05]    []  \n",
      "16500     [3.93e-05, 4.18e-05]    [3.99e-05, 4.18e-05]    []  \n",
      "17000     [3.86e-05, 2.18e-05]    [3.90e-05, 2.18e-05]    []  \n",
      "17500     [4.03e-05, 2.87e-05]    [4.11e-05, 2.87e-05]    []  \n",
      "18000     [3.57e-05, 1.88e-05]    [3.63e-05, 1.88e-05]    []  \n",
      "18500     [3.40e-05, 1.80e-05]    [3.51e-05, 1.80e-05]    []  \n",
      "19000     [3.51e-05, 2.03e-05]    [3.61e-05, 2.03e-05]    []  \n",
      "19500     [3.86e-05, 4.60e-05]    [3.92e-05, 4.60e-05]    []  \n",
      "20000     [3.62e-05, 1.05e-04]    [3.76e-05, 1.05e-04]    []  \n",
      "\n",
      "Best model at step 18500:\n",
      "  train loss: 5.21e-05\n",
      "  test loss: 5.32e-05\n",
      "  test metric: []\n",
      "\n",
      "'train' took 359.202395 s\n",
      "\n",
      "Saving loss history to /content/loss.dat ...\n",
      "Saving training data to /content/train.dat ...\n",
      "Saving test data to /content/test.dat ...\n"
     ]
    },
    {
     "data": {
      "image/png": "[encoded data removed]",
      "text/plain": [
       "<Figure size 640x480 with 1 Axes>"
      ]
     },
     "metadata": {},
     "output_type": "display_data"
    }
   ],
   "source": [
    "# true value\n",
    "C1true = np.sqrt(30/2.7)\n",
    "\n",
    "# Parameters to be identified\n",
    "C1 = dde.Variable(2.0)\n",
    "\n",
    "# Spatial domain: X × Y = [0, 1] × [0, 1]\n",
    "Lx_min, Lx_max = 0.0, 1.0\n",
    "Ly_min, Ly_max = 0.0, 1.0\n",
    "space_domain = dde.geometry.Rectangle([Lx_min, Ly_min], [Lx_max, Ly_max])\n",
    "\n",
    "# Time domain: T = [0, 0.1]\n",
    "time_domain = dde.geometry.TimeDomain(0.0, 0.1)\n",
    "\n",
    "# Spatio-temporal domain\n",
    "geomtime = dde.geometry.GeometryXTime(space_domain, time_domain)\n",
    "\n",
    "# Get the training data: num = 7000\n",
    "ob_xyt = np.hstack((ob_x, ob_y, ob_t))\n",
    "observe_u = dde.icbc.PointSetBC(ob_xyt, ob_u, component=0)\n",
    "\n",
    "# Training datasets and Loss\n",
    "data = dde.data.TimePDE(\n",
    "    geomtime,\n",
    "    Wave_Equation,\n",
    "    [observe_u],\n",
    "    num_domain=700,\n",
    "    num_boundary=200,\n",
    "    num_initial=100,\n",
    "    anchors=ob_xyt,\n",
    ")\n",
    "\n",
    "# Neural Network setup\n",
    "layer_size = [3] + [100] * 3 + [1]\n",
    "activation = \"tanh\"\n",
    "initializer = \"Glorot uniform\"\n",
    "net = dde.nn.STMsFFN(layer_size, activation, initializer, sigmas_x=[1, 5], sigmas_t=[1, 5])\n",
    "net.apply_feature_transform(lambda x: (x - 0.5) * 2 * np.sqrt(3))\n",
    "path = \"./../output/Model/model\"\n",
    "os.makedirs(path, exist_ok=True)\n",
    "checkpoint_path = os.path.join(path, \"model.ckpt\")\n",
    "checker = dde.callbacks.ModelCheckpoint(\n",
    "      checkpoint_path, save_better_only=True, period=50\n",
    "  )\n",
    "model = dde.Model(data, net)\n",
    "\n",
    "fnamevar = \"./../output/variables.dat\"\n",
    "variable = dde.callbacks.VariableValue([C1], period=100, filename=fnamevar)\n",
    "\n",
    "initial_losses = get_initial_loss(model)\n",
    "loss_weights = 5 / initial_losses\n",
    "model.compile(\n",
    "    \"adam\",\n",
    "    lr=0.001,\n",
    "    external_trainable_variables=[C1],\n",
    "    loss_weights=loss_weights,\n",
    "    decay=(\"inverse time\", 2000, 0.9),\n",
    ")\n",
    "\n",
    "pde_residual_resampler = dde.callbacks.PDEPointResampler(period=100) # Use pde residual sampler every 100 iterations\n",
    "losshistory, train_state = model.train(\n",
    "    iterations=1000000,  callbacks=[checker, pde_residual_resampler, variable], display_every=500\n",
    ")\n",
    "\n",
    "dde.saveplot(losshistory, train_state, issave=True, isplot=True)\n"
   ]
  },
  {
   "cell_type": "markdown",
   "metadata": {
    "id": "8OWdRsE3TcJE"
   },
   "source": [
    "# Predict Solution\n",
    "The prediction of variable $c$ can be founded in the file \"variables.dat\" which is genereated during the training."
   ]
  },
  {
   "cell_type": "code",
   "execution_count": 8,
   "metadata": {
    "id": "ckarQf_xw7xs"
   },
   "outputs": [],
   "source": [
    "x = np.linspace(0, 1, 101)\n",
    "y = np.linspace(0, 1, 101)\n",
    "t = np.linspace(0, 0.1, 101)\n",
    "xv, yv, tv = np.meshgrid(x, y, t)\n",
    "\n",
    "x_test = xv.flatten()[:,None]\n",
    "y_test = yv.flatten()[:,None]\n",
    "t_test = tv.flatten()[:,None]\n",
    "\n",
    "ob_xyt = np.hstack((x_test, y_test, t_test))\n",
    "pred = model.predict(ob_xyt)\n",
    "pred2 = pred.reshape((101,101,101))"
   ]
  }
 ],
 "metadata": {
  "accelerator": "GPU",
  "colab": {
   "gpuType": "T4",
   "provenance": []
  },
  "kernelspec": {
   "display_name": "Python 3 (ipykernel)",
   "language": "python",
   "name": "python3"
  },
  "language_info": {
   "codemirror_mode": {
    "name": "ipython",
    "version": 3
   },
   "file_extension": ".py",
   "mimetype": "text/x-python",
   "name": "python",
   "nbconvert_exporter": "python",
   "pygments_lexer": "ipython3",
   "version": "3.10.8"
  }
 },
 "nbformat": 4,
 "nbformat_minor": 1
}
