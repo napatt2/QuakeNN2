{
  "cells": [
    {
      "cell_type": "code",
      "execution_count": null,
      "metadata": {
        "id": "5DMAJSRjVXJo"
      },
      "outputs": [],
      "source": [
        "import deepxde as dde\n",
        "import numpy as np\n",
        "from scipy.io import loadmat\n",
        "import matplotlib.pyplot as plt\n",
        "from matplotlib import cm\n",
        "import os"
      ]
    },
    {
      "cell_type": "markdown",
      "metadata": {
        "id": "sZV52xi6VZzY"
      },
      "source": [
        "# Formulation of the Problem\n",
        "Our goal is to predict the solution of the acoustic wave equation. The formulation can be written as follows:\n",
        "\n",
        "\\begin{align}\n",
        "\\frac{\\partial^2 u}{\\partial t^2} = c^2 \\left( \\frac{\\partial^2 u}{\\partial x^2} + \\frac{\\partial^2 u}{\\partial y^2} \\right)\n",
        "    \\end{align}\n",
        "\n",
        "$c = \\sqrt{30/2.7} = 3.33$\n",
        "\n",
        "Initial Conditions:\n",
        "\\begin{align}\n",
        "u(x, y, 0) = x(1-x)y(1-y) \\\\\n",
        "\\frac{\\partial u}{\\partial t}(x, y, 0) = 0\n",
        "    \\end{align}\n",
        "\n",
        "Boundary Conditions:\n",
        "$u(0, y, t) = u(1, y, t) = u(x, 0, t) = u(x, 1, t) = 0$\n"
      ]
    },
    {
      "cell_type": "code",
      "execution_count": null,
      "metadata": {
        "id": "ZmCFPL7zWFka"
      },
      "outputs": [],
      "source": [
        "def pde(x, y):\n",
        "    dy_xx = dde.grad.hessian(y, x, i=0, j=0)\n",
        "    dy_yy = dde.grad.hessian(y, x, i=1, j=1)\n",
        "    dy_tt = dde.grad.hessian(y, x, i=2, j=2)\n",
        "    return dy_tt - C**2 * (dy_xx + dy_yy)\n",
        "\n",
        "def get_initial_loss(model):\n",
        "    model.compile(\"adam\", lr=0.001)\n",
        "    losshistory, train_state = model.train(0)\n",
        "    return losshistory.loss_train[0]\n",
        "\n",
        "def func(x):\n",
        "    x, y, t = np.split(x, 3, axis=1)\n",
        "    return x*(1-x)*y*(1-y)"
      ]
    },
    {
      "cell_type": "markdown",
      "metadata": {
        "id": "eiEeCIE5iaQN"
      },
      "source": [
        "# Neural Network Setup and Train Model\n",
        "\n",
        "- **Parameter Definition:**  \n",
        "  - `C = np.sqrt(30/2.7)` computes the constant `C`.\n",
        "\n",
        "- **Domain Setup:**  \n",
        "  - **Spatial Domain:** Defined as `[0, 1] × [0, 1]` with `dde.geometry.Rectangle`.\n",
        "  - **Time Domain:** Defined as `[0, 0.01]` with `dde.geometry.TimeDomain` (note the comment suggests `[0, 0.1]`).\n",
        "  - **Spatio-Temporal Domain:** Combined using `dde.geometry.GeometryXTime`.\n",
        "\n",
        "- **Boundary and Initial Conditions:**  \n",
        "  - **Dirichlet BC:** `bc = dde.icbc.DirichletBC(geomtime, func, lambda _, on_boundary: on_boundary)`\n",
        "  - **Initial Condition:** `ic_1 = dde.icbc.IC(geomtime, func, lambda _, on_initial: on_initial)`\n",
        "  - **Operator BC:** Applies a derivative condition via `dde.icbc.OperatorBC`.\n",
        "\n",
        "- **Training Data and Loss Setup:**  \n",
        "  - The PDE data is prepared with `dde.data.TimePDE`, specifying numbers for domain, boundary, initial, and test points.\n",
        "\n",
        "- **Neural Network Configuration:**  \n",
        "  - **Architecture:** `layer_size = [3] + [100] * 3 + [1]` (3 inputs, three hidden layers of 100 neurons each, 1 output).\n",
        "  - **Activation & Initializer:** Uses `\"tanh\"` activation and `\"Glorot uniform\"` initializer.\n",
        "  - **Network Creation:** Built with `dde.nn.STMsFFN` and enhanced by a feature transformation.\n",
        "  - **Model Assembly:** Combined into a model via `dde.Model(data, net)`.\n",
        "\n",
        "- **Compilation and Training:**  \n",
        "  - **Loss Weighting:** Computed using `get_initial_loss(model)` and scaled as `loss_weights = 5 / initial_losses`.\n",
        "  - **Compilation:** Model is compiled with the Adam optimizer, a learning rate of `0.001`, and an inverse time decay schedule.\n",
        "  - **Callbacks:** Includes a model checkpoint callback (saving every 50 iterations) and a PDE residual resampler (every 100 iterations).\n",
        "  - **Training:** The model trains for 10,000 iterations with periodic display every 500 iterations.\n",
        "\n",
        "- **Post-Training:**  \n",
        "  - The training history and state are saved and plotted using `dde.saveplot`.\n"
      ]
    },
    {
      "cell_type": "code",
      "execution_count": null,
      "metadata": {
        "colab": {
          "base_uri": "https://localhost:8080/",
          "height": 1000
        },
        "id": "CUbxzW40fEOD",
        "outputId": "4a2b7620-e8be-4f6d-9892-a088ca42a7dc"
      },
      "outputs": [],
      "source": [
        "# Define parameter c\n",
        "C = np.sqrt(30/2.7)\n",
        "\n",
        "# Spatial domain: X × Y = [0, 1] × [0, 1]\n",
        "Lx_min, Lx_max = 0.0, 1.0\n",
        "Ly_min, Ly_max = 0.0, 1.0\n",
        "space_domain = dde.geometry.Rectangle([Lx_min, Ly_min], [Lx_max, Ly_max])\n",
        "\n",
        "# Time domain: T = [0, 0.1]\n",
        "time_domain = dde.geometry.TimeDomain(0.0, 0.01)\n",
        "\n",
        "# Spatio-temporal domain\n",
        "geomtime = dde.geometry.GeometryXTime(space_domain, time_domain)\n",
        "\n",
        "# Define BCs and ICs\n",
        "bc = dde.icbc.DirichletBC(geomtime, func, lambda _, on_boundary: on_boundary)\n",
        "ic_1 = dde.icbc.IC(geomtime, func, lambda _, on_initial: on_initial)\n",
        "ic_2 = dde.icbc.OperatorBC(\n",
        "    geomtime,\n",
        "    lambda x, y, _: dde.grad.jacobian(y, x, i=0, j=2),\n",
        "    lambda x, _: dde.utils.isclose(x[2], 0),\n",
        ")\n",
        "\n",
        "# Training datasets and Loss\n",
        "data = dde.data.TimePDE(\n",
        "    geomtime,\n",
        "    pde,\n",
        "    [bc, ic_1, ic_2],\n",
        "    num_domain=360,\n",
        "    num_boundary=2000,\n",
        "    num_initial=2000,\n",
        "    num_test=10000,\n",
        ")\n",
        "\n",
        "# Neural network setup\n",
        "layer_size = [3] + [100] * 3 + [1]\n",
        "activation = \"tanh\"\n",
        "initializer = \"Glorot uniform\"\n",
        "net = dde.nn.STMsFFN(\n",
        "    layer_size, activation, initializer, sigmas_x=[1, 10], sigmas_t=[1, 10]\n",
        ")\n",
        "net.apply_feature_transform(lambda x: (x - 0.5) * 2 * np.sqrt(3))\n",
        "model = dde.Model(data, net)\n",
        "initial_losses = get_initial_loss(model)\n",
        "loss_weights = 5 / initial_losses\n",
        "model.compile(\n",
        "    \"adam\",\n",
        "    lr=0.001,\n",
        "    loss_weights=loss_weights,\n",
        "    decay=(\"inverse time\", 2000, 0.9),\n",
        ")\n",
        "path = \"./../output/forward_acoustic_wave/model\"\n",
        "os.makedirs(path, exist_ok=True)\n",
        "checkpoint_path = os.path.join(path, \"model.ckpt\")\n",
        "checker = dde.callbacks.ModelCheckpoint(\n",
        "      checkpoint_path, save_better_only=True, period=50\n",
        "  )\n",
        "pde_residual_resampler = dde.callbacks.PDEPointResampler(period=100)\n",
        "losshistory, train_state = model.train(\n",
        "    iterations=10000,  callbacks=[checker, pde_residual_resampler], display_every=500\n",
        ")\n",
        "\n",
        "dde.saveplot(losshistory, train_state, issave=True, isplot=True, output_dir=\"./../output/forward_acoustic_wave/\")\n"
      ]
    },
    {
      "cell_type": "markdown",
      "metadata": {
        "id": "WQNPqM0OiskM"
      },
      "source": [
        "# Prediction and Plotting\n",
        "\n",
        "- **Grid Definition:**  \n",
        "  - `x = np.linspace(0, 1, 101)` and `y = np.linspace(0, 1, 101)` create 101 points for spatial dimensions.\n",
        "  - `t = np.linspace(0, 0.01, 101)` creates 101 time points between 0 and 0.01.\n",
        "\n",
        "- **Meshgrid Creation:**  \n",
        "  - `xv, yv, tv = np.meshgrid(x, y, t)` generates 3D grids for x, y, and t.\n",
        "\n",
        "- **Flattening the Grids:**  \n",
        "  - `x_test`, `y_test`, and `t_test` are column vectors obtained by flattening `xv`, `yv`, and `tv`, respectively.\n",
        "\n",
        "- **Combining Coordinates:**  \n",
        "  - `ob_xyt = np.hstack((x_test, y_test, t_test))` stacks the flattened arrays into a single array of (x, y, t) points.\n",
        "\n",
        "- **Model Prediction and Reshaping:**  \n",
        "  - `pred = model.predict(ob_xyt)` computes the model's prediction on the test points.\n",
        "  - `pred2 = pred.reshape((101,101,101))` reshapes the predictions back into a 3D grid matching the original meshgrid dimensions.\n"
      ]
    },
    {
      "cell_type": "code",
      "execution_count": null,
      "metadata": {
        "id": "Y7dmrIT2many"
      },
      "outputs": [],
      "source": [
        "x = np.linspace(0, 1, 101)\n",
        "y = np.linspace(0, 1, 101)\n",
        "t = np.linspace(0, 0.01, 101)\n",
        "xv, yv, tv = np.meshgrid(x, y, t)\n",
        "\n",
        "x_test = xv.flatten()[:,None]\n",
        "y_test = yv.flatten()[:,None]\n",
        "t_test = tv.flatten()[:,None]\n",
        "\n",
        "ob_xyt = np.hstack((x_test, y_test, t_test))\n",
        "pred = model.predict(ob_xyt)\n",
        "pred2 = pred.reshape((101,101,101))"
      ]
    },
    {
      "cell_type": "code",
      "execution_count": null,
      "metadata": {
        "id": "Jqd2q9iBdFLK"
      },
      "outputs": [],
      "source": [
        "data = loadmat('../Dataset/acoustic_c3.mat')\n",
        "u_exact = data['u_log'].transpose(1, 0, 2)\n",
        "tspan = data['t'].T"
      ]
    },
    {
      "cell_type": "code",
      "execution_count": null,
      "metadata": {
        "colab": {
          "base_uri": "https://localhost:8080/",
          "height": 284
        },
        "id": "eNWs94WLtkiz",
        "outputId": "bc2763e5-d7be-4a55-c07f-a29c286b1ca7"
      },
      "outputs": [],
      "source": [
        "index = 100\n",
        "index_ext = 10\n",
        "levels = 100#np.linspace(-0.004,0.075,100)\n",
        "levels_res = 100\n",
        "fig,ax=plt.subplots(1,4, figsize = (24,5))\n",
        "cp0 = ax[0].contourf(xv[:,:,0].reshape((101,101)), yv[:,:,0].reshape((101,101)), u_exact[:,:,index_ext].reshape((101,101)), levels)\n",
        "cp1 = ax[1].contourf(xv[:,:,0].reshape((101,101)), yv[:,:,0].reshape((101,101)), pred2[:,:,index].reshape((101,101)), levels)\n",
        "cp2 = ax[2].contourf(xv[:,:,0].reshape((101,101)), yv[:,:,0].reshape((101,101)), np.abs((u_exact[:,:,index_ext].reshape((101,101)) - pred2[:,:,index].reshape((101,101)))), levels_res, cmap=cm.Reds)\n",
        "cp3 = ax[3].contourf(xv[10:90,10:90,0].reshape((80,80)), yv[10:90,10:90,0].reshape((80,80)), np.abs((u_exact[10:90,10:90,index_ext].reshape((80,80)) - pred2[10:90,10:90,index].reshape((80,80)))/u_exact[10:90,10:90,index_ext].reshape((80,80))), 1000, cmap=cm.Reds)\n",
        "\n",
        "fig.colorbar(cp3, ax=ax[3])\n",
        "fig.colorbar(cp2, ax=ax[2])\n",
        "fig.colorbar(cp1, ax=ax[1])\n",
        "fig.colorbar(cp0, ax=ax[0])\n",
        "\n",
        "ax[0].set_xlabel('x')\n",
        "ax[0].set_ylabel('y')\n",
        "ax[1].set_xlabel('x')\n",
        "ax[1].set_ylabel('y')\n",
        "ax[2].set_xlabel('x')\n",
        "ax[2].set_ylabel('y')\n",
        "ax[3].set_xlabel('x')\n",
        "ax[3].set_ylabel('y')\n",
        "\n",
        "ax[0].set_title('Exact')\n",
        "ax[1].set_title('Prediction')\n",
        "ax[2].set_title('Residual')\n",
        "ax[3].set_title('Relative Error')\n",
        "fig.suptitle(r'Prediction at t = 0.01', fontsize=16)"
      ]
    }
  ],
  "metadata": {
    "accelerator": "GPU",
    "colab": {
      "gpuType": "T4",
      "provenance": []
    },
    "kernelspec": {
      "display_name": "new_env",
      "language": "python",
      "name": "python3"
    },
    "language_info": {
      "codemirror_mode": {
        "name": "ipython",
        "version": 3
      },
      "file_extension": ".py",
      "mimetype": "text/x-python",
      "name": "python",
      "nbconvert_exporter": "python",
      "pygments_lexer": "ipython3",
      "version": "3.10.8"
    }
  },
  "nbformat": 4,
  "nbformat_minor": 0
}
