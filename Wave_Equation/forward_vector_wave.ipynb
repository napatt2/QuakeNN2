{
 "cells": [
  {
   "cell_type": "code",
   "execution_count": null,
   "metadata": {
    "colab": {
     "base_uri": "https://localhost:8080/"
    },
    "id": "SFlNX1_dus5c",
    "outputId": "a1b4e234-633d-4ed2-da97-b5c40d8528f6"
   },
   "outputs": [],
   "source": [
    "import deepxde as dde\n",
    "import numpy as np\n",
    "import matplotlib.pyplot as plt\n",
    "from matplotlib import cm\n",
    "from scipy.io import loadmat\n",
    "import os"
   ]
  },
  {
   "cell_type": "markdown",
   "metadata": {
    "id": "bh3_2_D6vLnq"
   },
   "source": [
    "# Formulation of the Problem\n",
    "Our goal is to predict the solution of vecotor wave equation. The formulation can be written as follows:\n",
    "\n",
    "\\begin{align}\n",
    "\\frac{\\partial\\dot{u}}{\\partial t} = \\frac{\\lambda}{\\rho} \\left( \\frac{\\partial\\bar{\\tau}_{xx}}{\\partial x} + \\frac{\\partial\\bar{\\tau}_{xy}}{\\partial y} \\right)\\\\\n",
    "\\frac{\\partial\\dot{w}}{\\partial t} = \\frac{\\lambda}{\\rho} \\left( \\frac{\\partial\\bar{\\tau}_{xy}}{\\partial x} + \\frac{\\partial\\bar{\\tau}_{yy}}{\\partial y} \\right)\\\\\n",
    "\\frac{\\partial\\bar{\\tau}_{xx}}{\\partial t} = \\frac{\\lambda + 2\\mu}{\\lambda} \\left( \\frac{\\partial\\dot{u}}{\\partial x} + \\frac{\\partial\\dot{w}}{\\partial y} \\right)\\\\\n",
    "\\frac{\\partial\\bar{\\tau}_{xy}}{\\partial t} = \\frac{\\mu}{\\lambda} \\left( \\frac{\\partial\\dot{u}}{\\partial y} + \\frac{\\partial\\dot{w}}{\\partial x} \\right)\\\\\n",
    "\\frac{\\partial\\bar{\\tau}_{yy}}{\\partial t} = \\frac{\\lambda + 2\\mu}{\\lambda} \\left( \\frac{\\partial\\dot{w}}{\\partial y} + \\frac{\\partial\\dot{u}}{\\partial x}\\right),\n",
    "    \\end{align}\n",
    "\n",
    "where initial conditions are $\\dot{u}(0) = \\exp(-20(0.5-x)^2 - 20(0.5-y)^2)$, $\\dot{w}(0) = 0$, $\\tau_{xx}(0) = 0$, $\\tau_{xy}(0) = 0$, $\\tau_{yy}(0) = 0$. The parameters $\\lambda=50, \\mu=30,$ and $\\rho=2.7$ are chosen to represent the material properties of rocks."
   ]
  },
  {
   "cell_type": "code",
   "execution_count": null,
   "metadata": {
    "id": "7Glia95uzYd6"
   },
   "outputs": [],
   "source": [
    "lamb = 50\n",
    "mu = 30\n",
    "rho = 2.7"
   ]
  },
  {
   "cell_type": "code",
   "execution_count": null,
   "metadata": {
    "id": "ZPj1qKAlzaVB"
   },
   "outputs": [],
   "source": [
    "def pde(x, y):\n",
    "    \"\"\"\n",
    "    Define a system of PDEs to be used as the loss function in a PINN.\n",
    "    \n",
    "    Inputs:\n",
    "      x: A tensor of independent variables representing (x, y, t).\n",
    "      y: The network output tensor containing the fields:\n",
    "         - u: displacement in the x-direction,\n",
    "         - w: displacement in the y-direction,\n",
    "         - tauxx: stress component in the xx-direction,\n",
    "         - tauxy: stress component in the xy-direction,\n",
    "         - tauyy: stress component in the yy-direction.\n",
    "    \n",
    "    Returns:\n",
    "      A list of five residual equations that constitute the PDE system.\n",
    "      These equations are intended to vanish (i.e., be equal to zero) when the network\n",
    "      accurately represents the solution of the physical system.\n",
    "    \"\"\"\n",
    "\n",
    "    du_x = dde.grad.jacobian(y, x, i=0, j=0)\n",
    "    du_y = dde.grad.jacobian(y, x, i=0, j=1)\n",
    "    du_t = dde.grad.jacobian(y, x, i=0, j=2)\n",
    "    dw_x = dde.grad.jacobian(y, x, i=1, j=0)\n",
    "    dw_y = dde.grad.jacobian(y, x, i=1, j=1)\n",
    "    dw_t = dde.grad.jacobian(y, x, i=1, j=2)\n",
    "\n",
    "    dtauxx_x = dde.grad.jacobian(y, x, i=2, j=0)\n",
    "    dtauxx_y = dde.grad.jacobian(y, x, i=2, j=1)\n",
    "    dtauxx_t = dde.grad.jacobian(y, x, i=2, j=2)\n",
    "    dtauxy_x = dde.grad.jacobian(y, x, i=3, j=0)\n",
    "    dtauxy_y = dde.grad.jacobian(y, x, i=3, j=1)\n",
    "    dtauxy_t = dde.grad.jacobian(y, x, i=3, j=2)\n",
    "    dtauyy_x = dde.grad.jacobian(y, x, i=4, j=0)\n",
    "    dtauyy_y = dde.grad.jacobian(y, x, i=4, j=1)\n",
    "    dtauyy_t = dde.grad.jacobian(y, x, i=4, j=2)\n",
    "\n",
    "    return [- du_t + lamb/rho * (dtauxx_x + dtauxy_y),\n",
    "            - dw_t + lamb/rho * (dtauxy_x + dtauyy_y),\n",
    "            - dtauxx_t + (lamb + 2*mu)/lamb * du_x + dw_y,\n",
    "            - dtauxy_t + mu/lamb * (du_y + dw_x),\n",
    "            - dtauyy_t + (lamb + 2*mu)/lamb * dw_y + du_x]"
   ]
  },
  {
   "cell_type": "code",
   "execution_count": null,
   "metadata": {
    "id": "kPM0tVQEzc9Y"
   },
   "outputs": [],
   "source": [
    "def func(x):\n",
    "    x, y, t = np.split(x, 3, axis=1)\n",
    "    return np.exp(-20*(1/2-x)**2-20*(1/2-y)**2)  #Define initial condition of u\n",
    "\n",
    "def func_ic(x):\n",
    "    return 0 #Define initial condition of w, tauxx, tauxy, tauyy\n",
    "\n",
    "def boundary_rx(x, on_boundary):\n",
    "    return on_boundary and np.isclose(x[0], 1) # Define position of right boundary\n",
    "\n",
    "def boundary_lx(x, on_boundary):\n",
    "    return on_boundary and np.isclose(x[0], 0) # Define position of left boundary\n",
    "\n",
    "def boundary_ry(x, on_boundary):\n",
    "    return on_boundary and np.isclose(x[1], 1) # Define position of top boundary\n",
    "\n",
    "def boundary_ly(x, on_boundary):\n",
    "    return on_boundary and np.isclose(x[1], 0) # Define position of bottom boundary"
   ]
  },
  {
   "cell_type": "code",
   "execution_count": null,
   "metadata": {
    "id": "GtiS0R_Y13xh"
   },
   "outputs": [],
   "source": [
    "def get_initial_loss(model):\n",
    "    # get loss of the first iteration to weight the loss function\n",
    "    model.compile(\"adam\", lr=0.001)\n",
    "    losshistory, train_state = model.train(0)\n",
    "    return losshistory.loss_train[0]"
   ]
  },
  {
   "cell_type": "code",
   "execution_count": null,
   "metadata": {
    "id": "HmN3Xk092VpX"
   },
   "outputs": [],
   "source": [
    "# Spatial domain: X × Y = [0, 1] × [0, 1]\n",
    "Lx_min, Lx_max = 0.0, 1.0\n",
    "Ly_min, Ly_max = 0.0, 1.0\n",
    "space_domain = dde.geometry.Rectangle([Lx_min, Ly_min], [Lx_max, Ly_max])\n",
    "\n",
    "# Time domain: T = [0, 0.001]\n",
    "time_domain = dde.geometry.TimeDomain(0.0, 0.001)\n",
    "\n",
    "# Spatio-temporal domain\n",
    "geomtime = dde.geometry.GeometryXTime(space_domain, time_domain)\n",
    "\n",
    "# Define Dirichlet boundary conditions\n",
    "bc1 = dde.PeriodicBC(geomtime, 0, boundary_rx, derivative_order=0, component=0)\n",
    "bc2 = dde.PeriodicBC(geomtime, 0, boundary_lx, derivative_order=0, component=0)\n",
    "bc3 = dde.PeriodicBC(geomtime, 1, boundary_ry, derivative_order=0, component=0)\n",
    "bc4 = dde.PeriodicBC(geomtime, 1, boundary_ly, derivative_order=0, component=0)\n",
    "bc5 = dde.PeriodicBC(geomtime, 0, boundary_rx, derivative_order=0, component=1)\n",
    "bc6 = dde.PeriodicBC(geomtime, 0, boundary_lx, derivative_order=0, component=1)\n",
    "bc7 = dde.PeriodicBC(geomtime, 1, boundary_ry, derivative_order=0, component=1)\n",
    "bc8 = dde.PeriodicBC(geomtime, 1, boundary_ly, derivative_order=0, component=1)\n",
    "bc9 = dde.PeriodicBC(geomtime, 0, boundary_rx, derivative_order=0, component=2)\n",
    "bc10 = dde.PeriodicBC(geomtime, 0, boundary_lx, derivative_order=0, component=2)\n",
    "bc11 = dde.PeriodicBC(geomtime, 1, boundary_ry, derivative_order=0, component=2)\n",
    "bc12 = dde.PeriodicBC(geomtime, 1, boundary_ly, derivative_order=0, component=2)\n",
    "bc13 = dde.PeriodicBC(geomtime, 0, boundary_rx, derivative_order=0, component=3)\n",
    "bc14 = dde.PeriodicBC(geomtime, 0, boundary_lx, derivative_order=0, component=3)\n",
    "bc15 = dde.PeriodicBC(geomtime, 1, boundary_ry, derivative_order=0, component=3)\n",
    "bc16 = dde.PeriodicBC(geomtime, 1, boundary_ly, derivative_order=0, component=3)\n",
    "bc17 = dde.PeriodicBC(geomtime, 0, boundary_rx, derivative_order=0, component=4)\n",
    "bc18 = dde.PeriodicBC(geomtime, 0, boundary_lx, derivative_order=0, component=4)\n",
    "bc19 = dde.PeriodicBC(geomtime, 1, boundary_ry, derivative_order=0, component=4)\n",
    "bc20 = dde.PeriodicBC(geomtime, 1, boundary_ly, derivative_order=0, component=4)\n",
    "\n",
    "# Define initial conditions\n",
    "ic_1 = dde.icbc.IC(geomtime, func, lambda _, on_initial: on_initial, component=0)\n",
    "ic_2 = dde.icbc.IC(geomtime, func_ic, lambda _, on_initial: on_initial, component=1)\n",
    "ic_3 = dde.icbc.IC(geomtime, func_ic, lambda _, on_initial: on_initial, component=2)\n",
    "ic_4 = dde.icbc.IC(geomtime, func_ic, lambda _, on_initial: on_initial, component=3)\n",
    "ic_5 = dde.icbc.IC(geomtime, func_ic, lambda _, on_initial: on_initial, component=4)"
   ]
  },
  {
   "cell_type": "markdown",
   "metadata": {
    "id": "EPDodRUc-Wfc"
   },
   "source": [
    "# Compile and Train Model\n",
    "We train the model using spatio-temporal multi-scale fourier feature networks (`dde.nn.STMsFFN`)\n",
    " ([Wang et al., 2021](https://www.sciencedirect.com/science/article/pii/S0045782521002759?via%3Dihub)). The model uses 360 collocation points in the domain, 360 points at the boundary, 400 points for initial conditions, and 10000 test pooints. We use `pde_residual_resampler` which resample the residual points for every iteration."
   ]
  },
  {
   "cell_type": "code",
   "execution_count": null,
   "metadata": {
    "colab": {
     "base_uri": "https://localhost:8080/",
     "height": 1000
    },
    "id": "8vkSccrc-FXW",
    "outputId": "b7d3ba3e-7f24-47bc-c544-7fad610d47d5"
   },
   "outputs": [],
   "source": [
    "data = dde.data.TimePDE(\n",
    "    geomtime,\n",
    "    pde,\n",
    "    [bc1, bc2, bc3, bc4, bc5, bc6, bc7, bc8, bc9, bc10, bc11, bc12, bc13, bc14, bc15, bc16, bc17, bc18, bc19, bc20, ic_1, ic_2, ic_3, ic_4, ic_5],\n",
    "    num_domain=360,\n",
    "    num_boundary=360,\n",
    "    num_initial=400,\n",
    "    num_test=10000,\n",
    ")\n",
    "\n",
    "layer_size = [3] + [100] * 3 + [5]\n",
    "activation = \"tanh\"\n",
    "initializer = \"Glorot uniform\"\n",
    "net = dde.nn.STMsFFN(\n",
    "    layer_size, activation, initializer, sigmas_x=[1, 10], sigmas_t=[1, 10]\n",
    ")\n",
    "net.apply_feature_transform(lambda x: (x - 0.5) * 2 * np.sqrt(3))\n",
    "\n",
    "model = dde.Model(data, net)\n",
    "initial_losses = get_initial_loss(model)\n",
    "loss_weights = 5 / initial_losses\n",
    "\n",
    "model.compile(\n",
    "    \"adam\",\n",
    "    lr=0.001,\n",
    "    loss_weights=loss_weights,\n",
    "    decay=(\"inverse time\", 2000, 0.9),\n",
    ")\n",
    "\n",
    "path = \"./../output/forward_vector_wave/model\"\n",
    "os.makedirs(path, exist_ok=True)\n",
    "checkpoint_path = os.path.join(path, \"model.ckpt\")\n",
    "checker = dde.callbacks.ModelCheckpoint(\n",
    "      checkpoint_path, save_better_only=True, period=50\n",
    "  )\n",
    "\n",
    "pde_residual_resampler = dde.callbacks.PDEPointResampler(period=1)\n",
    "\n",
    "losshistory, train_state = model.train(\n",
    "    iterations=10000, callbacks=[pde_residual_resampler, checker], display_every=500\n",
    ")\n"
   ]
  },
  {
   "cell_type": "markdown",
   "metadata": {
    "id": "2P58Cr2bHs5E"
   },
   "source": [
    "# Import Dataset\n",
    "We solved vector wave equation numerically using finite difference method. We compare the predictions to the data."
   ]
  },
  {
   "cell_type": "code",
   "execution_count": null,
   "metadata": {
    "id": "fl8oEz1_zhUC"
   },
   "outputs": [],
   "source": [
    "data = loadmat('./../Dataset/vector_wave.mat')\n",
    "u = data['u_log'].transpose(1, 0, 2)\n",
    "w = data['w_log'].transpose(1, 0, 2)\n",
    "tauxx = data['tauxx_log'].transpose(1, 0, 2)\n",
    "tauxy = data['tauxy_log'].transpose(1, 0, 2)\n",
    "tauyy = data['tauyy_log'].transpose(1, 0, 2)\n",
    "tspan = data['time_log']"
   ]
  },
  {
   "cell_type": "markdown",
   "metadata": {
    "id": "Z3jH5BRpIV4q"
   },
   "source": [
    "# Prediction\n",
    "We predict the solutions of $\\dot{u}, \\dot{w}, \\tau_{xx}, \\tau_{xy},$ and $\\tau_{yy}$ using 101x101 spatial points and 11 time steps from time 0 to 0.001."
   ]
  },
  {
   "cell_type": "code",
   "execution_count": null,
   "metadata": {
    "id": "BM0nPNinBUG_"
   },
   "outputs": [],
   "source": [
    "# Define the prediction domain\n",
    "x = np.linspace(0, 1, 101)\n",
    "y = np.linspace(0, 1, 101)\n",
    "t = np.linspace(0, 0.001, 11)\n",
    "xv, yv, tv = np.meshgrid(x, y, t)\n",
    "\n",
    "x_test = xv.flatten()[:,None]\n",
    "y_test = yv.flatten()[:,None]\n",
    "t_test = tv.flatten()[:,None]\n",
    "ob_xyt = np.hstack((x_test, y_test, t_test))\n",
    "\n",
    "# Predict the solutions\n",
    "pred = model.predict(ob_xyt)\n",
    "u_pred = pred[:,0].reshape((101,101,11))\n",
    "w_pred = pred[:,1].reshape((101,101,11))\n",
    "tauxx_pred = pred[:,2].reshape((101,101,11))\n",
    "tauxy_pred = pred[:,3].reshape((101,101,11))\n",
    "tauyy_pred = pred[:,4].reshape((101,101,11))"
   ]
  },
  {
   "cell_type": "markdown",
   "metadata": {
    "id": "SsnCW5E5I-a6"
   },
   "source": [
    "# Plotting"
   ]
  },
  {
   "cell_type": "code",
   "execution_count": null,
   "metadata": {
    "colab": {
     "base_uri": "https://localhost:8080/",
     "height": 318
    },
    "id": "eNWs94WLtkiz",
    "outputId": "25cac1b7-a7ca-4343-c499-c2e16a2873d6"
   },
   "outputs": [],
   "source": [
    "index = 10\n",
    "levels = np.linspace(-0.005,1,100)\n",
    "levels_res = 100\n",
    "fig,ax=plt.subplots(1,4, figsize = (24,5))\n",
    "cp0 = ax[0].contourf(xv[:,:,0].reshape((101,101)), yv[:,:,0].reshape((101,101)), u[:,:,index].reshape((101,101)), levels)\n",
    "cp1 = ax[1].contourf(xv[:,:,0].reshape((101,101)), yv[:,:,0].reshape((101,101)), u_pred[:,:,index].reshape((101,101)), levels)\n",
    "cp2 = ax[2].contourf(xv[:,:,0].reshape((101,101)), yv[:,:,0].reshape((101,101)), np.abs((u[:,:,index].reshape((101,101)) - u_pred[:,:,index].reshape((101,101)))), levels_res, cmap=cm.Reds)\n",
    "cp3 = ax[3].contourf(xv[20:80,20:80,0].reshape((60,60)), yv[20:80,20:80,0].reshape((60,60)), np.abs((u[20:80,20:80,index] - u_pred[20:80,20:80,index].reshape((60,60)))/u[20:80,20:80, index]), 1000, cmap=cm.Reds)\n",
    "\n",
    "fig.colorbar(cp3, ax=ax[3])\n",
    "fig.colorbar(cp2, ax=ax[2])\n",
    "fig.colorbar(cp1, ax=ax[1])\n",
    "fig.colorbar(cp0, ax=ax[0])\n",
    "\n",
    "ax[0].set_xlabel('x')\n",
    "ax[0].set_ylabel('y')\n",
    "ax[1].set_xlabel('x')\n",
    "ax[1].set_ylabel('y')\n",
    "ax[2].set_xlabel('x')\n",
    "ax[2].set_ylabel('y')\n",
    "ax[3].set_xlabel('x')\n",
    "ax[3].set_ylabel('y')\n",
    "\n",
    "ax[0].set_title('Exact')\n",
    "ax[1].set_title('Prediction')\n",
    "ax[2].set_title('Residual')\n",
    "ax[3].set_title('Relative Error')\n",
    "fig.suptitle(r'Prediction of u at t = 0.001', fontsize=16)\n",
    "fig.savefig('./../output/forward_vector_wave/pred_u.png')"
   ]
  },
  {
   "cell_type": "code",
   "execution_count": null,
   "metadata": {
    "colab": {
     "base_uri": "https://localhost:8080/",
     "height": 377
    },
    "id": "jJPudo2jFmw5",
    "outputId": "5c668db0-35fd-4f7f-d713-27efdfdf7efd"
   },
   "outputs": [],
   "source": [
    "index = 10\n",
    "levels = np.linspace(-0.0018,0.0018,100)\n",
    "levels_res = 100\n",
    "fig,ax=plt.subplots(1,4, figsize = (24,5))\n",
    "cp0 = ax[0].contourf(xv[:,:,0].reshape((101,101)), yv[:,:,0].reshape((101,101)), w[:,:,index].reshape((101,101)), levels)\n",
    "cp1 = ax[1].contourf(xv[:,:,0].reshape((101,101)), yv[:,:,0].reshape((101,101)), w_pred[:,:,index].reshape((101,101)), levels)\n",
    "cp2 = ax[2].contourf(xv[:,:,0].reshape((101,101)), yv[:,:,0].reshape((101,101)), np.abs((w[:,:,index].reshape((101,101)) - w_pred[:,:,index].reshape((101,101)))), levels_res, cmap=cm.Reds)\n",
    "cp3 = ax[3].contourf(xv[20:80,20:80,0].reshape((60,60)), yv[20:80,20:80,0].reshape((60,60)), np.abs((w[20:80,20:80,index] - w_pred[20:80,20:80,index].reshape((60,60)))/w[20:80,20:80, index]), 1000, cmap=cm.Reds)\n",
    "\n",
    "fig.colorbar(cp3, ax=ax[3])\n",
    "fig.colorbar(cp2, ax=ax[2])\n",
    "fig.colorbar(cp1, ax=ax[1])\n",
    "fig.colorbar(cp0, ax=ax[0])\n",
    "\n",
    "ax[0].set_xlabel('x')\n",
    "ax[0].set_ylabel('y')\n",
    "ax[1].set_xlabel('x')\n",
    "ax[1].set_ylabel('y')\n",
    "ax[2].set_xlabel('x')\n",
    "ax[2].set_ylabel('y')\n",
    "ax[3].set_xlabel('x')\n",
    "ax[3].set_ylabel('y')\n",
    "\n",
    "ax[0].set_title('Exact')\n",
    "ax[1].set_title('Prediction')\n",
    "ax[2].set_title('Residual')\n",
    "ax[3].set_title('Relative Error')\n",
    "fig.suptitle(r'Prediction of w at t = 0.001', fontsize=16)\n",
    "fig.savefig('./../output/forward_vector_wave/pred_w.png')"
   ]
  },
  {
   "cell_type": "code",
   "execution_count": null,
   "metadata": {
    "colab": {
     "base_uri": "https://localhost:8080/",
     "height": 375
    },
    "id": "bgM0GI3rF5qS",
    "outputId": "6c3d1c99-8130-493d-92b7-cc9e97d4690c"
   },
   "outputs": [],
   "source": [
    "index = 10\n",
    "levels = np.linspace(-0.01,0.01,100)\n",
    "levels_res = 100\n",
    "fig,ax=plt.subplots(1,4, figsize = (24,5))\n",
    "cp0 = ax[0].contourf(xv[:,:,0].reshape((101,101)), yv[:,:,0].reshape((101,101)), tauxx[:,:,index].reshape((101,101)), levels)\n",
    "cp1 = ax[1].contourf(xv[:,:,0].reshape((101,101)), yv[:,:,0].reshape((101,101)), tauxx_pred[:,:,index].reshape((101,101)), levels)\n",
    "cp2 = ax[2].contourf(xv[:,:,0].reshape((101,101)), yv[:,:,0].reshape((101,101)), np.abs((tauxx[:,:,index].reshape((101,101)) - tauxx_pred[:,:,index].reshape((101,101)))), levels_res, cmap=cm.Reds)\n",
    "cp3 = ax[3].contourf(xv[20:80,20:80,0].reshape((60,60)), yv[20:80,20:80,0].reshape((60,60)), np.abs((tauxx[20:80,20:80,index] - tauxx_pred[20:80,20:80,index].reshape((60,60)))/tauxx[20:80,20:80, index]), 1000, cmap=cm.Reds)\n",
    "\n",
    "fig.colorbar(cp3, ax=ax[3])\n",
    "fig.colorbar(cp2, ax=ax[2])\n",
    "fig.colorbar(cp1, ax=ax[1])\n",
    "fig.colorbar(cp0, ax=ax[0])\n",
    "\n",
    "ax[0].set_xlabel('x')\n",
    "ax[0].set_ylabel('y')\n",
    "ax[1].set_xlabel('x')\n",
    "ax[1].set_ylabel('y')\n",
    "ax[2].set_xlabel('x')\n",
    "ax[2].set_ylabel('y')\n",
    "ax[3].set_xlabel('x')\n",
    "ax[3].set_ylabel('y')\n",
    "\n",
    "ax[0].set_title('Exact')\n",
    "ax[1].set_title('Prediction')\n",
    "ax[2].set_title('Residual')\n",
    "ax[3].set_title('Relative Error')\n",
    "fig.suptitle(r'Prediction of $\\tau_{xx}$ at t = 0.001', fontsize=16)\n",
    "fig.savefig('./../output/forward_vector_wave/pred_tauxx.png')"
   ]
  },
  {
   "cell_type": "code",
   "execution_count": null,
   "metadata": {
    "colab": {
     "base_uri": "https://localhost:8080/",
     "height": 375
    },
    "id": "bXh8p8gzGvvj",
    "outputId": "eb3eed36-e45c-4620-fec0-9d285d729f19"
   },
   "outputs": [],
   "source": [
    "index = 10\n",
    "levels = np.linspace(-0.005,0.004,100)\n",
    "levels_res = 100\n",
    "fig,ax=plt.subplots(1,4, figsize = (24,5))\n",
    "cp0 = ax[0].contourf(xv[:,:,0].reshape((101,101)), yv[:,:,0].reshape((101,101)), tauyy[:,:,index].reshape((101,101)), levels)\n",
    "cp1 = ax[1].contourf(xv[:,:,0].reshape((101,101)), yv[:,:,0].reshape((101,101)), tauyy_pred[:,:,index].reshape((101,101)), levels)\n",
    "cp2 = ax[2].contourf(xv[:,:,0].reshape((101,101)), yv[:,:,0].reshape((101,101)), np.abs((tauyy[:,:,index].reshape((101,101)) - tauyy_pred[:,:,index].reshape((101,101)))), levels_res, cmap=cm.Reds)\n",
    "cp3 = ax[3].contourf(xv[20:80,20:80,0].reshape((60,60)), yv[20:80,20:80,0].reshape((60,60)), np.abs((tauyy[20:80,20:80,index] - tauyy_pred[20:80,20:80,index].reshape((60,60)))/tauxy[20:80,20:80, index]), 1000, cmap=cm.Reds)\n",
    "\n",
    "fig.colorbar(cp3, ax=ax[3])\n",
    "fig.colorbar(cp2, ax=ax[2])\n",
    "fig.colorbar(cp1, ax=ax[1])\n",
    "fig.colorbar(cp0, ax=ax[0])\n",
    "\n",
    "ax[0].set_xlabel('x')\n",
    "ax[0].set_ylabel('y')\n",
    "ax[1].set_xlabel('x')\n",
    "ax[1].set_ylabel('y')\n",
    "ax[2].set_xlabel('x')\n",
    "ax[2].set_ylabel('y')\n",
    "ax[3].set_xlabel('x')\n",
    "ax[3].set_ylabel('y')\n",
    "\n",
    "ax[0].set_title('Exact')\n",
    "ax[1].set_title('Prediction')\n",
    "ax[2].set_title('Residual')\n",
    "ax[3].set_title('Relative Error')\n",
    "fig.suptitle(r'Prediction of $\\tau_{yy}$ at t = 0.001', fontsize=16)\n",
    "fig.savefig('./../output/forward_vector_wave/pred_tauyy.png')"
   ]
  }
 ],
 "metadata": {
  "accelerator": "GPU",
  "colab": {
   "gpuType": "T4",
   "include_colab_link": true,
   "provenance": []
  },
  "kernelspec": {
   "display_name": "Python 3 (ipykernel)",
   "language": "python",
   "name": "python3"
  },
  "language_info": {
   "codemirror_mode": {
    "name": "ipython",
    "version": 3
   },
   "file_extension": ".py",
   "mimetype": "text/x-python",
   "name": "python",
   "nbconvert_exporter": "python",
   "pygments_lexer": "ipython3",
   "version": "3.10.8"
  }
 },
 "nbformat": 4,
 "nbformat_minor": 1
}
