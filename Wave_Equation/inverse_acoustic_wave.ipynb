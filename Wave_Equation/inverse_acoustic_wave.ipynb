{
 "cells": [
  {
   "cell_type": "code",
   "execution_count": null,
   "metadata": {
    "colab": {
     "base_uri": "https://localhost:8080/"
    },
    "id": "A3Zm7T82YusD",
    "outputId": "525bc03c-c335-4460-8674-001ab1d65187"
   },
   "outputs": [],
   "source": [
    "import deepxde as dde\n",
    "import numpy as np\n",
    "import matplotlib.pyplot as plt\n",
    "from scipy.io import loadmat\n",
    "import os"
   ]
  },
  {
   "cell_type": "markdown",
   "metadata": {
    "id": "Eq41hCmYNAhu"
   },
   "source": [
    "# Formulation of the Problem\n",
    "Our goal is to estimate parameter $c$ of the acoustic wave equation, given the dataset of $u$. The formulation can be written as follows:\n",
    "\n",
    "\\begin{align}\n",
    "\\frac{\\partial^2 u}{\\partial t^2} = c^2 \\left( \\frac{\\partial^2 u}{\\partial x^2} + \\frac{\\partial^2 u}{\\partial y^2} \\right)\n",
    "    \\end{align}\n",
    "\n",
    "The true value of $c$ is $\\sqrt{30/2.7} = 3.33$."
   ]
  },
  {
   "cell_type": "code",
   "execution_count": null,
   "metadata": {
    "id": "yfPi1g--uu8o"
   },
   "outputs": [],
   "source": [
    "data = loadmat('./../Dataset/acoustic_c3.mat')\n",
    "u_exact = data['u_log'].transpose(1, 0, 2)\n",
    "tspan = data['t'].T"
   ]
  },
  {
   "cell_type": "code",
   "execution_count": null,
   "metadata": {
    "id": "IYSNNDJOaw0I"
   },
   "outputs": [],
   "source": [
    "# Define spatial and temporal domain for the exact solution\n",
    "x = np.linspace(0, 1, 101)\n",
    "y = np.linspace(0, 1, 101)\n",
    "t = np.linspace(0, 0.1, 101)\n",
    "x_temp, y_temp, t_temp = np.meshgrid(x, y, t)"
   ]
  },
  {
   "cell_type": "code",
   "execution_count": null,
   "metadata": {
    "id": "pjbaF4CMa8zQ"
   },
   "outputs": [],
   "source": [
    "# Randomly select 1000 data points in the the datasat\n",
    "idx = np.random.choice(x_temp.flatten()[:,None].shape[0], 1000, replace=False)\n",
    "ob_x = x_temp.flatten()[:,None][idx,:]\n",
    "ob_y = y_temp.flatten()[:,None][idx,:]\n",
    "ob_t = t_temp.flatten()[:,None][idx,:]\n",
    "ob_u = u_exact.flatten()[:,None][idx,:]"
   ]
  },
  {
   "cell_type": "markdown",
   "metadata": {
    "id": "aw654kCYSLZO"
   },
   "source": [
    "# Define Wave Equation"
   ]
  },
  {
   "cell_type": "code",
   "execution_count": null,
   "metadata": {
    "id": "RVWycob6xA25"
   },
   "outputs": [],
   "source": [
    "def Wave_Equation(x, y):\n",
    "    dy_xx = dde.grad.hessian(y, x, i=0, j=0)\n",
    "    dy_yy = dde.grad.hessian(y, x, i=1, j=1)\n",
    "    dy_tt = dde.grad.hessian(y, x, i=2, j=2)\n",
    "    return dy_tt - C1**2 * (dy_xx + dy_yy)\n",
    "\n",
    "def get_initial_loss(model):\n",
    "    model.compile(\"adam\", lr=0.001)\n",
    "    losshistory, train_state = model.train(0)\n",
    "    return losshistory.loss_train[0]"
   ]
  },
  {
   "cell_type": "markdown",
   "metadata": {
    "id": "_I2WYeyUSb8F"
   },
   "source": [
    "# Setup and Train Model\n",
    "\n",
    "- **True Value & Parameter:**\n",
    "  - `C1true = np.sqrt(30/2.7)` sets the true value of the parameter.\n",
    "  - `C1 = dde.Variable(2.0)` initializes the parameter to be identified.\n",
    "\n",
    "- **Domain Setup:**\n",
    "  - **Spatial Domain:** `[0, 1] × [0, 1]` defined via `dde.geometry.Rectangle`.\n",
    "  - **Time Domain:** `[0, 0.1]` defined via `dde.geometry.TimeDomain`.\n",
    "  - **Spatio-Temporal Domain:** Combined with `dde.geometry.GeometryXTime`.\n",
    "\n",
    "- **Training Data:**\n",
    "  - `ob_xyt` is created by horizontally stacking `ob_x`, `ob_y`, and `ob_t`.\n",
    "  - `observe_u` is generated as a point-set boundary condition using `ob_xyt` and `ob_u` (component 0).\n",
    "  - PDE data is prepared using `dde.data.TimePDE` with the `Wave_Equation` and specified numbers of domain, boundary, initial, and anchor points.\n",
    "\n",
    "- **Neural Network Setup:**\n",
    "  - **Architecture:** `layer_size = [3] + [100] * 3 + [1]` (3 inputs, three hidden layers of 100 neurons each, 1 output).\n",
    "  - **Activation & Initializer:** `\"tanh\"` and `\"Glorot uniform\"`.\n",
    "  - **Network Construction:** Built with `dde.nn.STMsFFN` (with specified `sigmas_x` and `sigmas_t`) and a feature transform.\n",
    "\n",
    "- **Model Configuration:**\n",
    "  - The model is assembled using `dde.Model(data, net)`.\n",
    "  - A checkpoint callback saves the model every 50 iterations.\n",
    "  - A variable callback logs the value of `C1` every 100 iterations to a file.\n",
    "  - Loss weights are determined by computing `initial_losses` and setting `loss_weights = 5 / initial_losses`.\n",
    "\n",
    "- **Compilation & Training:**\n",
    "  - Compiled with the Adam optimizer at `lr=0.001`, including `C1` as an external trainable variable, and using an inverse time decay schedule.\n",
    "  - Training is performed for 1,000,000 iterations with callbacks for checkpointing, PDE residual resampling (every 100 iterations), and variable logging.\n",
    "\n",
    "- **Post-Training:**\n",
    "  - Training history and state are saved and plotted using `dde.saveplot` in the specified output directory."
   ]
  },
  {
   "cell_type": "code",
   "execution_count": null,
   "metadata": {
    "colab": {
     "base_uri": "https://localhost:8080/",
     "height": 1000
    },
    "id": "CpZ1w3I1YsHF",
    "outputId": "0a8a1dfc-1751-48a8-9b30-e78ea6fd5164"
   },
   "outputs": [],
   "source": [
    "# true value\n",
    "C1true = np.sqrt(30/2.7)\n",
    "\n",
    "# Parameters to be identified\n",
    "C1 = dde.Variable(2.0)\n",
    "\n",
    "# Spatial domain: X × Y = [0, 1] × [0, 1]\n",
    "Lx_min, Lx_max = 0.0, 1.0\n",
    "Ly_min, Ly_max = 0.0, 1.0\n",
    "space_domain = dde.geometry.Rectangle([Lx_min, Ly_min], [Lx_max, Ly_max])\n",
    "\n",
    "# Time domain: T = [0, 0.1]\n",
    "time_domain = dde.geometry.TimeDomain(0.0, 0.1)\n",
    "\n",
    "# Spatio-temporal domain\n",
    "geomtime = dde.geometry.GeometryXTime(space_domain, time_domain)\n",
    "\n",
    "# Get the training data: num = 7000\n",
    "ob_xyt = np.hstack((ob_x, ob_y, ob_t))\n",
    "observe_u = dde.icbc.PointSetBC(ob_xyt, ob_u, component=0)\n",
    "\n",
    "# Training datasets and Loss\n",
    "data = dde.data.TimePDE(\n",
    "    geomtime,\n",
    "    Wave_Equation,\n",
    "    [observe_u],\n",
    "    num_domain=700,\n",
    "    num_boundary=200,\n",
    "    num_initial=100,\n",
    "    anchors=ob_xyt,\n",
    ")\n",
    "\n",
    "# Neural Network setup\n",
    "layer_size = [3] + [100] * 3 + [1]\n",
    "activation = \"tanh\"\n",
    "initializer = \"Glorot uniform\"\n",
    "net = dde.nn.STMsFFN(layer_size, activation, initializer, sigmas_x=[1, 5], sigmas_t=[1, 5])\n",
    "net.apply_feature_transform(lambda x: (x - 0.5) * 2 * np.sqrt(3))\n",
    "path = \"./../output/inverse_acoustic_wave//model\"\n",
    "os.makedirs(path, exist_ok=True)\n",
    "checkpoint_path = os.path.join(path, \"model.ckpt\")\n",
    "checker = dde.callbacks.ModelCheckpoint(\n",
    "      checkpoint_path, save_better_only=True, period=50\n",
    "  )\n",
    "model = dde.Model(data, net)\n",
    "\n",
    "fnamevar = \"./../output/inverse_acoustic_wave/variables.dat\"\n",
    "variable = dde.callbacks.VariableValue([C1], period=100, filename=fnamevar)\n",
    "\n",
    "initial_losses = get_initial_loss(model)\n",
    "loss_weights = 5 / initial_losses\n",
    "model.compile(\n",
    "    \"adam\",\n",
    "    lr=0.001,\n",
    "    external_trainable_variables=[C1],\n",
    "    loss_weights=loss_weights,\n",
    "    decay=(\"inverse time\", 2000, 0.9),\n",
    ")\n",
    "\n",
    "pde_residual_resampler = dde.callbacks.PDEPointResampler(period=100) # Use pde residual sampler every 100 iterations\n",
    "losshistory, train_state = model.train(\n",
    "    iterations=1000000,  callbacks=[checker, pde_residual_resampler, variable], display_every=500\n",
    ")\n",
    "\n",
    "dde.saveplot(losshistory, train_state, issave=True, isplot=True, output_dir=\"./../output/inverse_acoustic_wave/\")\n"
   ]
  },
  {
   "cell_type": "markdown",
   "metadata": {
    "id": "8OWdRsE3TcJE"
   },
   "source": [
    "# Predict Solution\n",
    "The prediction of variable $c$ can be founded in the file \"variables.dat\" which is genereated during the training."
   ]
  },
  {
   "cell_type": "code",
   "execution_count": null,
   "metadata": {
    "id": "ckarQf_xw7xs"
   },
   "outputs": [],
   "source": [
    "x = np.linspace(0, 1, 101)\n",
    "y = np.linspace(0, 1, 101)\n",
    "t = np.linspace(0, 0.1, 101)\n",
    "xv, yv, tv = np.meshgrid(x, y, t)\n",
    "\n",
    "x_test = xv.flatten()[:,None]\n",
    "y_test = yv.flatten()[:,None]\n",
    "t_test = tv.flatten()[:,None]\n",
    "\n",
    "ob_xyt = np.hstack((x_test, y_test, t_test))\n",
    "pred = model.predict(ob_xyt)\n",
    "pred2 = pred.reshape((101,101,101))"
   ]
  }
 ],
 "metadata": {
  "accelerator": "GPU",
  "colab": {
   "gpuType": "T4",
   "provenance": []
  },
  "kernelspec": {
   "display_name": "Python 3 (ipykernel)",
   "language": "python",
   "name": "python3"
  },
  "language_info": {
   "codemirror_mode": {
    "name": "ipython",
    "version": 3
   },
   "file_extension": ".py",
   "mimetype": "text/x-python",
   "name": "python",
   "nbconvert_exporter": "python",
   "pygments_lexer": "ipython3",
   "version": "3.10.8"
  }
 },
 "nbformat": 4,
 "nbformat_minor": 1
}
