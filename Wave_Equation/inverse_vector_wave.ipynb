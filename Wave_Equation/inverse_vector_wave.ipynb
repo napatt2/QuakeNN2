{
 "cells": [
  {
   "cell_type": "code",
   "execution_count": null,
   "metadata": {
    "colab": {
     "base_uri": "https://localhost:8080/"
    },
    "id": "iY1RTSFHmHVY",
    "outputId": "ea7c79ab-e95d-46b1-ae36-65ccd13bdeda"
   },
   "outputs": [],
   "source": [
    "import deepxde as dde\n",
    "import numpy as np\n",
    "import matplotlib.pyplot as plt\n",
    "from matplotlib import cm\n",
    "from scipy.io import loadmat\n",
    "from mpl_toolkits.mplot3d import axes3d\n",
    "import pickle\n",
    "import os"
   ]
  },
  {
   "cell_type": "markdown",
   "metadata": {
    "id": "06ZO-7LynuMT"
   },
   "source": [
    "# Formulation of the Problem\n",
    "Our goal is to estimate $\\frac{\\lambda+\\mu}{\\mu}$ of the vector wave equation, given the dataset of $u$ and $w$. The formulation can be written as follows:\n",
    "\n",
    "\\begin{align}\n",
    "\\frac{\\partial^2 u}{\\partial\\tau^2} = \\left(\\frac{\\partial^2 u}{\\partial x^2} + \\frac{\\partial^2 u}{\\partial y^2}\\right) + \\left(\\frac{\\lambda+\\mu}{\\mu}\\right)\\left(\\frac{\\partial^2 u}{\\partial x^2} + \\frac{\\partial^2 w}{\\partial x \\partial y}\\right)\\\\\n",
    "\\frac{\\partial^2 w}{\\partial\\tau^2} = \\left(\\frac{\\partial^2 w}{\\partial x^2} + \\frac{\\partial^2 w}{\\partial y^2}\\right) + \\left(\\frac{\\lambda+\\mu}{\\mu}\\right)\\left(\\frac{\\partial^2 u}{\\partial x \\partial y} + \\frac{\\partial^2 w}{\\partial y^2}\\right)\n",
    "    \\end{align}\n",
    "\n",
    "The true value of $\\frac{\\lambda+\\mu}{\\mu}$ is $\\frac{50+30}{30} = 2.667$."
   ]
  },
  {
   "cell_type": "code",
   "execution_count": null,
   "metadata": {
    "id": "HWyvX30FmI2i"
   },
   "outputs": [],
   "source": [
    "# Import .mat file\n",
    "data = loadmat('./../Dataset/vector_2nd.mat')\n",
    "u = data['u_log'].transpose(1, 0, 2)\n",
    "w = data['v_log'].transpose(1, 0, 2)\n",
    "tspan = data['tspan']"
   ]
  },
  {
   "cell_type": "markdown",
   "metadata": {},
   "source": [
    "- **Grid Creation:**\n",
    "  - `x = np.arange(0, 1.01, 0.01)` and `y = np.arange(0, 1.01, 0.01)` generate equidistant spatial points from 0 to 1 (step 0.01).\n",
    "  - `t = tspan.reshape(-1)` creates a 1D array of time points (assumed equidistant over the given span).\n",
    "\n",
    "- **Index Selection:**\n",
    "  - `x_indices` and `y_indices` select every 10th point in `x` and `y` (using `np.arange(0, len(x), 10)`).\n",
    "  - `t_indices` includes every time step (using `np.arange(0, len(t), 1)`).\n",
    "\n",
    "- **Meshgrid and Data Assembly:**\n",
    "  - A meshgrid is created with `x[x_indices]`, `y[y_indices]`, and `t[t_indices]` to form spatial-temporal grids: `xv`, `yv`, `tv`.\n",
    "  - `xyt_train` is built by reshaping and horizontally stacking the meshgrid arrays into a list of (x, y, t) points.\n",
    "\n",
    "- **Extracting Training Data:**\n",
    "  - `u_train` and `w_train` are extracted from the full `u` and `w` arrays using advanced indexing with the selected indices, then reshaped into column vectors.\n",
    "\n",
    "- **Boundary Condition Observations:**\n",
    "  - `observe_u` and `observe_w` are defined as point-set boundary conditions using `dde.icbc.PointSetBC` for components 0 and 1, respectively."
   ]
  },
  {
   "cell_type": "code",
   "execution_count": null,
   "metadata": {
    "colab": {
     "base_uri": "https://localhost:8080/"
    },
    "id": "fXlAAl7CmReL",
    "outputId": "241a6b50-5a62-4cbe-a277-8e45788795d5"
   },
   "outputs": [],
   "source": [
    "x = np.arange(0, 1.01, 0.01)  # Equidistant spacing from 0 to 1 with step size 0.01\n",
    "y = np.arange(0, 1.01, 0.01)  # Equidistant spacing from 0 to 1 with step size 0.01\n",
    "t = tspan.reshape(-1)  # Equidistant spacing from 0 to 0.001 with step size 0.0001\n",
    "\n",
    "# Get indices of every 10 points in space and every time step\n",
    "x_indices = np.arange(0, len(x), 10)\n",
    "y_indices = np.arange(0, len(y), 10)\n",
    "t_indices = np.arange(0, len(t), 1)\n",
    "\n",
    "# Create meshgrid using every 10 points in space and every time step\n",
    "xv, yv, tv = np.meshgrid(x[x_indices], y[y_indices], t[t_indices])\n",
    "xyt_train = np.hstack((xv.reshape(-1,1), yv.reshape(-1,1), tv.reshape(-1,1)))\n",
    "\n",
    "u_train = u[x_indices[:, None, None], y_indices[None, :, None], t_indices[None, None, :]].reshape(-1,1)\n",
    "w_train = w[x_indices[:, None, None], y_indices[None, :, None], t_indices[None, None, :]].reshape(-1,1)\n",
    "\n",
    "print(xyt_train.shape, u_train.shape)\n",
    "\n",
    "observe_u = dde.icbc.PointSetBC(xyt_train, u_train, component=0)\n",
    "observe_w = dde.icbc.PointSetBC(xyt_train, w_train, component=1)"
   ]
  },
  {
   "cell_type": "code",
   "execution_count": null,
   "metadata": {
    "colab": {
     "base_uri": "https://localhost:8080/",
     "height": 508
    },
    "id": "Q2CvEp9qmZh7",
    "outputId": "a6ae2ef1-cac1-4b94-f23f-806ac47ab425"
   },
   "outputs": [],
   "source": [
    "plt.rcParams[\"figure.figsize\"] = [8.00, 5]\n",
    "plt.rcParams[\"figure.autolayout\"] = True\n",
    "fig = plt.figure()\n",
    "ax = fig.add_subplot(111, projection='3d')\n",
    "img = ax.scatter(xv, yv, tv, c= w_train , cmap='YlOrRd', alpha=1)\n",
    "fig.colorbar(img)\n",
    "ax.set_xlabel('x')\n",
    "ax.set_ylabel('y')\n",
    "ax.set_zlabel('t')\n",
    "plt.show()"
   ]
  },
  {
   "cell_type": "markdown",
   "metadata": {},
   "source": [
    "- **Parameter Specification:**\n",
    "  - `lamb = 50` and `mu = 30` set the values for the parameters lambda and mu.\n",
    "  - `Ctrue = (lamb+mu)/mu` computes the true value of C as the ratio of (lambda + mu) to mu.\n",
    "  - The computed `Ctrue` is printed to the console.\n",
    "\n",
    "- **Initial Guess for C:**\n",
    "  - `C = dde.Variable(2.0)` defines an initial guess for the parameter C as a trainable variable with an initial value of 2.0."
   ]
  },
  {
   "cell_type": "code",
   "execution_count": null,
   "metadata": {
    "colab": {
     "base_uri": "https://localhost:8080/"
    },
    "id": "JtuDmkxbmgf3",
    "outputId": "0c8cad4f-f144-40d9-b1ae-94f65c29aa7e"
   },
   "outputs": [],
   "source": [
    "# Specify parameters lambda, mu\n",
    "lamb = 50\n",
    "mu = 30\n",
    "Ctrue = (lamb+mu)/mu\n",
    "print(Ctrue)\n",
    "\n",
    "# Define initial guess for C\n",
    "C = dde.Variable(2.0)"
   ]
  },
  {
   "cell_type": "markdown",
   "metadata": {},
   "source": [
    "**Function: `pde(x, y)`**\n",
    "- Defines the PDE loss by computing second derivatives (Hessians) for two outputs:\n",
    "  - For `u` (component 0): computes `du_xx`, `du_yy`, `du_xy`, and `du_tt`.\n",
    "  - For `w` (component 1): computes `dw_xx`, `dw_yy`, `dw_xy`, and `dw_tt`.\n",
    "- Returns two residuals:\n",
    "  - Residual for `u`: `- du_tt + (du_xx + du_yy) + C*(du_xx + dw_xy)`\n",
    "  - Residual for `w`: `- dw_tt + (dw_xx + dw_yy) + C*(dw_yy + du_xy)`\n",
    "\n",
    "**Function: `get_initial_loss(model)`**\n",
    "- Compiles the model and runs a 0-iteration training to obtain the initial loss.\n",
    "- Returns the first training loss value from `losshistory`."
   ]
  },
  {
   "cell_type": "code",
   "execution_count": null,
   "metadata": {
    "id": "jiLzExcDmpKh"
   },
   "outputs": [],
   "source": [
    "def pde(x, y):\n",
    "    '''Define a system of PDE to be used as loss function\n",
    "      Input  x: input neurons representing (x, y, t)\n",
    "              y: output from neuron network (u, w)\n",
    "\n",
    "      Return a list of equations to be used in loss function'''\n",
    "\n",
    "    du_xx = dde.grad.hessian(y, x, component=0, i=0, j=0)\n",
    "    du_yy = dde.grad.hessian(y, x, component=0, i=1, j=1)\n",
    "    du_xy = dde.grad.hessian(y, x, component=0, i=0, j=1)\n",
    "    du_tt = dde.grad.hessian(y, x, component=0, i=2, j=2)\n",
    "\n",
    "    dw_xx = dde.grad.hessian(y, x, component=1, i=0, j=0)\n",
    "    dw_yy = dde.grad.hessian(y, x, component=1, i=1, j=1)\n",
    "    dw_xy = dde.grad.hessian(y, x, component=1, i=0, j=1)\n",
    "    dw_tt = dde.grad.hessian(y, x, component=1, i=2, j=2)\n",
    "\n",
    "    return [- du_tt + (du_xx + du_yy) + C*(du_xx + dw_xy),\n",
    "            - dw_tt + (dw_xx + dw_yy) + C*(dw_yy + du_xy)]\n",
    "\n",
    "def get_initial_loss(model):\n",
    "    # get loss of the first iteration to weight the loss function\n",
    "    model.compile(\"adam\", lr=0.001)\n",
    "    losshistory, train_state = model.train(0)\n",
    "    return losshistory.loss_train[0]"
   ]
  },
  {
   "cell_type": "markdown",
   "metadata": {
    "id": "JkKn2PSAqEGD"
   },
   "source": [
    "# Neural Network Setup and Train Model\n",
    "\n",
    "- **Domain Setup:**\n",
    "  - **Spatial Domain:** `[0, 1] × [0, 1]` defined with `dde.geometry.Rectangle`.\n",
    "  - **Time Domain:** `[0, 0.1]` defined with `dde.geometry.TimeDomain` (comment suggests `[0, 0.001]`).\n",
    "  - **Spatio-Temporal Domain:** Combined using `dde.geometry.GeometryXTime`.\n",
    "\n",
    "- **Data Preparation:**\n",
    "  - Creates PDE data with `dde.data.TimePDE` using:\n",
    "    - The combined domain (`geomtime`)\n",
    "    - PDE function (`pde`)\n",
    "    - Observations `[observe_u, observe_w]`\n",
    "    - 700 domain points, 10,000 test points, and anchors (`xyt_train`).\n",
    "\n",
    "- **Neural Network Setup:**\n",
    "  - **Architecture:** `layer_size = [3] + [100]*3 + [2]` (3 inputs, 3 hidden layers of 100 neurons, 2 outputs).\n",
    "  - **Activation & Initializer:** `\"tanh\"` and `\"Glorot uniform\"`.\n",
    "  - **Network Creation:** Built with `dde.nn.STMsFFN` (with `sigmas_x=[1, 5]`, `sigmas_t=[1, 5]`) and a feature transform is applied.\n",
    "\n",
    "- **Model Configuration:**\n",
    "  - Model is assembled via `dde.Model(data, net)`.\n",
    "  - Initial loss is computed to set `loss_weights = 5 / initial_losses`.\n",
    "  - Compiled with the Adam optimizer (`lr=0.001`), inverse time decay, and an external trainable variable `[C]`.\n",
    "\n",
    "- **Callbacks and Training:**\n",
    "  - **Checkpoint:** Saves the model every 50 iterations.\n",
    "  - **PDE Residual Resampler:** Resamples PDE and BC points every iteration (period=1).\n",
    "  - **Variable Callback:** Logs the value of `C` every 100 iterations.\n",
    "  - Trains for 5000 iterations (displaying every 500 iterations); a comment notes that 200,000 iterations may be needed for accurate prediction.\n",
    "\n",
    "- **Post-Training:**\n",
    "  - Saves and plots the training history and state using `dde.saveplot` in the specified output directory."
   ]
  },
  {
   "cell_type": "code",
   "execution_count": null,
   "metadata": {
    "colab": {
     "base_uri": "https://localhost:8080/",
     "height": 1000
    },
    "id": "tq7X2nnkm0v7",
    "outputId": "189cfec1-b278-4d0a-c399-0510e9dfce19"
   },
   "outputs": [],
   "source": [
    "# Spatial domain: X × Y = [0, 1] × [0, 1]\n",
    "Lx_min, Lx_max = 0.0, 1.0\n",
    "Ly_min, Ly_max = 0.0, 1.0\n",
    "space_domain = dde.geometry.Rectangle([Lx_min, Ly_min], [Lx_max, Ly_max])\n",
    "\n",
    "# Time domain: T = [0, 0.001]\n",
    "time_domain = dde.geometry.TimeDomain(0.0, 0.1)\n",
    "\n",
    "# Spatio-temporal domain\n",
    "geomtime = dde.geometry.GeometryXTime(space_domain, time_domain)\n",
    "\n",
    "data = dde.data.TimePDE(\n",
    "    geomtime,\n",
    "    pde,\n",
    "    [observe_u, observe_w],\n",
    "    num_domain=700,\n",
    "    num_test=10000,\n",
    "    anchors=xyt_train,\n",
    ")\n",
    "\n",
    "layer_size = [3] + [100] * 3 + [2]\n",
    "activation = \"tanh\"\n",
    "initializer = \"Glorot uniform\"\n",
    "net = dde.nn.STMsFFN(\n",
    "    layer_size, activation, initializer, sigmas_x=[1, 5], sigmas_t=[1, 5]\n",
    ")\n",
    "net.apply_feature_transform(lambda x: (x - 0.5) * 2 * np.sqrt(3))\n",
    "\n",
    "model = dde.Model(data, net)\n",
    "initial_losses = get_initial_loss(model)\n",
    "loss_weights = 5 / initial_losses\n",
    "\n",
    "model.compile(\n",
    "    \"adam\",\n",
    "    lr=0.001,\n",
    "    loss_weights=loss_weights,\n",
    "    decay=(\"inverse time\", 2000, 0.9),\n",
    "    external_trainable_variables=[C],\n",
    ")\n",
    "\n",
    "path = \"./../output/inverse_vector_wave/model\"\n",
    "os.makedirs(path, exist_ok=True)\n",
    "checkpoint_path = os.path.join(path, \"model.ckpt\")\n",
    "checker = dde.callbacks.ModelCheckpoint(\n",
    "      checkpoint_path, save_better_only=True, period=50\n",
    "  )\n",
    "\n",
    "pde_residual_resampler = dde.callbacks.PDEPointResampler(period=1, pde_points=True, bc_points=True)\n",
    "\n",
    "fnamevar = \"./../output/inverse_vector_wave/variables.dat\"\n",
    "variable = dde.callbacks.VariableValue([C], period=100, filename=fnamevar)\n",
    "\n",
    "losshistory, train_state = model.train(\n",
    "    iterations=5000, callbacks=[pde_residual_resampler, variable, checker], display_every=500\n",
    ") # to obtain accurate prediction, number of iterations should be 200000\n",
    "\n",
    "dde.saveplot(losshistory, train_state, issave=True, isplot=True, output_dir=\"./../output/inverse_vector_wave/\")"
   ]
  },
  {
   "cell_type": "markdown",
   "metadata": {
    "id": "hsZ6BgoZqe6U"
   },
   "source": [
    "# Predict the Solutions\n",
    "\n",
    "- **Define the Prediction Domain:**\n",
    "  - Generate 101 evenly spaced points for `x` and `y` in [0, 1] and for `t` in [0, 0.1].\n",
    "  - Create a 3D meshgrid with `np.meshgrid(x, y, t)`.\n",
    "  - Flatten the meshgrid arrays into column vectors (`x_test`, `y_test`, `t_test`) and combine them into a single array `ob_xyt` containing (x, y, t) coordinates.\n",
    "\n",
    "- **Prediction and Saving:**\n",
    "  - Use the trained model to predict the solution on the prediction domain:  \n",
    "    `pred = model.predict(ob_xyt)`\n",
    "  - Save the prediction results to a pickle file (`objs.pkl`) in the specified output directory."
   ]
  },
  {
   "cell_type": "code",
   "execution_count": null,
   "metadata": {
    "id": "uF4-NQvXnLOX"
   },
   "outputs": [],
   "source": [
    "# Define the prediction domain\n",
    "x = np.linspace(0, 1, 101)\n",
    "y = np.linspace(0, 1, 101)\n",
    "t = np.linspace(0, 0.1, 101)\n",
    "xv, yv, tv = np.meshgrid(x, y, t)\n",
    "\n",
    "x_test = xv.flatten()[:,None]\n",
    "y_test = yv.flatten()[:,None]\n",
    "t_test = tv.flatten()[:,None]\n",
    "ob_xyt = np.hstack((x_test, y_test, t_test))\n",
    "\n",
    "# Predict the solutions\n",
    "pred = model.predict(ob_xyt)\n",
    "\n",
    "with open('./../output/inverse_vector_wave/objs.pkl', 'wb') as f:\n",
    "    pickle.dump(pred, f)\n"
   ]
  },
  {
   "cell_type": "code",
   "execution_count": null,
   "metadata": {},
   "outputs": [],
   "source": []
  }
 ],
 "metadata": {
  "accelerator": "GPU",
  "colab": {
   "gpuType": "T4",
   "provenance": []
  },
  "kernelspec": {
   "display_name": "new_env",
   "language": "python",
   "name": "python3"
  },
  "language_info": {
   "codemirror_mode": {
    "name": "ipython",
    "version": 3
   },
   "file_extension": ".py",
   "mimetype": "text/x-python",
   "name": "python",
   "nbconvert_exporter": "python",
   "pygments_lexer": "ipython3",
   "version": "3.10.8"
  }
 },
 "nbformat": 4,
 "nbformat_minor": 1
}
